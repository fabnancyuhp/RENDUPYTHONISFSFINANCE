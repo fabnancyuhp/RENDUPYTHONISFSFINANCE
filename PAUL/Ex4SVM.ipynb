{
  "nbformat": 4,
  "nbformat_minor": 0,
  "metadata": {
    "kernelspec": {
      "display_name": "Python 3",
      "language": "python",
      "name": "python3"
    },
    "language_info": {
      "codemirror_mode": {
        "name": "ipython",
        "version": 3
      },
      "file_extension": ".py",
      "mimetype": "text/x-python",
      "name": "python",
      "nbconvert_exporter": "python",
      "pygments_lexer": "ipython3",
      "version": "3.7.4"
    },
    "colab": {
      "name": "Ex4SVM.ipynb",
      "provenance": [],
      "include_colab_link": true
    }
  },
  "cells": [
    {
      "cell_type": "markdown",
      "metadata": {
        "id": "view-in-github",
        "colab_type": "text"
      },
      "source": [
        "<a href=\"https://colab.research.google.com/github/fabnancyuhp/RENDUPYTHONISFSTAT/blob/master/Ex4SVM.ipynb\" target=\"_parent\"><img src=\"https://colab.research.google.com/assets/colab-badge.svg\" alt=\"Open In Colab\"/></a>"
      ]
    },
    {
      "cell_type": "code",
      "metadata": {
        "id": "R-_t7kgAUpoO",
        "colab_type": "code",
        "colab": {},
        "outputId": "c46f15b2-ee86-40b7-b46a-ea069b22e419"
      },
      "source": [
        "#Exo 4 SVM\n",
        "\n",
        "import pandas as pd\n",
        "import numpy as np\n",
        "rep = \"C:/Users/kraepa19/Downloads/credit.pkl\"\n",
        "DATA_CREDIT = pd.read_pickle(rep)\n",
        "DATA_CREDIT['A16'].loc[(DATA_CREDIT['A16']=='+')]=1\n",
        "DATA_CREDIT['A16'].loc[(DATA_CREDIT['A16']=='-')]=0\n",
        "DATA_CREDIT.head(2)\n",
        "\n"
      ],
      "execution_count": 0,
      "outputs": [
        {
          "output_type": "stream",
          "text": [
            "C:\\ProgramData\\Anaconda3\\lib\\site-packages\\pandas\\core\\indexing.py:205: SettingWithCopyWarning: \n",
            "A value is trying to be set on a copy of a slice from a DataFrame\n",
            "\n",
            "See the caveats in the documentation: http://pandas.pydata.org/pandas-docs/stable/user_guide/indexing.html#returning-a-view-versus-a-copy\n",
            "  self._setitem_with_indexer(indexer, value)\n"
          ],
          "name": "stderr"
        },
        {
          "output_type": "execute_result",
          "data": {
            "text/html": [
              "<div>\n",
              "<style scoped>\n",
              "    .dataframe tbody tr th:only-of-type {\n",
              "        vertical-align: middle;\n",
              "    }\n",
              "\n",
              "    .dataframe tbody tr th {\n",
              "        vertical-align: top;\n",
              "    }\n",
              "\n",
              "    .dataframe thead th {\n",
              "        text-align: right;\n",
              "    }\n",
              "</style>\n",
              "<table border=\"1\" class=\"dataframe\">\n",
              "  <thead>\n",
              "    <tr style=\"text-align: right;\">\n",
              "      <th></th>\n",
              "      <th>A2</th>\n",
              "      <th>A3</th>\n",
              "      <th>A8</th>\n",
              "      <th>A11</th>\n",
              "      <th>A14</th>\n",
              "      <th>A15</th>\n",
              "      <th>A1_a</th>\n",
              "      <th>A1_b</th>\n",
              "      <th>A4_l</th>\n",
              "      <th>A4_u</th>\n",
              "      <th>...</th>\n",
              "      <th>A9_f</th>\n",
              "      <th>A9_t</th>\n",
              "      <th>A10_f</th>\n",
              "      <th>A10_t</th>\n",
              "      <th>A12_f</th>\n",
              "      <th>A12_t</th>\n",
              "      <th>A13_g</th>\n",
              "      <th>A13_p</th>\n",
              "      <th>A13_s</th>\n",
              "      <th>A16</th>\n",
              "    </tr>\n",
              "  </thead>\n",
              "  <tbody>\n",
              "    <tr>\n",
              "      <td>0</td>\n",
              "      <td>30.83</td>\n",
              "      <td>0.00</td>\n",
              "      <td>1.25</td>\n",
              "      <td>1.0</td>\n",
              "      <td>202.0</td>\n",
              "      <td>0.0</td>\n",
              "      <td>0</td>\n",
              "      <td>1</td>\n",
              "      <td>0</td>\n",
              "      <td>1</td>\n",
              "      <td>...</td>\n",
              "      <td>0</td>\n",
              "      <td>1</td>\n",
              "      <td>0</td>\n",
              "      <td>1</td>\n",
              "      <td>1</td>\n",
              "      <td>0</td>\n",
              "      <td>1</td>\n",
              "      <td>0</td>\n",
              "      <td>0</td>\n",
              "      <td>1</td>\n",
              "    </tr>\n",
              "    <tr>\n",
              "      <td>1</td>\n",
              "      <td>58.67</td>\n",
              "      <td>4.46</td>\n",
              "      <td>3.04</td>\n",
              "      <td>6.0</td>\n",
              "      <td>43.0</td>\n",
              "      <td>560.0</td>\n",
              "      <td>1</td>\n",
              "      <td>0</td>\n",
              "      <td>0</td>\n",
              "      <td>1</td>\n",
              "      <td>...</td>\n",
              "      <td>0</td>\n",
              "      <td>1</td>\n",
              "      <td>0</td>\n",
              "      <td>1</td>\n",
              "      <td>1</td>\n",
              "      <td>0</td>\n",
              "      <td>1</td>\n",
              "      <td>0</td>\n",
              "      <td>0</td>\n",
              "      <td>1</td>\n",
              "    </tr>\n",
              "  </tbody>\n",
              "</table>\n",
              "<p>2 rows × 47 columns</p>\n",
              "</div>"
            ],
            "text/plain": [
              "      A2    A3    A8  A11    A14    A15  A1_a  A1_b  A4_l  A4_u  ...  A9_f  \\\n",
              "0  30.83  0.00  1.25  1.0  202.0    0.0     0     1     0     1  ...     0   \n",
              "1  58.67  4.46  3.04  6.0   43.0  560.0     1     0     0     1  ...     0   \n",
              "\n",
              "   A9_t  A10_f  A10_t  A12_f  A12_t  A13_g  A13_p  A13_s  A16  \n",
              "0     1      0      1      1      0      1      0      0    1  \n",
              "1     1      0      1      1      0      1      0      0    1  \n",
              "\n",
              "[2 rows x 47 columns]"
            ]
          },
          "metadata": {
            "tags": []
          },
          "execution_count": 22
        }
      ]
    },
    {
      "cell_type": "code",
      "metadata": {
        "id": "upbtzTuGUpop",
        "colab_type": "code",
        "colab": {},
        "outputId": "e746cf30-4191-4807-d231-cb3cd0217036"
      },
      "source": [
        "DATA_CREDIT.columns"
      ],
      "execution_count": 0,
      "outputs": [
        {
          "output_type": "execute_result",
          "data": {
            "text/plain": [
              "Index(['A2', 'A3', 'A8', 'A11', 'A14', 'A15', 'A1_a', 'A1_b', 'A4_l', 'A4_u',\n",
              "       'A4_y', 'A5_g', 'A5_gg', 'A5_p', 'A6_aa', 'A6_c', 'A6_cc', 'A6_d',\n",
              "       'A6_e', 'A6_ff', 'A6_i', 'A6_j', 'A6_k', 'A6_m', 'A6_q', 'A6_r', 'A6_w',\n",
              "       'A6_x', 'A7_bb', 'A7_dd', 'A7_ff', 'A7_h', 'A7_j', 'A7_n', 'A7_o',\n",
              "       'A7_v', 'A7_z', 'A9_f', 'A9_t', 'A10_f', 'A10_t', 'A12_f', 'A12_t',\n",
              "       'A13_g', 'A13_p', 'A13_s', 'A16'],\n",
              "      dtype='object')"
            ]
          },
          "metadata": {
            "tags": []
          },
          "execution_count": 23
        }
      ]
    },
    {
      "cell_type": "code",
      "metadata": {
        "id": "LuRWqhX3Upo1",
        "colab_type": "code",
        "colab": {}
      },
      "source": [
        "#Question 1\n",
        "\n",
        "from sklearn.model_selection import train_test_split\n",
        "var_feature = [o for o in DATA_CREDIT.columns if o!='A16']\n",
        "X = DATA_CREDIT[var_feature]\n",
        "Y = DATA_CREDIT['A16']\n",
        "X_train, X_test, Y_train, Y_test = train_test_split(X,Y,test_size=0.25,\\\n",
        "random_state=2018)\n"
      ],
      "execution_count": 0,
      "outputs": []
    },
    {
      "cell_type": "code",
      "metadata": {
        "id": "q7hoPkjIUppA",
        "colab_type": "code",
        "colab": {}
      },
      "source": [
        "#Question 2\n",
        "\n",
        "from sklearn.preprocessing import StandardScaler\n",
        "scale = StandardScaler()\n",
        "scale.fit(X_train)\n",
        "X_train_scaled = scale.transform(X_train)\n",
        "X_test_scaler = scale.transform(X_test)"
      ],
      "execution_count": 0,
      "outputs": []
    },
    {
      "cell_type": "code",
      "metadata": {
        "id": "trie3QYxUppL",
        "colab_type": "code",
        "colab": {},
        "outputId": "3deab66a-8b53-46ca-f920-477514ee596a"
      },
      "source": [
        "#Question 3\n",
        "\n",
        "from sklearn.svm import SVC\n",
        "clf = SVC(C=1,kernel='linear')\n",
        "clf.fit(X_train_scaled,Y_train)\n",
        "clf\n"
      ],
      "execution_count": 0,
      "outputs": [
        {
          "output_type": "execute_result",
          "data": {
            "text/plain": [
              "SVC(C=1, cache_size=200, class_weight=None, coef0=0.0,\n",
              "    decision_function_shape='ovr', degree=3, gamma='auto_deprecated',\n",
              "    kernel='linear', max_iter=-1, probability=False, random_state=None,\n",
              "    shrinking=True, tol=0.001, verbose=False)"
            ]
          },
          "metadata": {
            "tags": []
          },
          "execution_count": 26
        }
      ]
    },
    {
      "cell_type": "code",
      "metadata": {
        "id": "XJLUGaE7UppS",
        "colab_type": "code",
        "colab": {},
        "outputId": "68fe520f-a1b9-4801-afe2-eca03519b93b"
      },
      "source": [
        "#Question 4\n",
        "\n",
        "from sklearn.metrics import r2_score\n",
        "Y_pred = clf.predict(X_test_scaler)\n",
        "r2_score(Y_test,Y_pred)\n",
        "\n",
        "from sklearn.metrics import precision_score\n",
        "precision = precision_score(Y_test,Y_pred)\n",
        "precision"
      ],
      "execution_count": 0,
      "outputs": [
        {
          "output_type": "execute_result",
          "data": {
            "text/plain": [
              "0.8481012658227848"
            ]
          },
          "metadata": {
            "tags": []
          },
          "execution_count": 27
        }
      ]
    },
    {
      "cell_type": "code",
      "metadata": {
        "id": "OFxXp4s7Uppd",
        "colab_type": "code",
        "colab": {},
        "outputId": "f434b72c-d41e-42cb-b592-cd62151101d4"
      },
      "source": [
        "#Question 5\n",
        "\n",
        "from sklearn.svm import SVC\n",
        "clf = SVC(C=1,kernel='rbf',gamma = 1/40, probability = True)\n",
        "clf.fit(X_train_scaled,Y_train)\n",
        "clf"
      ],
      "execution_count": 0,
      "outputs": [
        {
          "output_type": "execute_result",
          "data": {
            "text/plain": [
              "SVC(C=1, cache_size=200, class_weight=None, coef0=0.0,\n",
              "    decision_function_shape='ovr', degree=3, gamma=0.025, kernel='rbf',\n",
              "    max_iter=-1, probability=True, random_state=None, shrinking=True, tol=0.001,\n",
              "    verbose=False)"
            ]
          },
          "metadata": {
            "tags": []
          },
          "execution_count": 28
        }
      ]
    },
    {
      "cell_type": "code",
      "metadata": {
        "id": "hmVtcCl9Uppk",
        "colab_type": "code",
        "colab": {},
        "outputId": "6bf86c15-c909-4197-b787-209be717c3b1"
      },
      "source": [
        "#Question 6\n",
        "\n",
        "from sklearn.metrics import r2_score\n",
        "Y_pred = clf.predict(X_test_scaler)\n",
        "r2_score(Y_test,Y_pred)\n",
        "\n",
        "from sklearn.metrics import precision_score\n",
        "precision = precision_score(Y_test,Y_pred)\n",
        "precision"
      ],
      "execution_count": 0,
      "outputs": [
        {
          "output_type": "execute_result",
          "data": {
            "text/plain": [
              "0.8625"
            ]
          },
          "metadata": {
            "tags": []
          },
          "execution_count": 29
        }
      ]
    },
    {
      "cell_type": "code",
      "metadata": {
        "id": "4mmKBzL_Uppr",
        "colab_type": "code",
        "colab": {},
        "outputId": "a0e93139-6734-490e-92a3-190f60470b18"
      },
      "source": [
        "#Question 7\n",
        "Y_test_score_proba=clf.predict_proba(X_test_scaler)[:,1]\n",
        "\n",
        "Y_test_score_proba\n"
      ],
      "execution_count": 0,
      "outputs": [
        {
          "output_type": "execute_result",
          "data": {
            "text/plain": [
              "array([0.08068365, 0.07122341, 0.90042284, 0.08458102, 0.61404129,\n",
              "       0.84219463, 0.93746314, 0.07209565, 0.85934634, 0.01574833,\n",
              "       0.86529264, 0.93306283, 0.83124194, 0.8896447 , 0.06805874,\n",
              "       0.93481319, 0.80765858, 0.042818  , 0.9090068 , 0.92629028,\n",
              "       0.05812723, 0.06126567, 0.94289121, 0.0436099 , 0.06989171,\n",
              "       0.92557914, 0.13016119, 0.06897065, 0.11552465, 0.02602928,\n",
              "       0.52364457, 0.86413141, 0.07621171, 0.88860693, 0.88345891,\n",
              "       0.8487533 , 0.01034915, 0.04126038, 0.85846652, 0.94248998,\n",
              "       0.04077505, 0.0787592 , 0.54320994, 0.87091529, 0.64538805,\n",
              "       0.0523522 , 0.93267701, 0.92127512, 0.01622895, 0.13028124,\n",
              "       0.07576724, 0.10383208, 0.04698209, 0.8977011 , 0.07546646,\n",
              "       0.88082068, 0.14987638, 0.05599287, 0.06839354, 0.07959977,\n",
              "       0.82782207, 0.47458061, 0.23574962, 0.90513737, 0.23484548,\n",
              "       0.84918607, 0.10506639, 0.10039949, 0.47352246, 0.06827739,\n",
              "       0.91435473, 0.89643312, 0.91413527, 0.05311653, 0.01647893,\n",
              "       0.88903135, 0.89153187, 0.01651226, 0.08507871, 0.81611183,\n",
              "       0.05073783, 0.90519017, 0.82480359, 0.05062596, 0.01851665,\n",
              "       0.91668067, 0.11902914, 0.09008668, 0.9166258 , 0.85807307,\n",
              "       0.93215477, 0.06411506, 0.05092867, 0.02045633, 0.37720692,\n",
              "       0.06535388, 0.01584135, 0.65309618, 0.94424452, 0.88950654,\n",
              "       0.0768401 , 0.91104469, 0.94772556, 0.85122959, 0.08362914,\n",
              "       0.93074866, 0.06043791, 0.18694535, 0.87710571, 0.13089148,\n",
              "       0.06934403, 0.06575443, 0.16467063, 0.06115517, 0.58113581,\n",
              "       0.91180288, 0.12966772, 0.64575908, 0.04447304, 0.77640098,\n",
              "       0.07143532, 0.05342589, 0.87161995, 0.82029844, 0.93012909,\n",
              "       0.43664394, 0.9196272 , 0.02060351, 0.57250153, 0.06815306,\n",
              "       0.90022778, 0.93710473, 0.84128456, 0.83493132, 0.9239831 ,\n",
              "       0.94187527, 0.03147925, 0.85663239, 0.46764091, 0.04684512,\n",
              "       0.83247472, 0.9463213 , 0.07192832, 0.07125215, 0.09099194,\n",
              "       0.24364554, 0.06024782, 0.12574298, 0.83776851, 0.91010158,\n",
              "       0.78758524, 0.08184281, 0.0125657 , 0.56400525, 0.12416767,\n",
              "       0.05876189, 0.0562187 , 0.0746361 , 0.9169056 , 0.05852806,\n",
              "       0.02538455, 0.13053483, 0.59537555, 0.8800277 ])"
            ]
          },
          "metadata": {
            "tags": []
          },
          "execution_count": 30
        }
      ]
    },
    {
      "cell_type": "code",
      "metadata": {
        "id": "C2Xlt20ZUppy",
        "colab_type": "code",
        "colab": {},
        "outputId": "e9171c8d-a153-4de1-dbdd-a90b0b1951af"
      },
      "source": [
        "\n",
        "import numpy as np\n",
        "from sklearn.metrics import roc_auc_score\n",
        "roc_auc_score(Y_test, Y_test_score_proba)"
      ],
      "execution_count": 0,
      "outputs": [
        {
          "output_type": "execute_result",
          "data": {
            "text/plain": [
              "0.9389461113599045"
            ]
          },
          "metadata": {
            "tags": []
          },
          "execution_count": 31
        }
      ]
    },
    {
      "cell_type": "code",
      "metadata": {
        "id": "Tk__JisDUpqH",
        "colab_type": "code",
        "colab": {},
        "outputId": "4ec7b850-70fd-4fc6-eb62-7ba7d07a6428"
      },
      "source": [
        "#Question 8\n",
        "import numpy as np\n",
        "from sklearn.model_selection import GridSearchCV\n",
        "param_grid = [{'degree': range(6),'gamma':[1/20,1/30,1/40], 'kernel':['poly'], 'C':np.linspace(0.1,10,25)}]\n",
        "base=SVC()\n",
        "\n",
        "clf2 = GridSearchCV(estimator=base, param_grid=param_grid,scoring='roc_auc',cv=4)\n",
        "clf2.fit(X_train_scaled,Y_train)"
      ],
      "execution_count": 0,
      "outputs": [
        {
          "output_type": "stream",
          "text": [
            "C:\\ProgramData\\Anaconda3\\lib\\site-packages\\sklearn\\model_selection\\_search.py:814: DeprecationWarning: The default of the `iid` parameter will change from True to False in version 0.22 and will be removed in 0.24. This will change numeric results when test-set sizes are unequal.\n",
            "  DeprecationWarning)\n"
          ],
          "name": "stderr"
        },
        {
          "output_type": "execute_result",
          "data": {
            "text/plain": [
              "GridSearchCV(cv=4, error_score='raise-deprecating',\n",
              "             estimator=SVC(C=1.0, cache_size=200, class_weight=None, coef0=0.0,\n",
              "                           decision_function_shape='ovr', degree=3,\n",
              "                           gamma='auto_deprecated', kernel='rbf', max_iter=-1,\n",
              "                           probability=False, random_state=None, shrinking=True,\n",
              "                           tol=0.001, verbose=False),\n",
              "             iid='warn', n_jobs=None,\n",
              "             param_grid=[{'C': array([ 0.1   ,  0.5125,  0.925 ,  1.3375,  1.75  ,  2.1625,  2.575 ,\n",
              "        2.9875,  3.4   ,  3.8125,  4.225 ,  4.6375,  5.05  ,  5.4625,\n",
              "        5.875 ,  6.2875,  6.7   ,  7.1125,  7.525 ,  7.9375,  8.35  ,\n",
              "        8.7625,  9.175 ,  9.5875, 10.    ]),\n",
              "                          'degree': range(0, 6),\n",
              "                          'gamma': [0.05, 0.03333333333333333, 0.025],\n",
              "                          'kernel': ['poly']}],\n",
              "             pre_dispatch='2*n_jobs', refit=True, return_train_score=False,\n",
              "             scoring='roc_auc', verbose=0)"
            ]
          },
          "metadata": {
            "tags": []
          },
          "execution_count": 32
        }
      ]
    },
    {
      "cell_type": "code",
      "metadata": {
        "id": "47juWfVBUpqM",
        "colab_type": "code",
        "colab": {},
        "outputId": "372b4b2d-f9ad-4860-b5ea-7ba2ab4c41c2"
      },
      "source": [
        "\n",
        "clf2.best_params_\n"
      ],
      "execution_count": 0,
      "outputs": [
        {
          "output_type": "execute_result",
          "data": {
            "text/plain": [
              "{'C': 0.1, 'degree': 1, 'gamma': 0.03333333333333333, 'kernel': 'poly'}"
            ]
          },
          "metadata": {
            "tags": []
          },
          "execution_count": 33
        }
      ]
    },
    {
      "cell_type": "code",
      "metadata": {
        "id": "IhTJH9jdUpqQ",
        "colab_type": "code",
        "colab": {},
        "outputId": "c5680d44-aa87-45fd-fef5-6ae8b778be3a"
      },
      "source": [
        "\n",
        "clf2.best_score_"
      ],
      "execution_count": 0,
      "outputs": [
        {
          "output_type": "execute_result",
          "data": {
            "text/plain": [
              "0.9284987717384557"
            ]
          },
          "metadata": {
            "tags": []
          },
          "execution_count": 34
        }
      ]
    },
    {
      "cell_type": "code",
      "metadata": {
        "id": "j7dsBm3AUpqV",
        "colab_type": "code",
        "colab": {},
        "outputId": "19cb458a-4279-4ce2-d8e6-7dd73544f0ab"
      },
      "source": [
        "from sklearn.svm import SVC\n",
        "clf3 = SVC(C=0.1,kernel='poly',gamma=0.0333333333333333,degree=1,probability=True)\n",
        "clf3.fit(X_train_scaled,Y_train)\n",
        "Y_test_score_proba=clf.predict_proba(X_test_scaler)[:,1]\n",
        "import numpy as np\n",
        "from sklearn.metrics import roc_auc_score\n",
        "roc_auc_score(Y_test, Y_test_score_proba)"
      ],
      "execution_count": 0,
      "outputs": [
        {
          "output_type": "execute_result",
          "data": {
            "text/plain": [
              "0.9389461113599045"
            ]
          },
          "metadata": {
            "tags": []
          },
          "execution_count": 35
        }
      ]
    }
  ]
}
