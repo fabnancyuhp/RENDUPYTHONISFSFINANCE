{
  "nbformat": 4,
  "nbformat_minor": 0,
  "metadata": {
    "kernelspec": {
      "display_name": "Python 3",
      "language": "python",
      "name": "python3"
    },
    "language_info": {
      "codemirror_mode": {
        "name": "ipython",
        "version": 3
      },
      "file_extension": ".py",
      "mimetype": "text/x-python",
      "name": "python",
      "nbconvert_exporter": "python",
      "pygments_lexer": "ipython3",
      "version": "3.6.5"
    },
    "colab": {
      "name": "Ex2NeuralNetworkRegressor.ipynb",
      "provenance": [],
      "include_colab_link": true
    }
  },
  "cells": [
    {
      "cell_type": "markdown",
      "metadata": {
        "id": "view-in-github",
        "colab_type": "text"
      },
      "source": [
        "<a href=\"https://colab.research.google.com/github/fabnancyuhp/RENDUPYTHONISFSTAT/blob/master/Ex2NeuralNetworkRegressor.ipynb\" target=\"_parent\"><img src=\"https://colab.research.google.com/assets/colab-badge.svg\" alt=\"Open In Colab\"/></a>"
      ]
    },
    {
      "cell_type": "markdown",
      "metadata": {
        "id": "9wo1vQw2VoDj",
        "colab_type": "text"
      },
      "source": [
        "Question 1 :"
      ]
    },
    {
      "cell_type": "code",
      "metadata": {
        "id": "jscRzrp2VoDp",
        "colab_type": "code",
        "colab": {},
        "outputId": "57ed515a-3eec-4741-cbc9-e8a39c2375e2"
      },
      "source": [
        "import pandas as pd \n",
        "rep = \"H:/Downloads/insurance.pkl\"\n",
        "assurance = pd.read_pickle(rep)\n",
        "assurance.head(3)"
      ],
      "execution_count": 0,
      "outputs": [
        {
          "output_type": "execute_result",
          "data": {
            "text/html": [
              "<div>\n",
              "<style scoped>\n",
              "    .dataframe tbody tr th:only-of-type {\n",
              "        vertical-align: middle;\n",
              "    }\n",
              "\n",
              "    .dataframe tbody tr th {\n",
              "        vertical-align: top;\n",
              "    }\n",
              "\n",
              "    .dataframe thead th {\n",
              "        text-align: right;\n",
              "    }\n",
              "</style>\n",
              "<table border=\"1\" class=\"dataframe\">\n",
              "  <thead>\n",
              "    <tr style=\"text-align: right;\">\n",
              "      <th></th>\n",
              "      <th>age</th>\n",
              "      <th>bmi</th>\n",
              "      <th>children</th>\n",
              "      <th>charges</th>\n",
              "      <th>sex_female</th>\n",
              "      <th>sex_male</th>\n",
              "      <th>smoker_no</th>\n",
              "      <th>smoker_yes</th>\n",
              "      <th>region_northeast</th>\n",
              "      <th>region_northwest</th>\n",
              "      <th>region_southeast</th>\n",
              "      <th>region_southwest</th>\n",
              "    </tr>\n",
              "  </thead>\n",
              "  <tbody>\n",
              "    <tr>\n",
              "      <th>0</th>\n",
              "      <td>19</td>\n",
              "      <td>27.90</td>\n",
              "      <td>0</td>\n",
              "      <td>16884.9240</td>\n",
              "      <td>1</td>\n",
              "      <td>0</td>\n",
              "      <td>0</td>\n",
              "      <td>1</td>\n",
              "      <td>0</td>\n",
              "      <td>0</td>\n",
              "      <td>0</td>\n",
              "      <td>1</td>\n",
              "    </tr>\n",
              "    <tr>\n",
              "      <th>1</th>\n",
              "      <td>18</td>\n",
              "      <td>33.77</td>\n",
              "      <td>1</td>\n",
              "      <td>1725.5523</td>\n",
              "      <td>0</td>\n",
              "      <td>1</td>\n",
              "      <td>1</td>\n",
              "      <td>0</td>\n",
              "      <td>0</td>\n",
              "      <td>0</td>\n",
              "      <td>1</td>\n",
              "      <td>0</td>\n",
              "    </tr>\n",
              "    <tr>\n",
              "      <th>2</th>\n",
              "      <td>28</td>\n",
              "      <td>33.00</td>\n",
              "      <td>3</td>\n",
              "      <td>4449.4620</td>\n",
              "      <td>0</td>\n",
              "      <td>1</td>\n",
              "      <td>1</td>\n",
              "      <td>0</td>\n",
              "      <td>0</td>\n",
              "      <td>0</td>\n",
              "      <td>1</td>\n",
              "      <td>0</td>\n",
              "    </tr>\n",
              "  </tbody>\n",
              "</table>\n",
              "</div>"
            ],
            "text/plain": [
              "   age    bmi  children     charges  sex_female  sex_male  smoker_no  \\\n",
              "0   19  27.90         0  16884.9240           1         0          0   \n",
              "1   18  33.77         1   1725.5523           0         1          1   \n",
              "2   28  33.00         3   4449.4620           0         1          1   \n",
              "\n",
              "   smoker_yes  region_northeast  region_northwest  region_southeast  \\\n",
              "0           1                 0                 0                 0   \n",
              "1           0                 0                 0                 1   \n",
              "2           0                 0                 0                 1   \n",
              "\n",
              "   region_southwest  \n",
              "0                 1  \n",
              "1                 0  \n",
              "2                 0  "
            ]
          },
          "metadata": {
            "tags": []
          },
          "execution_count": 1
        }
      ]
    },
    {
      "cell_type": "code",
      "metadata": {
        "id": "-Y8JZXnsVoEQ",
        "colab_type": "code",
        "colab": {}
      },
      "source": [
        "from sklearn.model_selection import train_test_split\n",
        "var_feature = [o for o in assurance.columns if o!='charges']\n",
        "X = assurance[var_feature]\n",
        "Y = assurance['charges']\n",
        "X_train, X_test, Y_train, Y_test = train_test_split(X,Y,test_size=0.20,\\\n",
        "random_state=2003)"
      ],
      "execution_count": 0,
      "outputs": []
    },
    {
      "cell_type": "markdown",
      "metadata": {
        "id": "kILoqHYkVoEX",
        "colab_type": "text"
      },
      "source": [
        "Nous avons vu avec d'autres groupes que scaler les données n'avait pas vraiment d'impact ici alors vous ne l'avons pas fait"
      ]
    },
    {
      "cell_type": "markdown",
      "metadata": {
        "id": "Ad67dCC_VoEZ",
        "colab_type": "text"
      },
      "source": [
        "Question 2 :"
      ]
    },
    {
      "cell_type": "code",
      "metadata": {
        "id": "ldQt_cZ6VoEc",
        "colab_type": "code",
        "colab": {},
        "outputId": "afbf157c-d456-4516-e22d-1e2b112dd5e0"
      },
      "source": [
        "from sklearn.neural_network import MLPRegressor\n",
        "NN1 = MLPRegressor(hidden_layer_sizes=(10,10), activation='relu',\\\n",
        "solver='lbfgs',max_iter=1000,random_state=2000)\n",
        "NN1.fit(X_train,Y_train)"
      ],
      "execution_count": 0,
      "outputs": [
        {
          "output_type": "execute_result",
          "data": {
            "text/plain": [
              "MLPRegressor(activation='relu', alpha=0.0001, batch_size='auto', beta_1=0.9,\n",
              "       beta_2=0.999, early_stopping=False, epsilon=1e-08,\n",
              "       hidden_layer_sizes=(10, 10), learning_rate='constant',\n",
              "       learning_rate_init=0.001, max_iter=1000, momentum=0.9,\n",
              "       nesterovs_momentum=True, power_t=0.5, random_state=2000,\n",
              "       shuffle=True, solver='lbfgs', tol=0.0001, validation_fraction=0.1,\n",
              "       verbose=False, warm_start=False)"
            ]
          },
          "metadata": {
            "tags": []
          },
          "execution_count": 3
        }
      ]
    },
    {
      "cell_type": "markdown",
      "metadata": {
        "id": "jVI6j4w_VoEh",
        "colab_type": "text"
      },
      "source": [
        "Question 3 :"
      ]
    },
    {
      "cell_type": "code",
      "metadata": {
        "id": "AYxye4AOVoEj",
        "colab_type": "code",
        "colab": {},
        "outputId": "104c4fbe-6f3b-41d8-8a6e-30d9522e48d9"
      },
      "source": [
        "from sklearn.metrics import r2_score , mean_absolute_error\n",
        "print(mean_absolute_error(Y_test,NN1.predict(X_test)))\n",
        "print(r2_score(Y_test,NN1.predict(X_test)))"
      ],
      "execution_count": 0,
      "outputs": [
        {
          "output_type": "stream",
          "text": [
            "2850.01568837385\n",
            "0.852675239218359\n"
          ],
          "name": "stdout"
        }
      ]
    },
    {
      "cell_type": "markdown",
      "metadata": {
        "id": "J0s3813wVoEp",
        "colab_type": "text"
      },
      "source": [
        "Question 4a :"
      ]
    },
    {
      "cell_type": "code",
      "metadata": {
        "id": "oT0JtSTCVoEr",
        "colab_type": "code",
        "colab": {},
        "outputId": "4805c60c-aee1-4bc0-e035-1138a099cbc7"
      },
      "source": [
        "NN1.coefs_[0][2:]"
      ],
      "execution_count": 0,
      "outputs": [
        {
          "output_type": "execute_result",
          "data": {
            "text/plain": [
              "array([[-2.54566997e-01, -6.46642592e-04, -7.63678671e-02,\n",
              "         1.24695241e+02,  7.90524775e-02, -4.54077475e+00,\n",
              "        -4.49518318e-01,  3.92639915e-01, -3.58660759e-01,\n",
              "        -1.23156792e+00],\n",
              "       [-2.26714239e-01, -2.47407818e-01,  2.32493778e-01,\n",
              "         3.85703851e+00,  5.26098440e-01, -8.48376770e+01,\n",
              "         3.04816011e-01,  2.55174550e-01, -2.82409841e-02,\n",
              "        -5.83133579e-01],\n",
              "       [ 4.62901920e-01,  2.70098315e-01, -3.64235563e-01,\n",
              "        -6.16792110e+01, -9.54901178e-02, -8.36749352e+01,\n",
              "        -3.07336506e-01, -1.98810931e-01, -3.19352130e-01,\n",
              "        -2.66346773e-01],\n",
              "       [ 4.71966025e-03,  1.10893584e-01,  3.60854615e-01,\n",
              "        -6.09022716e+01,  2.51837877e-01, -3.51517378e+02,\n",
              "        -1.10752944e-02,  9.54071366e-03,  6.92988111e-03,\n",
              "        -3.12465627e-01],\n",
              "       [ 3.57707595e-01,  9.25422799e-02, -5.11743925e-01,\n",
              "         3.43244526e+00,  4.49676293e-01,  1.82951909e+02,\n",
              "        -2.30105747e-01,  4.80641565e-01,  3.63350048e-01,\n",
              "        -5.26290959e-01],\n",
              "       [ 2.60502497e-01,  4.43514015e-01,  4.23591944e-01,\n",
              "         1.34037583e+01, -1.34095482e-01, -4.15182964e+01,\n",
              "        -1.90949743e-01,  2.42637644e-01,  2.54376519e-01,\n",
              "        -2.98460870e-01],\n",
              "       [ 2.82268111e-01, -2.76133652e-01,  4.31893282e-01,\n",
              "        -1.72243989e+01, -1.99610431e-01, -4.43164025e+01,\n",
              "         2.14365542e-02,  8.59526678e-02, -3.97335161e-01,\n",
              "         2.40902737e-02],\n",
              "       [ 4.93337297e-01, -3.45407174e-01,  3.70420195e-01,\n",
              "        -1.74739160e+01, -2.53723288e-01, -4.66676217e+01,\n",
              "         9.87559432e-02, -1.61922653e-01, -1.21595400e-02,\n",
              "        -4.19202280e-01],\n",
              "       [ 3.44019701e-01,  2.68427318e-01,  1.16723976e-01,\n",
              "        -3.64772016e+01,  3.43804353e-01, -3.60344249e+01,\n",
              "        -4.00898207e-01,  4.88414147e-01,  2.63641182e-01,\n",
              "        -4.07801592e-01]])"
            ]
          },
          "metadata": {
            "tags": []
          },
          "execution_count": 5
        }
      ]
    },
    {
      "cell_type": "code",
      "metadata": {
        "id": "7tF1pfyIVoEx",
        "colab_type": "code",
        "colab": {},
        "outputId": "47b97053-f42b-4381-9e00-7b711261da35"
      },
      "source": [
        "NN1.coefs_[1]"
      ],
      "execution_count": 0,
      "outputs": [
        {
          "output_type": "execute_result",
          "data": {
            "text/plain": [
              "array([[-2.43574711e-01,  4.18294261e-01,  4.27746990e-01,\n",
              "         5.43252929e-01,  1.39000462e-01, -2.32840646e-01,\n",
              "         5.00586998e-01,  1.76545619e-02,  2.47241449e-02,\n",
              "         1.65693072e-01],\n",
              "       [ 1.28365803e-01, -7.32511448e-02,  3.44785519e-02,\n",
              "        -2.30396642e-01,  3.45407931e-02,  2.82512863e-01,\n",
              "        -5.38090682e-01,  1.14036010e-01,  3.75444667e-01,\n",
              "         5.19660583e-01],\n",
              "       [ 3.13491954e-01,  2.88597293e-01, -3.85916922e-02,\n",
              "         1.99124917e-01,  3.36421935e-01,  1.10498497e-01,\n",
              "         4.55425531e-01,  6.56453039e-03, -2.33697110e-01,\n",
              "         3.27372573e-01],\n",
              "       [ 6.62234644e+00, -3.99090198e+00,  2.32482509e+01,\n",
              "        -4.68958374e+00, -2.34028722e+00, -4.03054741e+00,\n",
              "        -1.73686186e+00, -2.22656894e+00,  1.16020020e+00,\n",
              "        -3.27271144e-01],\n",
              "       [-4.41834631e-01,  1.28813608e-01,  3.31667830e-01,\n",
              "         1.11600164e-01, -1.31922959e-01, -4.73802877e-01,\n",
              "         4.17139135e-01, -3.31001687e-01,  4.23620365e-01,\n",
              "         3.63052762e-01],\n",
              "       [ 8.90399952e+01, -3.71205969e+01,  3.27543822e+01,\n",
              "        -8.24709317e+01, -4.51695957e-01, -7.45076956e+01,\n",
              "        -5.54471706e-01, -1.09551801e+01,  5.98205313e+01,\n",
              "        -5.12002454e-01],\n",
              "       [-1.78292262e-01,  7.52615299e-02,  4.89311084e-01,\n",
              "        -2.00190553e-01, -1.96684756e-01, -9.11447530e-02,\n",
              "         5.37886213e-01, -4.55830692e-01, -3.16837347e-01,\n",
              "         4.59699467e-01],\n",
              "       [-4.49090782e-01, -3.33333662e-01,  4.90135373e-01,\n",
              "        -1.55656214e-01,  1.72469141e-01,  5.45551760e-01,\n",
              "        -4.72764111e-01,  3.38525577e-01, -4.10562353e-01,\n",
              "        -3.79138939e-01],\n",
              "       [-5.03242247e-01,  2.12255632e-01, -2.01831676e-01,\n",
              "        -1.52794693e-01, -3.72898557e-01, -1.92330901e-01,\n",
              "        -1.48219142e-01, -5.61218679e-02,  4.75153248e-01,\n",
              "        -2.66574919e-01],\n",
              "       [ 1.04833442e+01, -2.58990786e-01,  3.69092463e-01,\n",
              "        -6.60653343e+00, -2.44747913e-01, -5.98988723e+00,\n",
              "         4.73772678e-01, -3.96938269e+00,  6.57906837e+00,\n",
              "         3.45270062e-01]])"
            ]
          },
          "metadata": {
            "tags": []
          },
          "execution_count": 6
        }
      ]
    },
    {
      "cell_type": "markdown",
      "metadata": {
        "id": "hgrbV4FNVoE3",
        "colab_type": "text"
      },
      "source": [
        "Question 4b :"
      ]
    },
    {
      "cell_type": "code",
      "metadata": {
        "id": "E9Gy20ExVoE4",
        "colab_type": "code",
        "colab": {},
        "outputId": "900ac88c-ca87-4da5-8afa-92964996acb8"
      },
      "source": [
        "NN1.coefs_[0][2:]"
      ],
      "execution_count": 0,
      "outputs": [
        {
          "output_type": "execute_result",
          "data": {
            "text/plain": [
              "array([[-2.54566997e-01, -6.46642592e-04, -7.63678671e-02,\n",
              "         1.24695241e+02,  7.90524775e-02, -4.54077475e+00,\n",
              "        -4.49518318e-01,  3.92639915e-01, -3.58660759e-01,\n",
              "        -1.23156792e+00],\n",
              "       [-2.26714239e-01, -2.47407818e-01,  2.32493778e-01,\n",
              "         3.85703851e+00,  5.26098440e-01, -8.48376770e+01,\n",
              "         3.04816011e-01,  2.55174550e-01, -2.82409841e-02,\n",
              "        -5.83133579e-01],\n",
              "       [ 4.62901920e-01,  2.70098315e-01, -3.64235563e-01,\n",
              "        -6.16792110e+01, -9.54901178e-02, -8.36749352e+01,\n",
              "        -3.07336506e-01, -1.98810931e-01, -3.19352130e-01,\n",
              "        -2.66346773e-01],\n",
              "       [ 4.71966025e-03,  1.10893584e-01,  3.60854615e-01,\n",
              "        -6.09022716e+01,  2.51837877e-01, -3.51517378e+02,\n",
              "        -1.10752944e-02,  9.54071366e-03,  6.92988111e-03,\n",
              "        -3.12465627e-01],\n",
              "       [ 3.57707595e-01,  9.25422799e-02, -5.11743925e-01,\n",
              "         3.43244526e+00,  4.49676293e-01,  1.82951909e+02,\n",
              "        -2.30105747e-01,  4.80641565e-01,  3.63350048e-01,\n",
              "        -5.26290959e-01],\n",
              "       [ 2.60502497e-01,  4.43514015e-01,  4.23591944e-01,\n",
              "         1.34037583e+01, -1.34095482e-01, -4.15182964e+01,\n",
              "        -1.90949743e-01,  2.42637644e-01,  2.54376519e-01,\n",
              "        -2.98460870e-01],\n",
              "       [ 2.82268111e-01, -2.76133652e-01,  4.31893282e-01,\n",
              "        -1.72243989e+01, -1.99610431e-01, -4.43164025e+01,\n",
              "         2.14365542e-02,  8.59526678e-02, -3.97335161e-01,\n",
              "         2.40902737e-02],\n",
              "       [ 4.93337297e-01, -3.45407174e-01,  3.70420195e-01,\n",
              "        -1.74739160e+01, -2.53723288e-01, -4.66676217e+01,\n",
              "         9.87559432e-02, -1.61922653e-01, -1.21595400e-02,\n",
              "        -4.19202280e-01],\n",
              "       [ 3.44019701e-01,  2.68427318e-01,  1.16723976e-01,\n",
              "        -3.64772016e+01,  3.43804353e-01, -3.60344249e+01,\n",
              "        -4.00898207e-01,  4.88414147e-01,  2.63641182e-01,\n",
              "        -4.07801592e-01]])"
            ]
          },
          "metadata": {
            "tags": []
          },
          "execution_count": 7
        }
      ]
    },
    {
      "cell_type": "code",
      "metadata": {
        "id": "x1BVJdF9VoE-",
        "colab_type": "code",
        "colab": {},
        "outputId": "2dc3578d-1bc6-4f26-f1b9-e523389a1d03"
      },
      "source": [
        "NN1.coefs_[1][:4]"
      ],
      "execution_count": 0,
      "outputs": [
        {
          "output_type": "execute_result",
          "data": {
            "text/plain": [
              "array([[-2.43574711e-01,  4.18294261e-01,  4.27746990e-01,\n",
              "         5.43252929e-01,  1.39000462e-01, -2.32840646e-01,\n",
              "         5.00586998e-01,  1.76545619e-02,  2.47241449e-02,\n",
              "         1.65693072e-01],\n",
              "       [ 1.28365803e-01, -7.32511448e-02,  3.44785519e-02,\n",
              "        -2.30396642e-01,  3.45407931e-02,  2.82512863e-01,\n",
              "        -5.38090682e-01,  1.14036010e-01,  3.75444667e-01,\n",
              "         5.19660583e-01],\n",
              "       [ 3.13491954e-01,  2.88597293e-01, -3.85916922e-02,\n",
              "         1.99124917e-01,  3.36421935e-01,  1.10498497e-01,\n",
              "         4.55425531e-01,  6.56453039e-03, -2.33697110e-01,\n",
              "         3.27372573e-01],\n",
              "       [ 6.62234644e+00, -3.99090198e+00,  2.32482509e+01,\n",
              "        -4.68958374e+00, -2.34028722e+00, -4.03054741e+00,\n",
              "        -1.73686186e+00, -2.22656894e+00,  1.16020020e+00,\n",
              "        -3.27271144e-01]])"
            ]
          },
          "metadata": {
            "tags": []
          },
          "execution_count": 8
        }
      ]
    },
    {
      "cell_type": "markdown",
      "metadata": {
        "id": "lfcmtny4VoFD",
        "colab_type": "text"
      },
      "source": [
        "Question 4c :"
      ]
    },
    {
      "cell_type": "code",
      "metadata": {
        "id": "ifTt0w8vVoFF",
        "colab_type": "code",
        "colab": {},
        "outputId": "886fe3dd-8b4b-4bbb-ef4a-2cc16d76b753"
      },
      "source": [
        "NN1.intercepts_[1]"
      ],
      "execution_count": 0,
      "outputs": [
        {
          "output_type": "execute_result",
          "data": {
            "text/plain": [
              "array([ 14.66471945,  -0.21806155,  -2.06738141,  -5.58810037,\n",
              "        -0.03178406,  -4.95682059,  -0.07729515,  -1.04927643,\n",
              "       -11.07616325,   0.23519118])"
            ]
          },
          "metadata": {
            "tags": []
          },
          "execution_count": 9
        }
      ]
    },
    {
      "cell_type": "markdown",
      "metadata": {
        "id": "USCjLKgwVoFK",
        "colab_type": "text"
      },
      "source": [
        "Question 4d :"
      ]
    },
    {
      "cell_type": "code",
      "metadata": {
        "id": "PkCjeNy3VoFM",
        "colab_type": "code",
        "colab": {},
        "outputId": "1a88ac09-c1db-4ecc-9766-2629d3edd023"
      },
      "source": [
        "NN1.intercepts_[0][2]"
      ],
      "execution_count": 0,
      "outputs": [
        {
          "output_type": "execute_result",
          "data": {
            "text/plain": [
              "-0.3474298918071743"
            ]
          },
          "metadata": {
            "tags": []
          },
          "execution_count": 10
        }
      ]
    },
    {
      "cell_type": "markdown",
      "metadata": {
        "id": "O8vC-G6RVoFS",
        "colab_type": "text"
      },
      "source": [
        "Question 5 :"
      ]
    },
    {
      "cell_type": "code",
      "metadata": {
        "id": "-nTefq50VoFT",
        "colab_type": "code",
        "colab": {},
        "outputId": "083cb3c6-fb02-4e67-a598-26f463e32881"
      },
      "source": [
        "N_0 = 1\n",
        "N_i = X_train.shape[1] \n",
        "alpha = 5\n",
        "N_s = X_train.shape[0]\n",
        "N_h = N_s/(alpha*(N_i + N_0))\n",
        "N_h"
      ],
      "execution_count": 0,
      "outputs": [
        {
          "output_type": "execute_result",
          "data": {
            "text/plain": [
              "17.833333333333332"
            ]
          },
          "metadata": {
            "tags": []
          },
          "execution_count": 11
        }
      ]
    },
    {
      "cell_type": "markdown",
      "metadata": {
        "id": "IXz98KUuVoFY",
        "colab_type": "text"
      },
      "source": [
        "Question 6 :"
      ]
    },
    {
      "cell_type": "code",
      "metadata": {
        "id": "fEwDZEHhVoFa",
        "colab_type": "code",
        "colab": {}
      },
      "source": [
        "hiden=[(i,j) for i in range(11,20) for j in range(11,20)]"
      ],
      "execution_count": 0,
      "outputs": []
    },
    {
      "cell_type": "code",
      "metadata": {
        "id": "pbcWSMyZVoFg",
        "colab_type": "code",
        "colab": {},
        "outputId": "798a477b-55d9-4843-e0ab-68f8fab8a68c"
      },
      "source": [
        "from sklearn.model_selection import GridSearchCV\n",
        "parameters = {'hidden_layer_sizes' : hiden, 'activation' : ['relu'], 'solver' : ['lbfgs'], 'max_iter' : [800] , 'random_state' : [2000]}\n",
        "from sklearn.neural_network import MLPRegressor\n",
        "NN2 = MLPRegressor()\n",
        "NN3 = GridSearchCV(NN2, parameters,scoring='r2',cv=5)\n",
        "NN3.fit(X_train,Y_train)"
      ],
      "execution_count": 0,
      "outputs": [
        {
          "output_type": "execute_result",
          "data": {
            "text/plain": [
              "GridSearchCV(cv=5, error_score='raise',\n",
              "       estimator=MLPRegressor(activation='relu', alpha=0.0001, batch_size='auto', beta_1=0.9,\n",
              "       beta_2=0.999, early_stopping=False, epsilon=1e-08,\n",
              "       hidden_layer_sizes=(100,), learning_rate='constant',\n",
              "       learning_rate_init=0.001, max_iter=200, momentum=0.9,\n",
              "       nesterovs_momentum=True, power_t=0.5, random_state=None,\n",
              "       shuffle=True, solver='adam', tol=0.0001, validation_fraction=0.1,\n",
              "       verbose=False, warm_start=False),\n",
              "       fit_params=None, iid=True, n_jobs=1,\n",
              "       param_grid={'hidden_layer_sizes': [(11, 11), (11, 12), (11, 13), (11, 14), (11, 15), (11, 16), (11, 17), (11, 18), (11, 19), (12, 11), (12, 12), (12, 13), (12, 14), (12, 15), (12, 16), (12, 17), (12, 18), (12, 19), (13, 11), (13, 12), (13, 13), (13, 14), (13, 15), (13, 16), (13, 17), (13, 18), (13, ..., (19, 19)], 'activation': ['relu'], 'solver': ['lbfgs'], 'max_iter': [800], 'random_state': [2000]},\n",
              "       pre_dispatch='2*n_jobs', refit=True, return_train_score='warn',\n",
              "       scoring='r2', verbose=0)"
            ]
          },
          "metadata": {
            "tags": []
          },
          "execution_count": 20
        }
      ]
    },
    {
      "cell_type": "code",
      "metadata": {
        "id": "xzznJSkRVoFm",
        "colab_type": "code",
        "colab": {},
        "outputId": "cbbc6b47-97d5-4ac0-a6d8-7bc10cd1392a"
      },
      "source": [
        "NN3.best_params_"
      ],
      "execution_count": 0,
      "outputs": [
        {
          "output_type": "execute_result",
          "data": {
            "text/plain": [
              "{'activation': 'relu',\n",
              " 'hidden_layer_sizes': (18, 13),\n",
              " 'max_iter': 800,\n",
              " 'random_state': 2000,\n",
              " 'solver': 'lbfgs'}"
            ]
          },
          "metadata": {
            "tags": []
          },
          "execution_count": 21
        }
      ]
    },
    {
      "cell_type": "code",
      "metadata": {
        "id": "TMxbHBqEVoFs",
        "colab_type": "code",
        "colab": {},
        "outputId": "3a354f3a-e8b8-4712-b471-747e03a2b616"
      },
      "source": [
        "NN3.best_estimator_"
      ],
      "execution_count": 0,
      "outputs": [
        {
          "output_type": "execute_result",
          "data": {
            "text/plain": [
              "MLPRegressor(activation='relu', alpha=0.0001, batch_size='auto', beta_1=0.9,\n",
              "       beta_2=0.999, early_stopping=False, epsilon=1e-08,\n",
              "       hidden_layer_sizes=(18, 13), learning_rate='constant',\n",
              "       learning_rate_init=0.001, max_iter=800, momentum=0.9,\n",
              "       nesterovs_momentum=True, power_t=0.5, random_state=2000,\n",
              "       shuffle=True, solver='lbfgs', tol=0.0001, validation_fraction=0.1,\n",
              "       verbose=False, warm_start=False)"
            ]
          },
          "metadata": {
            "tags": []
          },
          "execution_count": 15
        }
      ]
    },
    {
      "cell_type": "code",
      "metadata": {
        "id": "LzSQJOesVoFx",
        "colab_type": "code",
        "colab": {},
        "outputId": "616fc21c-3249-42ed-c838-647b2c368d4d"
      },
      "source": [
        "NN3.best_score_"
      ],
      "execution_count": 0,
      "outputs": [
        {
          "output_type": "execute_result",
          "data": {
            "text/plain": [
              "0.8370244064800944"
            ]
          },
          "metadata": {
            "tags": []
          },
          "execution_count": 16
        }
      ]
    },
    {
      "cell_type": "markdown",
      "metadata": {
        "id": "y8KC_mbIVoF1",
        "colab_type": "text"
      },
      "source": [
        "Question 7 :"
      ]
    },
    {
      "cell_type": "code",
      "metadata": {
        "id": "rK-65M22VoF3",
        "colab_type": "code",
        "colab": {},
        "outputId": "7a74cc84-9a95-4542-c7f3-6abfeeef457b"
      },
      "source": [
        "from sklearn.neural_network import MLPRegressor\n",
        "NN_best = MLPRegressor(hidden_layer_sizes= (18,13), activation='relu',\\\n",
        "solver='lbfgs',max_iter=800,random_state=2000)\n",
        "NN_best.fit(X_train,Y_train)"
      ],
      "execution_count": 0,
      "outputs": [
        {
          "output_type": "execute_result",
          "data": {
            "text/plain": [
              "MLPRegressor(activation='relu', alpha=0.0001, batch_size='auto', beta_1=0.9,\n",
              "       beta_2=0.999, early_stopping=False, epsilon=1e-08,\n",
              "       hidden_layer_sizes=(18, 13), learning_rate='constant',\n",
              "       learning_rate_init=0.001, max_iter=800, momentum=0.9,\n",
              "       nesterovs_momentum=True, power_t=0.5, random_state=2000,\n",
              "       shuffle=True, solver='lbfgs', tol=0.0001, validation_fraction=0.1,\n",
              "       verbose=False, warm_start=False)"
            ]
          },
          "metadata": {
            "tags": []
          },
          "execution_count": 17
        }
      ]
    },
    {
      "cell_type": "markdown",
      "metadata": {
        "id": "_vHkm2onVoF-",
        "colab_type": "text"
      },
      "source": [
        "Question 8 :"
      ]
    },
    {
      "cell_type": "code",
      "metadata": {
        "id": "dSx-1dQXVoGA",
        "colab_type": "code",
        "colab": {},
        "outputId": "7099617c-4172-475c-8de5-95a91f200f86"
      },
      "source": [
        "from sklearn.metrics import r2_score \n",
        "print(r2_score(Y_test,NN_best.predict(X_test)))"
      ],
      "execution_count": 0,
      "outputs": [
        {
          "output_type": "stream",
          "text": [
            "0.8582226051031547\n"
          ],
          "name": "stdout"
        }
      ]
    }
  ]
}
