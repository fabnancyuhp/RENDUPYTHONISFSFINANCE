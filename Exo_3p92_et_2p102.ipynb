{
  "nbformat": 4,
  "nbformat_minor": 0,
  "metadata": {
    "kernelspec": {
      "display_name": "Python 3",
      "language": "python",
      "name": "python3"
    },
    "language_info": {
      "codemirror_mode": {
        "name": "ipython",
        "version": 3
      },
      "file_extension": ".py",
      "mimetype": "text/x-python",
      "name": "python",
      "nbconvert_exporter": "python",
      "pygments_lexer": "ipython3",
      "version": "3.7.3"
    },
    "colab": {
      "name": "Exo 3p92 et 2p102.ipynb",
      "provenance": [],
      "include_colab_link": true
    }
  },
  "cells": [
    {
      "cell_type": "markdown",
      "metadata": {
        "id": "view-in-github",
        "colab_type": "text"
      },
      "source": [
        "<a href=\"https://colab.research.google.com/github/fabnancyuhp/RENDUPYTHONISFSTAT/blob/master/Exo_3p92_et_2p102.ipynb\" target=\"_parent\"><img src=\"https://colab.research.google.com/assets/colab-badge.svg\" alt=\"Open In Colab\"/></a>"
      ]
    },
    {
      "cell_type": "code",
      "metadata": {
        "id": "MBy4KVFPSh0K",
        "colab_type": "code",
        "colab": {}
      },
      "source": [
        "import numpy as np\n",
        "import pandas as pd\n",
        "import matplotlib.pyplot as plt"
      ],
      "execution_count": 0,
      "outputs": []
    },
    {
      "cell_type": "markdown",
      "metadata": {
        "id": "mbdo_m23Sh0X",
        "colab_type": "text"
      },
      "source": [
        "# Exercice 3p92"
      ]
    },
    {
      "cell_type": "code",
      "metadata": {
        "id": "BL_RCNsaSh0Z",
        "colab_type": "code",
        "colab": {},
        "outputId": "7c26fdea-d5a7-4158-cf0c-aa933b548bb1"
      },
      "source": [
        "data_credit = pd.read_pickle(\"C:/Users/Tommy/Desktop/Cours master 2 dauphine/Semestre 2/Introduction au machine learning avec Python/Exo 3p92 et 2p102/credit.pkl\")\n",
        "data_credit['A16'].loc[(data_credit[\"A16\"]==\"+\")] = 1\n",
        "data_credit['A16'].loc[(data_credit[\"A16\"]==\"-\")] = 0\n",
        "data_credit.head(5)"
      ],
      "execution_count": 0,
      "outputs": [
        {
          "output_type": "stream",
          "text": [
            "C:\\Users\\Tommy\\Anaconda3\\lib\\site-packages\\pandas\\core\\indexing.py:190: SettingWithCopyWarning: \n",
            "A value is trying to be set on a copy of a slice from a DataFrame\n",
            "\n",
            "See the caveats in the documentation: http://pandas.pydata.org/pandas-docs/stable/indexing.html#indexing-view-versus-copy\n",
            "  self._setitem_with_indexer(indexer, value)\n"
          ],
          "name": "stderr"
        },
        {
          "output_type": "execute_result",
          "data": {
            "text/html": [
              "<div>\n",
              "<style scoped>\n",
              "    .dataframe tbody tr th:only-of-type {\n",
              "        vertical-align: middle;\n",
              "    }\n",
              "\n",
              "    .dataframe tbody tr th {\n",
              "        vertical-align: top;\n",
              "    }\n",
              "\n",
              "    .dataframe thead th {\n",
              "        text-align: right;\n",
              "    }\n",
              "</style>\n",
              "<table border=\"1\" class=\"dataframe\">\n",
              "  <thead>\n",
              "    <tr style=\"text-align: right;\">\n",
              "      <th></th>\n",
              "      <th>A2</th>\n",
              "      <th>A3</th>\n",
              "      <th>A8</th>\n",
              "      <th>A11</th>\n",
              "      <th>A14</th>\n",
              "      <th>A15</th>\n",
              "      <th>A1_a</th>\n",
              "      <th>A1_b</th>\n",
              "      <th>A4_l</th>\n",
              "      <th>A4_u</th>\n",
              "      <th>...</th>\n",
              "      <th>A9_f</th>\n",
              "      <th>A9_t</th>\n",
              "      <th>A10_f</th>\n",
              "      <th>A10_t</th>\n",
              "      <th>A12_f</th>\n",
              "      <th>A12_t</th>\n",
              "      <th>A13_g</th>\n",
              "      <th>A13_p</th>\n",
              "      <th>A13_s</th>\n",
              "      <th>A16</th>\n",
              "    </tr>\n",
              "  </thead>\n",
              "  <tbody>\n",
              "    <tr>\n",
              "      <th>0</th>\n",
              "      <td>30.83</td>\n",
              "      <td>0.000</td>\n",
              "      <td>1.25</td>\n",
              "      <td>1.0</td>\n",
              "      <td>202.0</td>\n",
              "      <td>0.0</td>\n",
              "      <td>0</td>\n",
              "      <td>1</td>\n",
              "      <td>0</td>\n",
              "      <td>1</td>\n",
              "      <td>...</td>\n",
              "      <td>0</td>\n",
              "      <td>1</td>\n",
              "      <td>0</td>\n",
              "      <td>1</td>\n",
              "      <td>1</td>\n",
              "      <td>0</td>\n",
              "      <td>1</td>\n",
              "      <td>0</td>\n",
              "      <td>0</td>\n",
              "      <td>1</td>\n",
              "    </tr>\n",
              "    <tr>\n",
              "      <th>1</th>\n",
              "      <td>58.67</td>\n",
              "      <td>4.460</td>\n",
              "      <td>3.04</td>\n",
              "      <td>6.0</td>\n",
              "      <td>43.0</td>\n",
              "      <td>560.0</td>\n",
              "      <td>1</td>\n",
              "      <td>0</td>\n",
              "      <td>0</td>\n",
              "      <td>1</td>\n",
              "      <td>...</td>\n",
              "      <td>0</td>\n",
              "      <td>1</td>\n",
              "      <td>0</td>\n",
              "      <td>1</td>\n",
              "      <td>1</td>\n",
              "      <td>0</td>\n",
              "      <td>1</td>\n",
              "      <td>0</td>\n",
              "      <td>0</td>\n",
              "      <td>1</td>\n",
              "    </tr>\n",
              "    <tr>\n",
              "      <th>2</th>\n",
              "      <td>24.50</td>\n",
              "      <td>0.500</td>\n",
              "      <td>1.50</td>\n",
              "      <td>0.0</td>\n",
              "      <td>280.0</td>\n",
              "      <td>824.0</td>\n",
              "      <td>1</td>\n",
              "      <td>0</td>\n",
              "      <td>0</td>\n",
              "      <td>1</td>\n",
              "      <td>...</td>\n",
              "      <td>0</td>\n",
              "      <td>1</td>\n",
              "      <td>1</td>\n",
              "      <td>0</td>\n",
              "      <td>1</td>\n",
              "      <td>0</td>\n",
              "      <td>1</td>\n",
              "      <td>0</td>\n",
              "      <td>0</td>\n",
              "      <td>1</td>\n",
              "    </tr>\n",
              "    <tr>\n",
              "      <th>3</th>\n",
              "      <td>27.83</td>\n",
              "      <td>1.540</td>\n",
              "      <td>3.75</td>\n",
              "      <td>5.0</td>\n",
              "      <td>100.0</td>\n",
              "      <td>3.0</td>\n",
              "      <td>0</td>\n",
              "      <td>1</td>\n",
              "      <td>0</td>\n",
              "      <td>1</td>\n",
              "      <td>...</td>\n",
              "      <td>0</td>\n",
              "      <td>1</td>\n",
              "      <td>0</td>\n",
              "      <td>1</td>\n",
              "      <td>0</td>\n",
              "      <td>1</td>\n",
              "      <td>1</td>\n",
              "      <td>0</td>\n",
              "      <td>0</td>\n",
              "      <td>1</td>\n",
              "    </tr>\n",
              "    <tr>\n",
              "      <th>4</th>\n",
              "      <td>20.17</td>\n",
              "      <td>5.625</td>\n",
              "      <td>1.71</td>\n",
              "      <td>0.0</td>\n",
              "      <td>120.0</td>\n",
              "      <td>0.0</td>\n",
              "      <td>0</td>\n",
              "      <td>1</td>\n",
              "      <td>0</td>\n",
              "      <td>1</td>\n",
              "      <td>...</td>\n",
              "      <td>0</td>\n",
              "      <td>1</td>\n",
              "      <td>1</td>\n",
              "      <td>0</td>\n",
              "      <td>1</td>\n",
              "      <td>0</td>\n",
              "      <td>0</td>\n",
              "      <td>0</td>\n",
              "      <td>1</td>\n",
              "      <td>1</td>\n",
              "    </tr>\n",
              "  </tbody>\n",
              "</table>\n",
              "<p>5 rows × 47 columns</p>\n",
              "</div>"
            ],
            "text/plain": [
              "      A2     A3    A8  A11    A14    A15  A1_a  A1_b  A4_l  A4_u  ...  A9_f  \\\n",
              "0  30.83  0.000  1.25  1.0  202.0    0.0     0     1     0     1  ...     0   \n",
              "1  58.67  4.460  3.04  6.0   43.0  560.0     1     0     0     1  ...     0   \n",
              "2  24.50  0.500  1.50  0.0  280.0  824.0     1     0     0     1  ...     0   \n",
              "3  27.83  1.540  3.75  5.0  100.0    3.0     0     1     0     1  ...     0   \n",
              "4  20.17  5.625  1.71  0.0  120.0    0.0     0     1     0     1  ...     0   \n",
              "\n",
              "   A9_t  A10_f  A10_t  A12_f  A12_t  A13_g  A13_p  A13_s  A16  \n",
              "0     1      0      1      1      0      1      0      0    1  \n",
              "1     1      0      1      1      0      1      0      0    1  \n",
              "2     1      1      0      1      0      1      0      0    1  \n",
              "3     1      0      1      0      1      1      0      0    1  \n",
              "4     1      1      0      1      0      0      0      1    1  \n",
              "\n",
              "[5 rows x 47 columns]"
            ]
          },
          "metadata": {
            "tags": []
          },
          "execution_count": 3
        }
      ]
    },
    {
      "cell_type": "markdown",
      "metadata": {
        "id": "0axRb3ZPSh0l",
        "colab_type": "text"
      },
      "source": [
        "Question 1"
      ]
    },
    {
      "cell_type": "code",
      "metadata": {
        "id": "J8CZmn8ZSh0n",
        "colab_type": "code",
        "colab": {}
      },
      "source": [
        "X = data_credit.drop(['A16'],axis=1)\n",
        "Y = data_credit['A16']\n",
        "\n",
        "from sklearn.model_selection import train_test_split\n",
        "X_train, X_test, Y_train, Y_test = train_test_split(X,Y,test_size=0.25,random_state=2018)"
      ],
      "execution_count": 0,
      "outputs": []
    },
    {
      "cell_type": "code",
      "metadata": {
        "id": "8a_NPB75Sh0t",
        "colab_type": "code",
        "colab": {}
      },
      "source": [
        "from sklearn.preprocessing import StandardScaler\n",
        "scale = StandardScaler()\n",
        "scale.fit(X_train)\n",
        "X_train_scale = scale.transform(X_train)\n",
        "X_test_scale = scale.transform(X_test)"
      ],
      "execution_count": 0,
      "outputs": []
    },
    {
      "cell_type": "markdown",
      "metadata": {
        "id": "ZcZS30S4Sh0y",
        "colab_type": "text"
      },
      "source": [
        "Question 2"
      ]
    },
    {
      "cell_type": "code",
      "metadata": {
        "id": "G9L8_R3kSh00",
        "colab_type": "code",
        "colab": {},
        "outputId": "6c860958-4845-45e0-fcc4-e9422df90e64"
      },
      "source": [
        "from sklearn.neural_network import MLPClassifier\n",
        "NN1 = MLPClassifier(hidden_layer_sizes=(10,8),activation='logistic',solver='lbfgs',max_iter=500,random_state=2018)\n",
        "NN1.fit(X_train_scale,Y_train.values.ravel())"
      ],
      "execution_count": 0,
      "outputs": [
        {
          "output_type": "execute_result",
          "data": {
            "text/plain": [
              "MLPClassifier(activation='logistic', alpha=0.0001, batch_size='auto',\n",
              "              beta_1=0.9, beta_2=0.999, early_stopping=False, epsilon=1e-08,\n",
              "              hidden_layer_sizes=(10, 8), learning_rate='constant',\n",
              "              learning_rate_init=0.001, max_iter=500, momentum=0.9,\n",
              "              n_iter_no_change=10, nesterovs_momentum=True, power_t=0.5,\n",
              "              random_state=2018, shuffle=True, solver='lbfgs', tol=0.0001,\n",
              "              validation_fraction=0.1, verbose=False, warm_start=False)"
            ]
          },
          "metadata": {
            "tags": []
          },
          "execution_count": 6
        }
      ]
    },
    {
      "cell_type": "code",
      "metadata": {
        "id": "Fo0mK0RiSh06",
        "colab_type": "code",
        "colab": {},
        "outputId": "d68037fd-8699-4184-dd5d-900d42939339"
      },
      "source": [
        "Y_pred = NN1.predict(X_test_scale)\n",
        "Y_pred"
      ],
      "execution_count": 0,
      "outputs": [
        {
          "output_type": "execute_result",
          "data": {
            "text/plain": [
              "array([0, 0, 1, 0, 0, 1, 1, 0, 1, 0, 1, 1, 1, 1, 0, 0, 1, 0, 1, 1, 0, 0,\n",
              "       1, 0, 0, 1, 0, 0, 1, 0, 0, 1, 0, 1, 1, 0, 0, 0, 1, 1, 0, 0, 1, 1,\n",
              "       1, 0, 1, 1, 0, 0, 0, 0, 0, 1, 0, 1, 0, 0, 0, 0, 1, 1, 0, 1, 0, 1,\n",
              "       0, 0, 1, 0, 1, 1, 1, 0, 0, 1, 1, 0, 0, 1, 0, 1, 0, 0, 0, 1, 0, 0,\n",
              "       1, 1, 1, 0, 0, 0, 1, 0, 0, 1, 1, 1, 0, 1, 1, 1, 0, 1, 0, 1, 1, 0,\n",
              "       0, 0, 0, 0, 0, 1, 0, 1, 0, 1, 0, 0, 1, 1, 1, 1, 1, 0, 0, 0, 1, 0,\n",
              "       1, 1, 1, 1, 0, 1, 0, 0, 1, 1, 0, 0, 0, 0, 0, 0, 1, 1, 1, 0, 0, 1,\n",
              "       0, 0, 0, 0, 1, 0, 0, 0, 1, 1], dtype=int64)"
            ]
          },
          "metadata": {
            "tags": []
          },
          "execution_count": 7
        }
      ]
    },
    {
      "cell_type": "markdown",
      "metadata": {
        "id": "0Y6kaF89Sh1B",
        "colab_type": "text"
      },
      "source": [
        "Question 3"
      ]
    },
    {
      "cell_type": "code",
      "metadata": {
        "id": "y3jxA7ATSh1D",
        "colab_type": "code",
        "colab": {},
        "outputId": "6e082300-532a-4719-9b9e-bf7213c20af7"
      },
      "source": [
        "from sklearn.metrics import accuracy_score ,roc_auc_score, auc\n",
        "Y_pred = NN1.predict(X_test_scale)\n",
        "print(\"accuracy :\",accuracy_score(Y_test,NN1.predict(X_test_scale)))"
      ],
      "execution_count": 0,
      "outputs": [
        {
          "output_type": "stream",
          "text": [
            "accuracy : 0.8536585365853658\n"
          ],
          "name": "stdout"
        }
      ]
    },
    {
      "cell_type": "markdown",
      "metadata": {
        "id": "IESFGwFjSh1J",
        "colab_type": "text"
      },
      "source": [
        "Question 4"
      ]
    },
    {
      "cell_type": "code",
      "metadata": {
        "id": "SV40JQiHSh1K",
        "colab_type": "code",
        "colab": {},
        "outputId": "c9119838-4ab7-44b5-dcae-88a423904e2a"
      },
      "source": [
        "print(\"auc :\",roc_auc_score(Y_test,NN1.predict_proba(X_test_scale)[:,1]))"
      ],
      "execution_count": 0,
      "outputs": [
        {
          "output_type": "stream",
          "text": [
            "auc : 0.8050455291834601\n"
          ],
          "name": "stdout"
        }
      ]
    },
    {
      "cell_type": "markdown",
      "metadata": {
        "id": "yZMMZ_czSh1Q",
        "colab_type": "text"
      },
      "source": [
        "Question 5"
      ]
    },
    {
      "cell_type": "code",
      "metadata": {
        "id": "OyhUFjUESh1S",
        "colab_type": "code",
        "colab": {},
        "outputId": "92fdfdf1-f39b-4fe5-d01d-64579817e334"
      },
      "source": [
        "from sklearn.neural_network import MLPClassifier\n",
        "NN2 = MLPClassifier(hidden_layer_sizes=(10,5,8),activation='logistic',solver='lbfgs',random_state=2018)\n",
        "NN2.fit(X_train_scale,Y_train.values.ravel())"
      ],
      "execution_count": 0,
      "outputs": [
        {
          "output_type": "execute_result",
          "data": {
            "text/plain": [
              "MLPClassifier(activation='logistic', alpha=0.0001, batch_size='auto',\n",
              "              beta_1=0.9, beta_2=0.999, early_stopping=False, epsilon=1e-08,\n",
              "              hidden_layer_sizes=(10, 5, 8), learning_rate='constant',\n",
              "              learning_rate_init=0.001, max_iter=200, momentum=0.9,\n",
              "              n_iter_no_change=10, nesterovs_momentum=True, power_t=0.5,\n",
              "              random_state=2018, shuffle=True, solver='lbfgs', tol=0.0001,\n",
              "              validation_fraction=0.1, verbose=False, warm_start=False)"
            ]
          },
          "metadata": {
            "tags": []
          },
          "execution_count": 10
        }
      ]
    },
    {
      "cell_type": "markdown",
      "metadata": {
        "id": "24F4FhkrSh1Y",
        "colab_type": "text"
      },
      "source": [
        "Question 6"
      ]
    },
    {
      "cell_type": "code",
      "metadata": {
        "id": "jCcEe3htSh1a",
        "colab_type": "code",
        "colab": {},
        "outputId": "255640c1-d6a1-4001-fa83-9ccdd30108ec"
      },
      "source": [
        "from sklearn.metrics import accuracy_score ,roc_auc_score, auc\n",
        "Y_pred = NN2.predict(X_test_scale)\n",
        "print(\"accuracy :\",accuracy_score(Y_test,NN2.predict(X_test_scale)))"
      ],
      "execution_count": 0,
      "outputs": [
        {
          "output_type": "stream",
          "text": [
            "accuracy : 0.8475609756097561\n"
          ],
          "name": "stdout"
        }
      ]
    },
    {
      "cell_type": "markdown",
      "metadata": {
        "id": "MpcZszpQSh1f",
        "colab_type": "text"
      },
      "source": [
        "Question 7"
      ]
    },
    {
      "cell_type": "code",
      "metadata": {
        "id": "Pb-jY3_vSh1g",
        "colab_type": "code",
        "colab": {},
        "outputId": "e6ba5306-bb40-42b8-bfc0-08df40cfed58"
      },
      "source": [
        "print(\"auc :\",roc_auc_score(Y_test,NN2.predict_proba(X_test_scale)[:,1]))"
      ],
      "execution_count": 0,
      "outputs": [
        {
          "output_type": "stream",
          "text": [
            "auc : 0.7928048962531721\n"
          ],
          "name": "stdout"
        }
      ]
    },
    {
      "cell_type": "markdown",
      "metadata": {
        "id": "kb2PRDf1Sh1l",
        "colab_type": "text"
      },
      "source": [
        "Question 8"
      ]
    },
    {
      "cell_type": "code",
      "metadata": {
        "id": "VvjNNYkxSh1n",
        "colab_type": "code",
        "colab": {}
      },
      "source": [
        "#C'est l'algo d'optimisation"
      ],
      "execution_count": 0,
      "outputs": []
    },
    {
      "cell_type": "markdown",
      "metadata": {
        "id": "sSh3rrfDSh1t",
        "colab_type": "text"
      },
      "source": [
        "Question 9"
      ]
    },
    {
      "cell_type": "code",
      "metadata": {
        "id": "vuBFEl1ISh1v",
        "colab_type": "code",
        "colab": {},
        "outputId": "d785dac8-1cf7-4f42-a995-957859211137"
      },
      "source": [
        "from sklearn.metrics import roc_curve\n",
        "fpr1, tpr1, thresholds1 = roc_curve(Y_test,NN1.predict_proba(X_test_scale)[:,1])\n",
        "\n",
        "fpr2, tpr2, thresholds2 = roc_curve(Y_test,NN2.predict_proba(X_test_scale)[:,1])\n",
        "\n",
        "from sklearn.metrics import roc_auc_score, auc\n",
        "import matplotlib.pyplot as plt\n",
        "plt.figure()\n",
        "plt.plot(fpr1,tpr1,color='orange',label='AUC1 = '+str(auc(fpr1,tpr1)))\n",
        "plt.plot([0,1],[0,1],color='navy',linestyle='--')\n",
        "plt.plot(fpr2,tpr2,color='blue',label='AUC2 = '+str(auc(fpr2,tpr2)))\n",
        "plt.title(\"Courbe ROC\")\n",
        "plt.xlabel(\"fpr\")\n",
        "plt.ylabel(\"tpr\")\n",
        "plt.legend(loc=\"lower right\")\n",
        "plt.show()"
      ],
      "execution_count": 0,
      "outputs": [
        {
          "output_type": "display_data",
          "data": {
            "image/png": "[encoded data removed]",
            "text/plain": [
              "<Figure size 432x288 with 1 Axes>"
            ]
          },
          "metadata": {
            "tags": [],
            "needs_background": "light"
          }
        }
      ]
    },
    {
      "cell_type": "markdown",
      "metadata": {
        "id": "ls1OjaQmSh10",
        "colab_type": "text"
      },
      "source": [
        "# Exercice 2p102"
      ]
    },
    {
      "cell_type": "markdown",
      "metadata": {
        "id": "3j31NQveSh13",
        "colab_type": "text"
      },
      "source": [
        "Question 1"
      ]
    },
    {
      "cell_type": "code",
      "metadata": {
        "id": "ry19-YWYSh14",
        "colab_type": "code",
        "colab": {},
        "outputId": "c3aa30cb-02bc-46a7-9e37-ed213b6a5f4f"
      },
      "source": [
        "data_insurance = pd.read_pickle(\"C:/Users/Tommy/Desktop/Cours master 2 dauphine/Semestre 2/Introduction au machine learning avec Python/Exo 3p92 et 2p102/insurance.pkl\")\n",
        "data_insurance.head(5)"
      ],
      "execution_count": 0,
      "outputs": [
        {
          "output_type": "execute_result",
          "data": {
            "text/html": [
              "<div>\n",
              "<style scoped>\n",
              "    .dataframe tbody tr th:only-of-type {\n",
              "        vertical-align: middle;\n",
              "    }\n",
              "\n",
              "    .dataframe tbody tr th {\n",
              "        vertical-align: top;\n",
              "    }\n",
              "\n",
              "    .dataframe thead th {\n",
              "        text-align: right;\n",
              "    }\n",
              "</style>\n",
              "<table border=\"1\" class=\"dataframe\">\n",
              "  <thead>\n",
              "    <tr style=\"text-align: right;\">\n",
              "      <th></th>\n",
              "      <th>age</th>\n",
              "      <th>bmi</th>\n",
              "      <th>children</th>\n",
              "      <th>charges</th>\n",
              "      <th>sex_female</th>\n",
              "      <th>sex_male</th>\n",
              "      <th>smoker_no</th>\n",
              "      <th>smoker_yes</th>\n",
              "      <th>region_northeast</th>\n",
              "      <th>region_northwest</th>\n",
              "      <th>region_southeast</th>\n",
              "      <th>region_southwest</th>\n",
              "    </tr>\n",
              "  </thead>\n",
              "  <tbody>\n",
              "    <tr>\n",
              "      <th>0</th>\n",
              "      <td>19</td>\n",
              "      <td>27.900</td>\n",
              "      <td>0</td>\n",
              "      <td>16884.92400</td>\n",
              "      <td>1</td>\n",
              "      <td>0</td>\n",
              "      <td>0</td>\n",
              "      <td>1</td>\n",
              "      <td>0</td>\n",
              "      <td>0</td>\n",
              "      <td>0</td>\n",
              "      <td>1</td>\n",
              "    </tr>\n",
              "    <tr>\n",
              "      <th>1</th>\n",
              "      <td>18</td>\n",
              "      <td>33.770</td>\n",
              "      <td>1</td>\n",
              "      <td>1725.55230</td>\n",
              "      <td>0</td>\n",
              "      <td>1</td>\n",
              "      <td>1</td>\n",
              "      <td>0</td>\n",
              "      <td>0</td>\n",
              "      <td>0</td>\n",
              "      <td>1</td>\n",
              "      <td>0</td>\n",
              "    </tr>\n",
              "    <tr>\n",
              "      <th>2</th>\n",
              "      <td>28</td>\n",
              "      <td>33.000</td>\n",
              "      <td>3</td>\n",
              "      <td>4449.46200</td>\n",
              "      <td>0</td>\n",
              "      <td>1</td>\n",
              "      <td>1</td>\n",
              "      <td>0</td>\n",
              "      <td>0</td>\n",
              "      <td>0</td>\n",
              "      <td>1</td>\n",
              "      <td>0</td>\n",
              "    </tr>\n",
              "    <tr>\n",
              "      <th>3</th>\n",
              "      <td>33</td>\n",
              "      <td>22.705</td>\n",
              "      <td>0</td>\n",
              "      <td>21984.47061</td>\n",
              "      <td>0</td>\n",
              "      <td>1</td>\n",
              "      <td>1</td>\n",
              "      <td>0</td>\n",
              "      <td>0</td>\n",
              "      <td>1</td>\n",
              "      <td>0</td>\n",
              "      <td>0</td>\n",
              "    </tr>\n",
              "    <tr>\n",
              "      <th>4</th>\n",
              "      <td>32</td>\n",
              "      <td>28.880</td>\n",
              "      <td>0</td>\n",
              "      <td>3866.85520</td>\n",
              "      <td>0</td>\n",
              "      <td>1</td>\n",
              "      <td>1</td>\n",
              "      <td>0</td>\n",
              "      <td>0</td>\n",
              "      <td>1</td>\n",
              "      <td>0</td>\n",
              "      <td>0</td>\n",
              "    </tr>\n",
              "  </tbody>\n",
              "</table>\n",
              "</div>"
            ],
            "text/plain": [
              "   age     bmi  children      charges  sex_female  sex_male  smoker_no  \\\n",
              "0   19  27.900         0  16884.92400           1         0          0   \n",
              "1   18  33.770         1   1725.55230           0         1          1   \n",
              "2   28  33.000         3   4449.46200           0         1          1   \n",
              "3   33  22.705         0  21984.47061           0         1          1   \n",
              "4   32  28.880         0   3866.85520           0         1          1   \n",
              "\n",
              "   smoker_yes  region_northeast  region_northwest  region_southeast  \\\n",
              "0           1                 0                 0                 0   \n",
              "1           0                 0                 0                 1   \n",
              "2           0                 0                 0                 1   \n",
              "3           0                 0                 1                 0   \n",
              "4           0                 0                 1                 0   \n",
              "\n",
              "   region_southwest  \n",
              "0                 1  \n",
              "1                 0  \n",
              "2                 0  \n",
              "3                 0  \n",
              "4                 0  "
            ]
          },
          "metadata": {
            "tags": []
          },
          "execution_count": 15
        }
      ]
    },
    {
      "cell_type": "code",
      "metadata": {
        "id": "WSKJhTuISh1-",
        "colab_type": "code",
        "colab": {}
      },
      "source": [
        "X = data_insurance.drop(['charges'],axis=1)\n",
        "Y = data_insurance['charges']\n",
        "\n",
        "from sklearn.model_selection import train_test_split\n",
        "X_train, X_test, Y_train, Y_test = train_test_split(X,Y,test_size=0.20,random_state=2003)"
      ],
      "execution_count": 0,
      "outputs": []
    },
    {
      "cell_type": "code",
      "metadata": {
        "id": "RZgSVvp4Sh2C",
        "colab_type": "code",
        "colab": {}
      },
      "source": [
        "from sklearn.preprocessing import StandardScaler\n",
        "scale = StandardScaler()\n",
        "scale.fit(X_train)\n",
        "X_train_scale = scale.transform(X_train)\n",
        "X_test_scale = scale.transform(X_test)"
      ],
      "execution_count": 0,
      "outputs": []
    },
    {
      "cell_type": "markdown",
      "metadata": {
        "id": "OCyudX0-Sh2H",
        "colab_type": "text"
      },
      "source": [
        "Question 2"
      ]
    },
    {
      "cell_type": "code",
      "metadata": {
        "id": "MRLDDYMQSh2K",
        "colab_type": "code",
        "colab": {},
        "outputId": "fbfb21ba-b13e-4cf1-e602-d9de0500ac6b"
      },
      "source": [
        "from sklearn.neural_network import MLPRegressor\n",
        "NN1 = MLPRegressor(hidden_layer_sizes=(10,10),activation='relu',solver='lbfgs',max_iter=1000,random_state=2000)\n",
        "NN1.fit(X_train_scale,Y_train.values.ravel())"
      ],
      "execution_count": 0,
      "outputs": [
        {
          "output_type": "execute_result",
          "data": {
            "text/plain": [
              "MLPRegressor(activation='relu', alpha=0.0001, batch_size='auto', beta_1=0.9,\n",
              "             beta_2=0.999, early_stopping=False, epsilon=1e-08,\n",
              "             hidden_layer_sizes=(10, 10), learning_rate='constant',\n",
              "             learning_rate_init=0.001, max_iter=1000, momentum=0.9,\n",
              "             n_iter_no_change=10, nesterovs_momentum=True, power_t=0.5,\n",
              "             random_state=2000, shuffle=True, solver='lbfgs', tol=0.0001,\n",
              "             validation_fraction=0.1, verbose=False, warm_start=False)"
            ]
          },
          "metadata": {
            "tags": []
          },
          "execution_count": 18
        }
      ]
    },
    {
      "cell_type": "code",
      "metadata": {
        "id": "uxRN88ovSh2R",
        "colab_type": "code",
        "colab": {}
      },
      "source": [
        "Y_pred = NN1.predict(X_test_scale)"
      ],
      "execution_count": 0,
      "outputs": []
    },
    {
      "cell_type": "markdown",
      "metadata": {
        "id": "OS33pWYVSh2Y",
        "colab_type": "text"
      },
      "source": [
        "Question 3"
      ]
    },
    {
      "cell_type": "code",
      "metadata": {
        "id": "iRBnGWUDSh2a",
        "colab_type": "code",
        "colab": {},
        "outputId": "3091e48e-5010-45d4-8eb9-746384a769ff"
      },
      "source": [
        "from sklearn.metrics import mean_absolute_error,r2_score\n",
        "print('MAE :'+str(mean_absolute_error(Y_test,NN1.predict(X_test_scale))))\n",
        "print('R2 :'+str(r2_score(Y_test,NN1.predict(X_test_scale))))"
      ],
      "execution_count": 0,
      "outputs": [
        {
          "output_type": "stream",
          "text": [
            "MAE :2862.6076909711837\n",
            "R2 :0.84135145178816\n"
          ],
          "name": "stdout"
        }
      ]
    },
    {
      "cell_type": "markdown",
      "metadata": {
        "id": "is0EpJRrSh2f",
        "colab_type": "text"
      },
      "source": [
        "Question 4 a)"
      ]
    },
    {
      "cell_type": "code",
      "metadata": {
        "id": "CjMJG2q6Sh2g",
        "colab_type": "code",
        "colab": {},
        "outputId": "d9442a43-f569-4e76-af6f-4fb065c9b0be"
      },
      "source": [
        "NN1.coefs_[1][2]"
      ],
      "execution_count": 0,
      "outputs": [
        {
          "output_type": "execute_result",
          "data": {
            "text/plain": [
              "array([ 7.80327611, 20.0002578 , 13.31034652, -0.68632835, -0.44365492,\n",
              "       -0.7202278 , -0.94833811, -0.04849164, 17.30163149, -0.3995933 ])"
            ]
          },
          "metadata": {
            "tags": []
          },
          "execution_count": 21
        }
      ]
    },
    {
      "cell_type": "markdown",
      "metadata": {
        "id": "FVVnHYGRSh2m",
        "colab_type": "text"
      },
      "source": [
        "Question 4 b)"
      ]
    },
    {
      "cell_type": "code",
      "metadata": {
        "id": "cRp6yaR-Sh2o",
        "colab_type": "code",
        "colab": {},
        "outputId": "29129520-0e69-482f-96fa-68889cfad3b7"
      },
      "source": [
        "NN1.coefs_[1][2][4]"
      ],
      "execution_count": 0,
      "outputs": [
        {
          "output_type": "execute_result",
          "data": {
            "text/plain": [
              "-0.4436549248775546"
            ]
          },
          "metadata": {
            "tags": []
          },
          "execution_count": 22
        }
      ]
    },
    {
      "cell_type": "markdown",
      "metadata": {
        "id": "eD5Bv8JhSh2v",
        "colab_type": "text"
      },
      "source": [
        "Question 4 c)"
      ]
    },
    {
      "cell_type": "code",
      "metadata": {
        "id": "V-VyvgGNSh2w",
        "colab_type": "code",
        "colab": {},
        "outputId": "3be006bc-f6f7-4d76-96f9-f87a869903ed"
      },
      "source": [
        "NN1.intercepts_[1]"
      ],
      "execution_count": 0,
      "outputs": [
        {
          "output_type": "execute_result",
          "data": {
            "text/plain": [
              "array([ -34.76449274, -185.54142176,  -98.83681629,   -5.148955  ,\n",
              "         -1.84406998,   -4.51997388,   -4.58137876,   -1.45008098,\n",
              "       -140.78909634,   -2.91647957])"
            ]
          },
          "metadata": {
            "tags": []
          },
          "execution_count": 23
        }
      ]
    },
    {
      "cell_type": "markdown",
      "metadata": {
        "id": "vDJa6-yjSh21",
        "colab_type": "text"
      },
      "source": [
        "Question 4 d)"
      ]
    },
    {
      "cell_type": "code",
      "metadata": {
        "id": "amLbfmFsSh23",
        "colab_type": "code",
        "colab": {},
        "outputId": "b3df6860-af24-46a0-bb07-2d4385cb9e1a"
      },
      "source": [
        "NN1.intercepts_[2]"
      ],
      "execution_count": 0,
      "outputs": [
        {
          "output_type": "execute_result",
          "data": {
            "text/plain": [
              "array([4.94622485])"
            ]
          },
          "metadata": {
            "tags": []
          },
          "execution_count": 24
        }
      ]
    },
    {
      "cell_type": "markdown",
      "metadata": {
        "id": "IjWqrF4OSh29",
        "colab_type": "text"
      },
      "source": [
        "Question 5)"
      ]
    },
    {
      "cell_type": "code",
      "metadata": {
        "id": "q17oONSaSh3A",
        "colab_type": "code",
        "colab": {},
        "outputId": "f248e7c8-ad2e-4f1e-f399-edc6c0aa7844"
      },
      "source": [
        "Ni=11\n",
        "No=10\n",
        "Ns=len(X_train)\n",
        "alpha = 5\n",
        "\n",
        "Nh=Ns/(alpha*(Ni+No))\n",
        "Nh"
      ],
      "execution_count": 0,
      "outputs": [
        {
          "output_type": "execute_result",
          "data": {
            "text/plain": [
              "10.19047619047619"
            ]
          },
          "metadata": {
            "tags": []
          },
          "execution_count": 38
        }
      ]
    },
    {
      "cell_type": "markdown",
      "metadata": {
        "id": "e4sEabRoSh3I",
        "colab_type": "text"
      },
      "source": [
        "Question 6)"
      ]
    },
    {
      "cell_type": "code",
      "metadata": {
        "id": "m7_MU8BySh3M",
        "colab_type": "code",
        "colab": {},
        "outputId": "648d74c8-19c5-4c6e-998a-2630808ea3b5"
      },
      "source": [
        "hiden = [(o,i) for o in range(11,20) for i in range(11,20)]\n",
        "from sklearn.model_selection import GridSearchCV\n",
        "from sklearn.neural_network import MLPRegressor\n",
        "parameters = {'hidden_layer_sizes':hiden,\\\n",
        "'activation':['relu'],\\\n",
        "'solver':['lbfgs'],'random_state':[2000],'max_iter':[800]}\n",
        "NN1 = MLPRegressor()\n",
        "clf = GridSearchCV(NN1, parameters,scoring='r2',cv=5)\n",
        "clf.fit(X_train_scale,Y_train)"
      ],
      "execution_count": 0,
      "outputs": [
        {
          "output_type": "execute_result",
          "data": {
            "text/plain": [
              "GridSearchCV(cv=5, error_score='raise-deprecating',\n",
              "             estimator=MLPRegressor(activation='relu', alpha=0.0001,\n",
              "                                    batch_size='auto', beta_1=0.9, beta_2=0.999,\n",
              "                                    early_stopping=False, epsilon=1e-08,\n",
              "                                    hidden_layer_sizes=(100,),\n",
              "                                    learning_rate='constant',\n",
              "                                    learning_rate_init=0.001, max_iter=200,\n",
              "                                    momentum=0.9, n_iter_no_change=10,\n",
              "                                    nesterovs_momentum=True, power_t=0.5,\n",
              "                                    random_stat...\n",
              "                                                (11, 14), (11, 15), (11, 16),\n",
              "                                                (11, 17), (11, 18), (11, 19),\n",
              "                                                (12, 11), (12, 12), (12, 13),\n",
              "                                                (12, 14), (12, 15), (12, 16),\n",
              "                                                (12, 17), (12, 18), (12, 19),\n",
              "                                                (13, 11), (13, 12), (13, 13),\n",
              "                                                (13, 14), (13, 15), (13, 16),\n",
              "                                                (13, 17), (13, 18), (13, 19),\n",
              "                                                (14, 11), (14, 12), (14, 13), ...],\n",
              "                         'max_iter': [800], 'random_state': [2000],\n",
              "                         'solver': ['lbfgs']},\n",
              "             pre_dispatch='2*n_jobs', refit=True, return_train_score=False,\n",
              "             scoring='r2', verbose=0)"
            ]
          },
          "metadata": {
            "tags": []
          },
          "execution_count": 39
        }
      ]
    },
    {
      "cell_type": "code",
      "metadata": {
        "id": "HgJl9ljKSh3d",
        "colab_type": "code",
        "colab": {},
        "outputId": "7ad0b878-6fab-4ddc-e826-e48cd5684a0c"
      },
      "source": [
        "print(\"meilleur score :\",clf.best_score_)"
      ],
      "execution_count": 0,
      "outputs": [
        {
          "output_type": "stream",
          "text": [
            "meilleur score : 0.825689057916035\n"
          ],
          "name": "stdout"
        }
      ]
    },
    {
      "cell_type": "code",
      "metadata": {
        "id": "GmZA3ygxSh3j",
        "colab_type": "code",
        "colab": {},
        "outputId": "9613d4d2-e27a-4bc8-e75a-05749fa7d32b"
      },
      "source": [
        "print(\"Meilleurs paramètres :\",clf.best_params_)"
      ],
      "execution_count": 0,
      "outputs": [
        {
          "output_type": "stream",
          "text": [
            "Meilleurs paramètres : {'activation': 'relu', 'hidden_layer_sizes': (14, 18), 'max_iter': 800, 'random_state': 2000, 'solver': 'lbfgs'}\n"
          ],
          "name": "stdout"
        }
      ]
    },
    {
      "cell_type": "markdown",
      "metadata": {
        "id": "tFj3zoC4Sh3n",
        "colab_type": "text"
      },
      "source": [
        "Question 7"
      ]
    },
    {
      "cell_type": "code",
      "metadata": {
        "id": "U90D3zHxSh3o",
        "colab_type": "code",
        "colab": {},
        "outputId": "44bf32c3-d814-4fb6-b52a-19a791952dfb"
      },
      "source": [
        "NN_best = MLPRegressor(**clf.best_params_)\n",
        "NN_best.fit(X_train_scale,Y_train)"
      ],
      "execution_count": 0,
      "outputs": [
        {
          "output_type": "execute_result",
          "data": {
            "text/plain": [
              "MLPRegressor(activation='relu', alpha=0.0001, batch_size='auto', beta_1=0.9,\n",
              "             beta_2=0.999, early_stopping=False, epsilon=1e-08,\n",
              "             hidden_layer_sizes=(14, 18), learning_rate='constant',\n",
              "             learning_rate_init=0.001, max_iter=800, momentum=0.9,\n",
              "             n_iter_no_change=10, nesterovs_momentum=True, power_t=0.5,\n",
              "             random_state=2000, shuffle=True, solver='lbfgs', tol=0.0001,\n",
              "             validation_fraction=0.1, verbose=False, warm_start=False)"
            ]
          },
          "metadata": {
            "tags": []
          },
          "execution_count": 42
        }
      ]
    },
    {
      "cell_type": "markdown",
      "metadata": {
        "id": "RhQwAAmESh3s",
        "colab_type": "text"
      },
      "source": [
        "Question 8"
      ]
    },
    {
      "cell_type": "code",
      "metadata": {
        "id": "HHGgxh1RSh3t",
        "colab_type": "code",
        "colab": {},
        "outputId": "1a7654eb-9ddc-435b-b46a-2717b6c1e6ff"
      },
      "source": [
        "from sklearn.metrics import mean_absolute_error,r2_score\n",
        "print('R2 :'+str(r2_score(Y_test,NN_best.predict(X_test_scale))))"
      ],
      "execution_count": 0,
      "outputs": [
        {
          "output_type": "stream",
          "text": [
            "R2 :0.8602536185971017\n"
          ],
          "name": "stdout"
        }
      ]
    }
  ]
}