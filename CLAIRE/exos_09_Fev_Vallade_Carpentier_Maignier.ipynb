{
  "nbformat": 4,
  "nbformat_minor": 0,
  "metadata": {
    "kernelspec": {
      "display_name": "Python 3",
      "language": "python",
      "name": "python3"
    },
    "language_info": {
      "codemirror_mode": {
        "name": "ipython",
        "version": 3
      },
      "file_extension": ".py",
      "mimetype": "text/x-python",
      "name": "python",
      "nbconvert_exporter": "python",
      "pygments_lexer": "ipython3",
      "version": "3.7.4"
    },
    "colab": {
      "name": "exos_09_Fev_Vallade_Carpentier_Maignier.ipynb",
      "provenance": [],
      "include_colab_link": true
    }
  },
  "cells": [
    {
      "cell_type": "markdown",
      "metadata": {
        "id": "view-in-github",
        "colab_type": "text"
      },
      "source": [
        "<a href=\"https://colab.research.google.com/github/fabnancyuhp/RENDUPYTHONISFSTAT/blob/master/exos_09_Fev_Vallade_Carpentier_Maignier.ipynb\" target=\"_parent\"><img src=\"https://colab.research.google.com/assets/colab-badge.svg\" alt=\"Open In Colab\"/></a>"
      ]
    },
    {
      "cell_type": "markdown",
      "metadata": {
        "id": "--Bj4ekYUHxR",
        "colab_type": "text"
      },
      "source": [
        "## Exercice 3 chapitre 9 "
      ]
    },
    {
      "cell_type": "code",
      "metadata": {
        "id": "Egdgk0L5UHxW",
        "colab_type": "code",
        "colab": {},
        "outputId": "eb0206f9-8e50-4b04-b396-c3574bb6b0f3"
      },
      "source": [
        "import numpy as np \n",
        "import pandas as pd \n",
        "import matplotlib.pyplot as plt\n",
        "\n",
        "data_credit=pd.read_pickle('/Users/jeremymaignier/Desktop/M2 280 ISF /SEMESTRE 2/Machine_learning/credit.pkl')\n",
        "data_credit\n",
        "\n",
        "for i in data_credit.index:\n",
        "    if data_credit.loc[i,'A16']=='-':\n",
        "        data_credit.loc[i,'A16']=0\n",
        "        \n",
        "    elif data_credit.loc[i,'A16']=='+':\n",
        "        data_credit.loc[i,'A16']=1\n",
        "\n",
        "data_credit.head()"
      ],
      "execution_count": 0,
      "outputs": [
        {
          "output_type": "execute_result",
          "data": {
            "text/html": [
              "<div>\n",
              "<style scoped>\n",
              "    .dataframe tbody tr th:only-of-type {\n",
              "        vertical-align: middle;\n",
              "    }\n",
              "\n",
              "    .dataframe tbody tr th {\n",
              "        vertical-align: top;\n",
              "    }\n",
              "\n",
              "    .dataframe thead th {\n",
              "        text-align: right;\n",
              "    }\n",
              "</style>\n",
              "<table border=\"1\" class=\"dataframe\">\n",
              "  <thead>\n",
              "    <tr style=\"text-align: right;\">\n",
              "      <th></th>\n",
              "      <th>A2</th>\n",
              "      <th>A3</th>\n",
              "      <th>A8</th>\n",
              "      <th>A11</th>\n",
              "      <th>A14</th>\n",
              "      <th>A15</th>\n",
              "      <th>A1_a</th>\n",
              "      <th>A1_b</th>\n",
              "      <th>A4_l</th>\n",
              "      <th>A4_u</th>\n",
              "      <th>...</th>\n",
              "      <th>A9_f</th>\n",
              "      <th>A9_t</th>\n",
              "      <th>A10_f</th>\n",
              "      <th>A10_t</th>\n",
              "      <th>A12_f</th>\n",
              "      <th>A12_t</th>\n",
              "      <th>A13_g</th>\n",
              "      <th>A13_p</th>\n",
              "      <th>A13_s</th>\n",
              "      <th>A16</th>\n",
              "    </tr>\n",
              "  </thead>\n",
              "  <tbody>\n",
              "    <tr>\n",
              "      <td>0</td>\n",
              "      <td>30.83</td>\n",
              "      <td>0.000</td>\n",
              "      <td>1.25</td>\n",
              "      <td>1.0</td>\n",
              "      <td>202.0</td>\n",
              "      <td>0.0</td>\n",
              "      <td>0</td>\n",
              "      <td>1</td>\n",
              "      <td>0</td>\n",
              "      <td>1</td>\n",
              "      <td>...</td>\n",
              "      <td>0</td>\n",
              "      <td>1</td>\n",
              "      <td>0</td>\n",
              "      <td>1</td>\n",
              "      <td>1</td>\n",
              "      <td>0</td>\n",
              "      <td>1</td>\n",
              "      <td>0</td>\n",
              "      <td>0</td>\n",
              "      <td>1</td>\n",
              "    </tr>\n",
              "    <tr>\n",
              "      <td>1</td>\n",
              "      <td>58.67</td>\n",
              "      <td>4.460</td>\n",
              "      <td>3.04</td>\n",
              "      <td>6.0</td>\n",
              "      <td>43.0</td>\n",
              "      <td>560.0</td>\n",
              "      <td>1</td>\n",
              "      <td>0</td>\n",
              "      <td>0</td>\n",
              "      <td>1</td>\n",
              "      <td>...</td>\n",
              "      <td>0</td>\n",
              "      <td>1</td>\n",
              "      <td>0</td>\n",
              "      <td>1</td>\n",
              "      <td>1</td>\n",
              "      <td>0</td>\n",
              "      <td>1</td>\n",
              "      <td>0</td>\n",
              "      <td>0</td>\n",
              "      <td>1</td>\n",
              "    </tr>\n",
              "    <tr>\n",
              "      <td>2</td>\n",
              "      <td>24.50</td>\n",
              "      <td>0.500</td>\n",
              "      <td>1.50</td>\n",
              "      <td>0.0</td>\n",
              "      <td>280.0</td>\n",
              "      <td>824.0</td>\n",
              "      <td>1</td>\n",
              "      <td>0</td>\n",
              "      <td>0</td>\n",
              "      <td>1</td>\n",
              "      <td>...</td>\n",
              "      <td>0</td>\n",
              "      <td>1</td>\n",
              "      <td>1</td>\n",
              "      <td>0</td>\n",
              "      <td>1</td>\n",
              "      <td>0</td>\n",
              "      <td>1</td>\n",
              "      <td>0</td>\n",
              "      <td>0</td>\n",
              "      <td>1</td>\n",
              "    </tr>\n",
              "    <tr>\n",
              "      <td>3</td>\n",
              "      <td>27.83</td>\n",
              "      <td>1.540</td>\n",
              "      <td>3.75</td>\n",
              "      <td>5.0</td>\n",
              "      <td>100.0</td>\n",
              "      <td>3.0</td>\n",
              "      <td>0</td>\n",
              "      <td>1</td>\n",
              "      <td>0</td>\n",
              "      <td>1</td>\n",
              "      <td>...</td>\n",
              "      <td>0</td>\n",
              "      <td>1</td>\n",
              "      <td>0</td>\n",
              "      <td>1</td>\n",
              "      <td>0</td>\n",
              "      <td>1</td>\n",
              "      <td>1</td>\n",
              "      <td>0</td>\n",
              "      <td>0</td>\n",
              "      <td>1</td>\n",
              "    </tr>\n",
              "    <tr>\n",
              "      <td>4</td>\n",
              "      <td>20.17</td>\n",
              "      <td>5.625</td>\n",
              "      <td>1.71</td>\n",
              "      <td>0.0</td>\n",
              "      <td>120.0</td>\n",
              "      <td>0.0</td>\n",
              "      <td>0</td>\n",
              "      <td>1</td>\n",
              "      <td>0</td>\n",
              "      <td>1</td>\n",
              "      <td>...</td>\n",
              "      <td>0</td>\n",
              "      <td>1</td>\n",
              "      <td>1</td>\n",
              "      <td>0</td>\n",
              "      <td>1</td>\n",
              "      <td>0</td>\n",
              "      <td>0</td>\n",
              "      <td>0</td>\n",
              "      <td>1</td>\n",
              "      <td>1</td>\n",
              "    </tr>\n",
              "  </tbody>\n",
              "</table>\n",
              "<p>5 rows × 47 columns</p>\n",
              "</div>"
            ],
            "text/plain": [
              "      A2     A3    A8  A11    A14    A15  A1_a  A1_b  A4_l  A4_u  ...  A9_f  \\\n",
              "0  30.83  0.000  1.25  1.0  202.0    0.0     0     1     0     1  ...     0   \n",
              "1  58.67  4.460  3.04  6.0   43.0  560.0     1     0     0     1  ...     0   \n",
              "2  24.50  0.500  1.50  0.0  280.0  824.0     1     0     0     1  ...     0   \n",
              "3  27.83  1.540  3.75  5.0  100.0    3.0     0     1     0     1  ...     0   \n",
              "4  20.17  5.625  1.71  0.0  120.0    0.0     0     1     0     1  ...     0   \n",
              "\n",
              "   A9_t  A10_f  A10_t  A12_f  A12_t  A13_g  A13_p  A13_s  A16  \n",
              "0     1      0      1      1      0      1      0      0    1  \n",
              "1     1      0      1      1      0      1      0      0    1  \n",
              "2     1      1      0      1      0      1      0      0    1  \n",
              "3     1      0      1      0      1      1      0      0    1  \n",
              "4     1      1      0      1      0      0      0      1    1  \n",
              "\n",
              "[5 rows x 47 columns]"
            ]
          },
          "metadata": {
            "tags": []
          },
          "execution_count": 76
        }
      ]
    },
    {
      "cell_type": "markdown",
      "metadata": {
        "id": "4sB0Jbl6UHxg",
        "colab_type": "text"
      },
      "source": [
        "#### Question 1"
      ]
    },
    {
      "cell_type": "code",
      "metadata": {
        "id": "-pzdmZPdUHxj",
        "colab_type": "code",
        "colab": {}
      },
      "source": [
        "features=list(data_credit)\n",
        "target=['A16'] #variable à expliquer\n",
        "features=[o for o in features if o not in 'A16']\n",
        "\n",
        "X=data_credit[features]\n",
        "Y=data_credit[target]\n",
        "\n",
        "from sklearn.model_selection import train_test_split\n",
        "X_train,X_test,Y_train,Y_test=train_test_split(X,Y,test_size=0.25,random_state=2018)\n",
        "\n",
        "from sklearn.preprocessing import StandardScaler\n",
        "scal=StandardScaler()\n",
        "scal.fit(X)\n",
        "\n",
        "X_train_scal=scal.transform(X_train)\n",
        "X_test_scal=scal.transform(X_test)"
      ],
      "execution_count": 0,
      "outputs": []
    },
    {
      "cell_type": "markdown",
      "metadata": {
        "id": "CT5MekjvUHxo",
        "colab_type": "text"
      },
      "source": [
        "#### Question 2"
      ]
    },
    {
      "cell_type": "code",
      "metadata": {
        "id": "gw98U3TkUHxq",
        "colab_type": "code",
        "colab": {},
        "outputId": "6af62867-1494-406a-8b2d-a08d5cdfb8a7"
      },
      "source": [
        "from sklearn.neural_network import MLPClassifier\n",
        "NN1=MLPClassifier(hidden_layer_sizes=(10,8),activation='logistic',solver='lbfgs',max_iter=500,random_state=2018)\n",
        "NN1.fit(X_train_scal,Y_train.values.ravel())\n",
        "Y_pred=NN1.predict(X_test_scal)\n",
        "Y_pred"
      ],
      "execution_count": 0,
      "outputs": [
        {
          "output_type": "execute_result",
          "data": {
            "text/plain": [
              "array([0, 0, 1, 0, 1, 1, 1, 0, 1, 0, 1, 1, 0, 1, 0, 1, 1, 0, 1, 1, 0, 0,\n",
              "       1, 0, 0, 1, 0, 0, 1, 0, 0, 1, 0, 1, 1, 0, 0, 0, 1, 1, 0, 0, 1, 1,\n",
              "       1, 0, 1, 1, 0, 0, 0, 0, 0, 1, 0, 1, 0, 0, 0, 0, 1, 1, 0, 1, 0, 0,\n",
              "       0, 0, 1, 0, 1, 1, 1, 0, 0, 1, 1, 0, 0, 1, 0, 1, 0, 0, 0, 1, 0, 0,\n",
              "       1, 1, 1, 0, 0, 0, 1, 1, 0, 1, 1, 1, 0, 1, 1, 1, 0, 1, 0, 1, 1, 0,\n",
              "       0, 0, 0, 0, 0, 1, 0, 0, 0, 1, 0, 0, 1, 1, 1, 1, 1, 0, 0, 0, 1, 0,\n",
              "       1, 1, 1, 1, 0, 1, 0, 0, 1, 1, 0, 0, 0, 0, 0, 0, 1, 1, 1, 0, 0, 1,\n",
              "       0, 0, 0, 0, 1, 0, 0, 0, 0, 1])"
            ]
          },
          "metadata": {
            "tags": []
          },
          "execution_count": 78
        }
      ]
    },
    {
      "cell_type": "markdown",
      "metadata": {
        "id": "KXola9O2UHxw",
        "colab_type": "text"
      },
      "source": [
        "#### Question 3"
      ]
    },
    {
      "cell_type": "code",
      "metadata": {
        "id": "aiYnEc-rUHxx",
        "colab_type": "code",
        "colab": {},
        "outputId": "6bf02697-8839-42ee-a07e-de1876810608"
      },
      "source": [
        "from sklearn.metrics import accuracy_score\n",
        "accuracy_score(Y_test,Y_pred)"
      ],
      "execution_count": 0,
      "outputs": [
        {
          "output_type": "execute_result",
          "data": {
            "text/plain": [
              "0.8353658536585366"
            ]
          },
          "metadata": {
            "tags": []
          },
          "execution_count": 79
        }
      ]
    },
    {
      "cell_type": "markdown",
      "metadata": {
        "id": "AfUwtmdfUHx3",
        "colab_type": "text"
      },
      "source": [
        "#### Question 4"
      ]
    },
    {
      "cell_type": "code",
      "metadata": {
        "id": "3NzBn2mkUHx5",
        "colab_type": "code",
        "colab": {},
        "outputId": "e9d9a241-ccca-445b-ad0b-06c472e2b862"
      },
      "source": [
        "from sklearn.metrics import roc_auc_score\n",
        "roc_auc_score(Y_test,NN1.predict_proba(X_test_scal)[:,1])"
      ],
      "execution_count": 0,
      "outputs": [
        {
          "output_type": "execute_result",
          "data": {
            "text/plain": [
              "0.8057172712345126"
            ]
          },
          "metadata": {
            "tags": []
          },
          "execution_count": 80
        }
      ]
    },
    {
      "cell_type": "markdown",
      "metadata": {
        "id": "fCONBw-5UHx_",
        "colab_type": "text"
      },
      "source": [
        "#### Question 5"
      ]
    },
    {
      "cell_type": "code",
      "metadata": {
        "id": "gGM85_MXUHyC",
        "colab_type": "code",
        "colab": {},
        "outputId": "a998f501-1141-49f1-fcd3-cca32f0bf1fb"
      },
      "source": [
        "NN2=MLPClassifier(hidden_layer_sizes=(10,5,8),activation='logistic',solver='lbfgs',random_state=2018)\n",
        "NN2.fit(X_train_scal,Y_train.values.ravel())\n",
        "Y_pred2=NN2.predict(X_test_scal)\n",
        "Y_pred2"
      ],
      "execution_count": 0,
      "outputs": [
        {
          "output_type": "execute_result",
          "data": {
            "text/plain": [
              "array([0, 0, 1, 0, 1, 1, 1, 0, 1, 0, 1, 1, 1, 1, 0, 1, 1, 0, 1, 1, 0, 1,\n",
              "       1, 0, 0, 1, 0, 0, 1, 0, 0, 1, 0, 1, 1, 0, 0, 0, 1, 1, 0, 0, 0, 1,\n",
              "       1, 0, 1, 1, 0, 0, 0, 0, 0, 1, 0, 1, 0, 0, 0, 0, 1, 1, 0, 1, 0, 1,\n",
              "       0, 0, 1, 0, 1, 1, 1, 0, 0, 1, 1, 0, 0, 0, 0, 1, 1, 0, 0, 1, 0, 0,\n",
              "       1, 1, 1, 0, 0, 0, 0, 0, 0, 1, 1, 1, 0, 1, 1, 1, 0, 1, 0, 1, 1, 0,\n",
              "       0, 1, 0, 0, 1, 1, 0, 1, 0, 1, 0, 0, 0, 1, 1, 1, 1, 0, 1, 0, 0, 1,\n",
              "       1, 1, 1, 1, 0, 1, 0, 0, 1, 1, 0, 0, 0, 0, 0, 0, 0, 1, 1, 0, 0, 0,\n",
              "       0, 0, 0, 0, 1, 0, 0, 0, 0, 1])"
            ]
          },
          "metadata": {
            "tags": []
          },
          "execution_count": 11
        }
      ]
    },
    {
      "cell_type": "markdown",
      "metadata": {
        "id": "f9SvN3EbUHyH",
        "colab_type": "text"
      },
      "source": [
        "#### Question 6"
      ]
    },
    {
      "cell_type": "code",
      "metadata": {
        "id": "MbXJxjGxUHyI",
        "colab_type": "code",
        "colab": {},
        "outputId": "d85d4468-5908-4da7-9d58-7741be11b1af"
      },
      "source": [
        "accuracy_score(Y_test,Y_pred2)"
      ],
      "execution_count": 0,
      "outputs": [
        {
          "output_type": "execute_result",
          "data": {
            "text/plain": [
              "0.8658536585365854"
            ]
          },
          "metadata": {
            "tags": []
          },
          "execution_count": 12
        }
      ]
    },
    {
      "cell_type": "markdown",
      "metadata": {
        "id": "i9MPcGy1UHyO",
        "colab_type": "text"
      },
      "source": [
        "#### Question 7"
      ]
    },
    {
      "cell_type": "code",
      "metadata": {
        "id": "y-eEZD2jUHyQ",
        "colab_type": "code",
        "colab": {},
        "outputId": "06de591c-4b4f-404d-f073-98c966a25c01"
      },
      "source": [
        "roc_auc_score(Y_test,NN2.predict_proba(X_test_scal)[:,1])"
      ],
      "execution_count": 0,
      "outputs": [
        {
          "output_type": "execute_result",
          "data": {
            "text/plain": [
              "0.8319152112255561"
            ]
          },
          "metadata": {
            "tags": []
          },
          "execution_count": 13
        }
      ]
    },
    {
      "cell_type": "markdown",
      "metadata": {
        "id": "FYMPKKStUHyW",
        "colab_type": "text"
      },
      "source": [
        "#### Question 8"
      ]
    },
    {
      "cell_type": "markdown",
      "metadata": {
        "id": "49diBFNUUHyX",
        "colab_type": "text"
      },
      "source": [
        "Le paramètre solver permet de choisir l'algorithme d'optimisation utilisé pour obtenir les paramètres de biais et de poids optimaux. Il peut être notamment \"Adam\",\"SGD\",\"lfbgs\"."
      ]
    },
    {
      "cell_type": "markdown",
      "metadata": {
        "id": "myp_hwgMUHyY",
        "colab_type": "text"
      },
      "source": [
        "#### Question 9"
      ]
    },
    {
      "cell_type": "code",
      "metadata": {
        "id": "-iHXoJAoUHya",
        "colab_type": "code",
        "colab": {},
        "outputId": "75a9129d-e119-4449-cfa3-432ede8c2870"
      },
      "source": [
        "from sklearn.metrics import roc_curve,auc\n",
        "fpr1,tpr1,threshold1=roc_curve(Y_test,NN1.predict_proba(X_test_scal)[:,1])\n",
        "auc(fpr1,tpr1)\n",
        "fpr2,tpr2,threshold2=roc_curve(Y_test,NN2.predict_proba(X_test_scal)[:,1])\n",
        "auc(fpr2,tpr2)\n",
        "\n",
        "plt.plot(fpr1,tpr1,label='roc_curve_NN1,auc='+str(auc(fpr1,tpr1)))\n",
        "plt.plot(fpr2,tpr2,label='roc_curve_NN2,auc='+str(auc(fpr2,tpr2)))\n",
        "plt.xlabel('fpr')\n",
        "plt.ylabel('tpr')\n",
        "plt.legend(loc=0)\n",
        "plt.show()"
      ],
      "execution_count": 0,
      "outputs": [
        {
          "output_type": "display_data",
          "data": {
            "image/png": "[encoded data removed]",
            "text/plain": [
              "<Figure size 432x288 with 1 Axes>"
            ]
          },
          "metadata": {
            "tags": [],
            "needs_background": "light"
          }
        }
      ]
    },
    {
      "cell_type": "markdown",
      "metadata": {
        "id": "bzHACJX9UHyg",
        "colab_type": "text"
      },
      "source": [
        "## Exercice 2.3 chapitre 10"
      ]
    },
    {
      "cell_type": "code",
      "metadata": {
        "id": "5-3doHvBUHyi",
        "colab_type": "code",
        "colab": {},
        "outputId": "f8120089-6405-4d2b-f07e-597d82add56d"
      },
      "source": [
        "import numpy as np \n",
        "import pandas as pd \n",
        "import matplotlib.pyplot as plt \n",
        "\n",
        "data_insurance=pd.read_pickle('/Users/jeremymaignier/Desktop/M2 280 ISF /SEMESTRE 2/Machine_learning/insurance.pkl')\n",
        "data_insurance"
      ],
      "execution_count": 0,
      "outputs": [
        {
          "output_type": "execute_result",
          "data": {
            "text/html": [
              "<div>\n",
              "<style scoped>\n",
              "    .dataframe tbody tr th:only-of-type {\n",
              "        vertical-align: middle;\n",
              "    }\n",
              "\n",
              "    .dataframe tbody tr th {\n",
              "        vertical-align: top;\n",
              "    }\n",
              "\n",
              "    .dataframe thead th {\n",
              "        text-align: right;\n",
              "    }\n",
              "</style>\n",
              "<table border=\"1\" class=\"dataframe\">\n",
              "  <thead>\n",
              "    <tr style=\"text-align: right;\">\n",
              "      <th></th>\n",
              "      <th>age</th>\n",
              "      <th>bmi</th>\n",
              "      <th>children</th>\n",
              "      <th>charges</th>\n",
              "      <th>sex_female</th>\n",
              "      <th>sex_male</th>\n",
              "      <th>smoker_no</th>\n",
              "      <th>smoker_yes</th>\n",
              "      <th>region_northeast</th>\n",
              "      <th>region_northwest</th>\n",
              "      <th>region_southeast</th>\n",
              "      <th>region_southwest</th>\n",
              "    </tr>\n",
              "  </thead>\n",
              "  <tbody>\n",
              "    <tr>\n",
              "      <td>0</td>\n",
              "      <td>19</td>\n",
              "      <td>27.900</td>\n",
              "      <td>0</td>\n",
              "      <td>16884.92400</td>\n",
              "      <td>1</td>\n",
              "      <td>0</td>\n",
              "      <td>0</td>\n",
              "      <td>1</td>\n",
              "      <td>0</td>\n",
              "      <td>0</td>\n",
              "      <td>0</td>\n",
              "      <td>1</td>\n",
              "    </tr>\n",
              "    <tr>\n",
              "      <td>1</td>\n",
              "      <td>18</td>\n",
              "      <td>33.770</td>\n",
              "      <td>1</td>\n",
              "      <td>1725.55230</td>\n",
              "      <td>0</td>\n",
              "      <td>1</td>\n",
              "      <td>1</td>\n",
              "      <td>0</td>\n",
              "      <td>0</td>\n",
              "      <td>0</td>\n",
              "      <td>1</td>\n",
              "      <td>0</td>\n",
              "    </tr>\n",
              "    <tr>\n",
              "      <td>2</td>\n",
              "      <td>28</td>\n",
              "      <td>33.000</td>\n",
              "      <td>3</td>\n",
              "      <td>4449.46200</td>\n",
              "      <td>0</td>\n",
              "      <td>1</td>\n",
              "      <td>1</td>\n",
              "      <td>0</td>\n",
              "      <td>0</td>\n",
              "      <td>0</td>\n",
              "      <td>1</td>\n",
              "      <td>0</td>\n",
              "    </tr>\n",
              "    <tr>\n",
              "      <td>3</td>\n",
              "      <td>33</td>\n",
              "      <td>22.705</td>\n",
              "      <td>0</td>\n",
              "      <td>21984.47061</td>\n",
              "      <td>0</td>\n",
              "      <td>1</td>\n",
              "      <td>1</td>\n",
              "      <td>0</td>\n",
              "      <td>0</td>\n",
              "      <td>1</td>\n",
              "      <td>0</td>\n",
              "      <td>0</td>\n",
              "    </tr>\n",
              "    <tr>\n",
              "      <td>4</td>\n",
              "      <td>32</td>\n",
              "      <td>28.880</td>\n",
              "      <td>0</td>\n",
              "      <td>3866.85520</td>\n",
              "      <td>0</td>\n",
              "      <td>1</td>\n",
              "      <td>1</td>\n",
              "      <td>0</td>\n",
              "      <td>0</td>\n",
              "      <td>1</td>\n",
              "      <td>0</td>\n",
              "      <td>0</td>\n",
              "    </tr>\n",
              "    <tr>\n",
              "      <td>...</td>\n",
              "      <td>...</td>\n",
              "      <td>...</td>\n",
              "      <td>...</td>\n",
              "      <td>...</td>\n",
              "      <td>...</td>\n",
              "      <td>...</td>\n",
              "      <td>...</td>\n",
              "      <td>...</td>\n",
              "      <td>...</td>\n",
              "      <td>...</td>\n",
              "      <td>...</td>\n",
              "      <td>...</td>\n",
              "    </tr>\n",
              "    <tr>\n",
              "      <td>1333</td>\n",
              "      <td>50</td>\n",
              "      <td>30.970</td>\n",
              "      <td>3</td>\n",
              "      <td>10600.54830</td>\n",
              "      <td>0</td>\n",
              "      <td>1</td>\n",
              "      <td>1</td>\n",
              "      <td>0</td>\n",
              "      <td>0</td>\n",
              "      <td>1</td>\n",
              "      <td>0</td>\n",
              "      <td>0</td>\n",
              "    </tr>\n",
              "    <tr>\n",
              "      <td>1334</td>\n",
              "      <td>18</td>\n",
              "      <td>31.920</td>\n",
              "      <td>0</td>\n",
              "      <td>2205.98080</td>\n",
              "      <td>1</td>\n",
              "      <td>0</td>\n",
              "      <td>1</td>\n",
              "      <td>0</td>\n",
              "      <td>1</td>\n",
              "      <td>0</td>\n",
              "      <td>0</td>\n",
              "      <td>0</td>\n",
              "    </tr>\n",
              "    <tr>\n",
              "      <td>1335</td>\n",
              "      <td>18</td>\n",
              "      <td>36.850</td>\n",
              "      <td>0</td>\n",
              "      <td>1629.83350</td>\n",
              "      <td>1</td>\n",
              "      <td>0</td>\n",
              "      <td>1</td>\n",
              "      <td>0</td>\n",
              "      <td>0</td>\n",
              "      <td>0</td>\n",
              "      <td>1</td>\n",
              "      <td>0</td>\n",
              "    </tr>\n",
              "    <tr>\n",
              "      <td>1336</td>\n",
              "      <td>21</td>\n",
              "      <td>25.800</td>\n",
              "      <td>0</td>\n",
              "      <td>2007.94500</td>\n",
              "      <td>1</td>\n",
              "      <td>0</td>\n",
              "      <td>1</td>\n",
              "      <td>0</td>\n",
              "      <td>0</td>\n",
              "      <td>0</td>\n",
              "      <td>0</td>\n",
              "      <td>1</td>\n",
              "    </tr>\n",
              "    <tr>\n",
              "      <td>1337</td>\n",
              "      <td>61</td>\n",
              "      <td>29.070</td>\n",
              "      <td>0</td>\n",
              "      <td>29141.36030</td>\n",
              "      <td>1</td>\n",
              "      <td>0</td>\n",
              "      <td>0</td>\n",
              "      <td>1</td>\n",
              "      <td>0</td>\n",
              "      <td>1</td>\n",
              "      <td>0</td>\n",
              "      <td>0</td>\n",
              "    </tr>\n",
              "  </tbody>\n",
              "</table>\n",
              "<p>1338 rows × 12 columns</p>\n",
              "</div>"
            ],
            "text/plain": [
              "      age     bmi  children      charges  sex_female  sex_male  smoker_no  \\\n",
              "0      19  27.900         0  16884.92400           1         0          0   \n",
              "1      18  33.770         1   1725.55230           0         1          1   \n",
              "2      28  33.000         3   4449.46200           0         1          1   \n",
              "3      33  22.705         0  21984.47061           0         1          1   \n",
              "4      32  28.880         0   3866.85520           0         1          1   \n",
              "...   ...     ...       ...          ...         ...       ...        ...   \n",
              "1333   50  30.970         3  10600.54830           0         1          1   \n",
              "1334   18  31.920         0   2205.98080           1         0          1   \n",
              "1335   18  36.850         0   1629.83350           1         0          1   \n",
              "1336   21  25.800         0   2007.94500           1         0          1   \n",
              "1337   61  29.070         0  29141.36030           1         0          0   \n",
              "\n",
              "      smoker_yes  region_northeast  region_northwest  region_southeast  \\\n",
              "0              1                 0                 0                 0   \n",
              "1              0                 0                 0                 1   \n",
              "2              0                 0                 0                 1   \n",
              "3              0                 0                 1                 0   \n",
              "4              0                 0                 1                 0   \n",
              "...          ...               ...               ...               ...   \n",
              "1333           0                 0                 1                 0   \n",
              "1334           0                 1                 0                 0   \n",
              "1335           0                 0                 0                 1   \n",
              "1336           0                 0                 0                 0   \n",
              "1337           1                 0                 1                 0   \n",
              "\n",
              "      region_southwest  \n",
              "0                    1  \n",
              "1                    0  \n",
              "2                    0  \n",
              "3                    0  \n",
              "4                    0  \n",
              "...                ...  \n",
              "1333                 0  \n",
              "1334                 0  \n",
              "1335                 0  \n",
              "1336                 1  \n",
              "1337                 0  \n",
              "\n",
              "[1338 rows x 12 columns]"
            ]
          },
          "metadata": {
            "tags": []
          },
          "execution_count": 81
        }
      ]
    },
    {
      "cell_type": "markdown",
      "metadata": {
        "id": "jmUS6zmJUHym",
        "colab_type": "text"
      },
      "source": [
        "#### Question 1"
      ]
    },
    {
      "cell_type": "code",
      "metadata": {
        "id": "UCQ2cLXqUHyo",
        "colab_type": "code",
        "colab": {}
      },
      "source": [
        "features=list(data_insurance)\n",
        "target=['charges']\n",
        "features=[o for o in features if o not in 'charges']\n",
        "X=data_insurance[features]\n",
        "Y=data_insurance[target]\n",
        "\n",
        "X_train,X_test,Y_train,Y_test=train_test_split(X,Y,test_size=0.20,random_state=2003)\n",
        "\n",
        "from sklearn.preprocessing import StandardScaler\n",
        "scale=StandardScaler()\n",
        "scale.fit(X)\n",
        "\n",
        "X_train_scaled=scale.transform(X_train)\n",
        "X_test_scaled=scale.transform(X_test)"
      ],
      "execution_count": 0,
      "outputs": []
    },
    {
      "cell_type": "markdown",
      "metadata": {
        "id": "i2T5L8TxUHyv",
        "colab_type": "text"
      },
      "source": [
        "#### Question 2"
      ]
    },
    {
      "cell_type": "code",
      "metadata": {
        "id": "ZUtcSOw1UHyx",
        "colab_type": "code",
        "colab": {},
        "outputId": "caaa2dbf-9eab-444c-fe73-a74f5c523916"
      },
      "source": [
        "from sklearn.neural_network import MLPRegressor\n",
        "NN1=MLPRegressor(hidden_layer_sizes=(10,10),activation='relu',max_iter=1000,solver='lbfgs',random_state=2000)\n",
        "NN1.fit(X_train_scaled,Y_train.values.ravel())"
      ],
      "execution_count": 0,
      "outputs": [
        {
          "output_type": "execute_result",
          "data": {
            "text/plain": [
              "MLPRegressor(activation='relu', alpha=0.0001, batch_size='auto', beta_1=0.9,\n",
              "             beta_2=0.999, early_stopping=False, epsilon=1e-08,\n",
              "             hidden_layer_sizes=(10, 10), learning_rate='constant',\n",
              "             learning_rate_init=0.001, max_iter=1000, momentum=0.9,\n",
              "             n_iter_no_change=10, nesterovs_momentum=True, power_t=0.5,\n",
              "             random_state=2000, shuffle=True, solver='lbfgs', tol=0.0001,\n",
              "             validation_fraction=0.1, verbose=False, warm_start=False)"
            ]
          },
          "metadata": {
            "tags": []
          },
          "execution_count": 83
        }
      ]
    },
    {
      "cell_type": "markdown",
      "metadata": {
        "id": "ke_u4yiUUHy2",
        "colab_type": "text"
      },
      "source": [
        "#### Question 3"
      ]
    },
    {
      "cell_type": "code",
      "metadata": {
        "id": "AZ0xQBedUHy3",
        "colab_type": "code",
        "colab": {},
        "outputId": "26d1646f-dad6-4aa4-96bf-f45974bf6df8"
      },
      "source": [
        "Y_predi=NN1.predict(X_test_scaled)\n",
        "from sklearn.metrics import r2_score,mean_absolute_error\n",
        "mae=mean_absolute_error(Y_test,Y_predi)\n",
        "r2=r2_score(Y_test,Y_predi)\n",
        "r2"
      ],
      "execution_count": 0,
      "outputs": [
        {
          "output_type": "execute_result",
          "data": {
            "text/plain": [
              "0.8454365908531376"
            ]
          },
          "metadata": {
            "tags": []
          },
          "execution_count": 84
        }
      ]
    },
    {
      "cell_type": "markdown",
      "metadata": {
        "id": "QCL9HDdeUHy8",
        "colab_type": "text"
      },
      "source": [
        "#### Question 4"
      ]
    },
    {
      "cell_type": "markdown",
      "metadata": {
        "id": "tk7lloL2UHy-",
        "colab_type": "text"
      },
      "source": [
        " a ) Déterminer les poids du réseau de neurone NN1 allant du neurone 3 de la couche caché 1 à l’ensemble des neurones de la couche caché 2. (En python on commence en 0)"
      ]
    },
    {
      "cell_type": "code",
      "metadata": {
        "id": "JMe5lGX2UHy_",
        "colab_type": "code",
        "colab": {},
        "outputId": "d77a5987-e252-4f6f-c67d-251e6c909782"
      },
      "source": [
        "NN1.coefs_[0][2]"
      ],
      "execution_count": 0,
      "outputs": [
        {
          "output_type": "execute_result",
          "data": {
            "text/plain": [
              "array([-4.54113984, -2.55968523, -1.2870831 ,  1.62009881,  7.41790886,\n",
              "        2.55117961,  2.50221101,  4.73420555,  0.54094249, 11.90961391])"
            ]
          },
          "metadata": {
            "tags": []
          },
          "execution_count": 85
        }
      ]
    },
    {
      "cell_type": "markdown",
      "metadata": {
        "id": "Hzyko6n3UHzE",
        "colab_type": "text"
      },
      "source": [
        "b) Déterminer le poids allant du neurone 3 de la couche cachée 1 au neurone 5 de la couche cachée 2."
      ]
    },
    {
      "cell_type": "code",
      "metadata": {
        "id": "xTuADrikUHzF",
        "colab_type": "code",
        "colab": {},
        "outputId": "fcf59ae7-9ff1-442c-e375-dc7f0d9f8a58"
      },
      "source": [
        "NN1.coefs_[0][2][4]"
      ],
      "execution_count": 0,
      "outputs": [
        {
          "output_type": "execute_result",
          "data": {
            "text/plain": [
              "7.417908859228222"
            ]
          },
          "metadata": {
            "tags": []
          },
          "execution_count": 86
        }
      ]
    },
    {
      "cell_type": "markdown",
      "metadata": {
        "id": "YXj3c3BlUHzM",
        "colab_type": "text"
      },
      "source": [
        "c) Déterminer les biais de la couche caché 2. On utilisera la fonction intercepts_. On a des biais unique- ment dans les couches cachées"
      ]
    },
    {
      "cell_type": "code",
      "metadata": {
        "id": "7mxKmY95UHzN",
        "colab_type": "code",
        "colab": {},
        "outputId": "09b2e043-a999-4322-d76e-06afb7ba1a5f"
      },
      "source": [
        "NN1.intercepts_[1]"
      ],
      "execution_count": 0,
      "outputs": [
        {
          "output_type": "execute_result",
          "data": {
            "text/plain": [
              "array([  0.39299801, -49.79486878, -13.49535187,  -5.49393263,\n",
              "        -2.01512331,  -4.84316086,  -4.95563854,  -1.52701719,\n",
              "       -33.41629885,  -3.15758704])"
            ]
          },
          "metadata": {
            "tags": []
          },
          "execution_count": 87
        }
      ]
    },
    {
      "cell_type": "markdown",
      "metadata": {
        "id": "h9S9px-6UHzS",
        "colab_type": "text"
      },
      "source": [
        "d) Déterminer le biais du neurone 3 de la couche caché 1."
      ]
    },
    {
      "cell_type": "code",
      "metadata": {
        "id": "xDkXuoPEUHzT",
        "colab_type": "code",
        "colab": {},
        "outputId": "50440d7e-7a3f-4ee3-bb90-f151f505a7a3"
      },
      "source": [
        "NN1.intercepts_[0][2]"
      ],
      "execution_count": 0,
      "outputs": [
        {
          "output_type": "execute_result",
          "data": {
            "text/plain": [
              "-25.5629620622773"
            ]
          },
          "metadata": {
            "tags": []
          },
          "execution_count": 94
        }
      ]
    },
    {
      "cell_type": "markdown",
      "metadata": {
        "id": "5U3Q4sIjUHzY",
        "colab_type": "text"
      },
      "source": [
        "#### Question 5"
      ]
    },
    {
      "cell_type": "code",
      "metadata": {
        "id": "Zt8INCFPUHzZ",
        "colab_type": "code",
        "colab": {},
        "outputId": "3da502cd-b89a-436a-fb7c-f77944d99a49"
      },
      "source": [
        "Ni = 11\n",
        "No = 1 \n",
        "Ns = 1338*0.8\n",
        "alpha=5\n",
        "\n",
        "Nh = Ns/(alpha*(Ni+No))\n",
        "Nh"
      ],
      "execution_count": 0,
      "outputs": [
        {
          "output_type": "execute_result",
          "data": {
            "text/plain": [
              "17.84"
            ]
          },
          "metadata": {
            "tags": []
          },
          "execution_count": 89
        }
      ]
    },
    {
      "cell_type": "markdown",
      "metadata": {
        "id": "oDWtGkJiUHze",
        "colab_type": "text"
      },
      "source": [
        "#### Question 6 "
      ]
    },
    {
      "cell_type": "code",
      "metadata": {
        "id": "6nwypTudUHzg",
        "colab_type": "code",
        "colab": {},
        "outputId": "bf2b641e-bc30-4d57-cf69-e53424e834c8"
      },
      "source": [
        "from sklearn.model_selection import GridSearchCV\n",
        "hiden = [(o,i) for o in range(11,20) for i in range(11,20)]\n",
        "parameters={'hidden_layer_sizes':hiden}\n",
        "NN2=MLPRegressor(activation='relu',max_iter=800,solver='lbfgs',random_state=2000)\n",
        "clf=GridSearchCV(NN2,parameters,scoring='r2',cv=5)\n",
        "clf.fit(X_train_scaled,Y_train.values.ravel())"
      ],
      "execution_count": 0,
      "outputs": [
        {
          "output_type": "execute_result",
          "data": {
            "text/plain": [
              "GridSearchCV(cv=5, error_score='raise-deprecating',\n",
              "             estimator=MLPRegressor(activation='relu', alpha=0.0001,\n",
              "                                    batch_size='auto', beta_1=0.9, beta_2=0.999,\n",
              "                                    early_stopping=False, epsilon=1e-08,\n",
              "                                    hidden_layer_sizes=(100,),\n",
              "                                    learning_rate='constant',\n",
              "                                    learning_rate_init=0.001, max_iter=800,\n",
              "                                    momentum=0.9, n_iter_no_change=10,\n",
              "                                    nesterovs_momentum=True, power_t=0.5,\n",
              "                                    random_stat...\n",
              "             param_grid={'hidden_layer_sizes': [(11, 11), (11, 12), (11, 13),\n",
              "                                                (11, 14), (11, 15), (11, 16),\n",
              "                                                (11, 17), (11, 18), (11, 19),\n",
              "                                                (12, 11), (12, 12), (12, 13),\n",
              "                                                (12, 14), (12, 15), (12, 16),\n",
              "                                                (12, 17), (12, 18), (12, 19),\n",
              "                                                (13, 11), (13, 12), (13, 13),\n",
              "                                                (13, 14), (13, 15), (13, 16),\n",
              "                                                (13, 17), (13, 18), (13, 19),\n",
              "                                                (14, 11), (14, 12), (14, 13), ...]},\n",
              "             pre_dispatch='2*n_jobs', refit=True, return_train_score=False,\n",
              "             scoring='r2', verbose=0)"
            ]
          },
          "metadata": {
            "tags": []
          },
          "execution_count": 63
        }
      ]
    },
    {
      "cell_type": "code",
      "metadata": {
        "id": "B3GRxrsaUHzl",
        "colab_type": "code",
        "colab": {},
        "outputId": "2fa30159-4d92-41f8-d4ea-509a8701cc36"
      },
      "source": [
        "clf.best_score_"
      ],
      "execution_count": 0,
      "outputs": [
        {
          "output_type": "execute_result",
          "data": {
            "text/plain": [
              "0.8243776133613975"
            ]
          },
          "metadata": {
            "tags": []
          },
          "execution_count": 65
        }
      ]
    },
    {
      "cell_type": "code",
      "metadata": {
        "id": "vj0tRKuIUHzr",
        "colab_type": "code",
        "colab": {},
        "outputId": "e9035251-8562-4839-83ac-0ca7bf5b0770"
      },
      "source": [
        "clf.best_params_"
      ],
      "execution_count": 0,
      "outputs": [
        {
          "output_type": "execute_result",
          "data": {
            "text/plain": [
              "{'hidden_layer_sizes': (11, 14)}"
            ]
          },
          "metadata": {
            "tags": []
          },
          "execution_count": 64
        }
      ]
    },
    {
      "cell_type": "markdown",
      "metadata": {
        "id": "9b7Y6h2mUHzw",
        "colab_type": "text"
      },
      "source": [
        "#### Question 7"
      ]
    },
    {
      "cell_type": "code",
      "metadata": {
        "id": "EPcH3HBAUHzx",
        "colab_type": "code",
        "colab": {},
        "outputId": "bbaceed9-81b4-4bd0-e915-30532ee94e51"
      },
      "source": [
        "NN_best=clf.best_estimator_\n",
        "NN_best.fit(X_train_scaled,Y_train.values.ravel())"
      ],
      "execution_count": 0,
      "outputs": [
        {
          "output_type": "execute_result",
          "data": {
            "text/plain": [
              "MLPRegressor(activation='relu', alpha=0.0001, batch_size='auto', beta_1=0.9,\n",
              "             beta_2=0.999, early_stopping=False, epsilon=1e-08,\n",
              "             hidden_layer_sizes=(11, 14), learning_rate='constant',\n",
              "             learning_rate_init=0.001, max_iter=800, momentum=0.9,\n",
              "             n_iter_no_change=10, nesterovs_momentum=True, power_t=0.5,\n",
              "             random_state=2000, shuffle=True, solver='lbfgs', tol=0.0001,\n",
              "             validation_fraction=0.1, verbose=False, warm_start=False)"
            ]
          },
          "metadata": {
            "tags": []
          },
          "execution_count": 66
        }
      ]
    },
    {
      "cell_type": "markdown",
      "metadata": {
        "id": "w2ynMU3hUHz7",
        "colab_type": "text"
      },
      "source": [
        "#### Question 8"
      ]
    },
    {
      "cell_type": "code",
      "metadata": {
        "id": "iKdGpwoQUHz8",
        "colab_type": "code",
        "colab": {},
        "outputId": "21e1a5ac-76ff-478b-86a0-80c1e7de12b3"
      },
      "source": [
        "from sklearn.metrics import r2_score\n",
        "Y_predi2=NN_best.predict(X_test_scaled)\n",
        "r2=r2_score(Y_test,Y_predi2)\n",
        "r2"
      ],
      "execution_count": 0,
      "outputs": [
        {
          "output_type": "execute_result",
          "data": {
            "text/plain": [
              "0.8386493103268688"
            ]
          },
          "metadata": {
            "tags": []
          },
          "execution_count": 69
        }
      ]
    }
  ]
}
