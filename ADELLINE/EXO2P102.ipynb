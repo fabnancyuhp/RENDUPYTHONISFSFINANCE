{
  "nbformat": 4,
  "nbformat_minor": 0,
  "metadata": {
    "kernelspec": {
      "display_name": "Python 3",
      "language": "python",
      "name": "python3"
    },
    "language_info": {
      "codemirror_mode": {
        "name": "ipython",
        "version": 3
      },
      "file_extension": ".py",
      "mimetype": "text/x-python",
      "name": "python",
      "nbconvert_exporter": "python",
      "pygments_lexer": "ipython3",
      "version": "3.6.7"
    },
    "colab": {
      "name": "EXO2P102.ipynb",
      "provenance": [],
      "include_colab_link": true
    }
  },
  "cells": [
    {
      "cell_type": "markdown",
      "metadata": {
        "id": "view-in-github",
        "colab_type": "text"
      },
      "source": [
        "<a href=\"https://colab.research.google.com/github/fabnancyuhp/RENDUPYTHONISFSTAT/blob/master/EXO2P102.ipynb\" target=\"_parent\"><img src=\"https://colab.research.google.com/assets/colab-badge.svg\" alt=\"Open In Colab\"/></a>"
      ]
    },
    {
      "cell_type": "code",
      "metadata": {
        "id": "rP8W6IJ_Zqyw",
        "colab_type": "code",
        "colab": {},
        "outputId": "32b97db5-fa14-4674-f3a6-45ec742bdd4d"
      },
      "source": [
        "import pandas as pd\n",
        "import numpy as np\n",
        "import pickle\n",
        "Assurance = pd.read_pickle(\"insurance.pkl\")\n",
        "Assurance.head()\n",
        "\n",
        "#On a un échantillon de 1338 observations et de 6 variables explicatives qualitatives et quantitatives pour permettre d'exprimer Y=charges"
      ],
      "execution_count": 0,
      "outputs": [
        {
          "output_type": "execute_result",
          "data": {
            "text/html": [
              "<div>\n",
              "<style scoped>\n",
              "    .dataframe tbody tr th:only-of-type {\n",
              "        vertical-align: middle;\n",
              "    }\n",
              "\n",
              "    .dataframe tbody tr th {\n",
              "        vertical-align: top;\n",
              "    }\n",
              "\n",
              "    .dataframe thead th {\n",
              "        text-align: right;\n",
              "    }\n",
              "</style>\n",
              "<table border=\"1\" class=\"dataframe\">\n",
              "  <thead>\n",
              "    <tr style=\"text-align: right;\">\n",
              "      <th></th>\n",
              "      <th>age</th>\n",
              "      <th>bmi</th>\n",
              "      <th>children</th>\n",
              "      <th>charges</th>\n",
              "      <th>sex_female</th>\n",
              "      <th>sex_male</th>\n",
              "      <th>smoker_no</th>\n",
              "      <th>smoker_yes</th>\n",
              "      <th>region_northeast</th>\n",
              "      <th>region_northwest</th>\n",
              "      <th>region_southeast</th>\n",
              "      <th>region_southwest</th>\n",
              "    </tr>\n",
              "  </thead>\n",
              "  <tbody>\n",
              "    <tr>\n",
              "      <th>0</th>\n",
              "      <td>19</td>\n",
              "      <td>27.900</td>\n",
              "      <td>0</td>\n",
              "      <td>16884.92400</td>\n",
              "      <td>1</td>\n",
              "      <td>0</td>\n",
              "      <td>0</td>\n",
              "      <td>1</td>\n",
              "      <td>0</td>\n",
              "      <td>0</td>\n",
              "      <td>0</td>\n",
              "      <td>1</td>\n",
              "    </tr>\n",
              "    <tr>\n",
              "      <th>1</th>\n",
              "      <td>18</td>\n",
              "      <td>33.770</td>\n",
              "      <td>1</td>\n",
              "      <td>1725.55230</td>\n",
              "      <td>0</td>\n",
              "      <td>1</td>\n",
              "      <td>1</td>\n",
              "      <td>0</td>\n",
              "      <td>0</td>\n",
              "      <td>0</td>\n",
              "      <td>1</td>\n",
              "      <td>0</td>\n",
              "    </tr>\n",
              "    <tr>\n",
              "      <th>2</th>\n",
              "      <td>28</td>\n",
              "      <td>33.000</td>\n",
              "      <td>3</td>\n",
              "      <td>4449.46200</td>\n",
              "      <td>0</td>\n",
              "      <td>1</td>\n",
              "      <td>1</td>\n",
              "      <td>0</td>\n",
              "      <td>0</td>\n",
              "      <td>0</td>\n",
              "      <td>1</td>\n",
              "      <td>0</td>\n",
              "    </tr>\n",
              "    <tr>\n",
              "      <th>3</th>\n",
              "      <td>33</td>\n",
              "      <td>22.705</td>\n",
              "      <td>0</td>\n",
              "      <td>21984.47061</td>\n",
              "      <td>0</td>\n",
              "      <td>1</td>\n",
              "      <td>1</td>\n",
              "      <td>0</td>\n",
              "      <td>0</td>\n",
              "      <td>1</td>\n",
              "      <td>0</td>\n",
              "      <td>0</td>\n",
              "    </tr>\n",
              "    <tr>\n",
              "      <th>4</th>\n",
              "      <td>32</td>\n",
              "      <td>28.880</td>\n",
              "      <td>0</td>\n",
              "      <td>3866.85520</td>\n",
              "      <td>0</td>\n",
              "      <td>1</td>\n",
              "      <td>1</td>\n",
              "      <td>0</td>\n",
              "      <td>0</td>\n",
              "      <td>1</td>\n",
              "      <td>0</td>\n",
              "      <td>0</td>\n",
              "    </tr>\n",
              "  </tbody>\n",
              "</table>\n",
              "</div>"
            ],
            "text/plain": [
              "   age     bmi  children      charges  sex_female  sex_male  smoker_no  \\\n",
              "0   19  27.900         0  16884.92400           1         0          0   \n",
              "1   18  33.770         1   1725.55230           0         1          1   \n",
              "2   28  33.000         3   4449.46200           0         1          1   \n",
              "3   33  22.705         0  21984.47061           0         1          1   \n",
              "4   32  28.880         0   3866.85520           0         1          1   \n",
              "\n",
              "   smoker_yes  region_northeast  region_northwest  region_southeast  \\\n",
              "0           1                 0                 0                 0   \n",
              "1           0                 0                 0                 1   \n",
              "2           0                 0                 0                 1   \n",
              "3           0                 0                 1                 0   \n",
              "4           0                 0                 1                 0   \n",
              "\n",
              "   region_southwest  \n",
              "0                 1  \n",
              "1                 0  \n",
              "2                 0  \n",
              "3                 0  \n",
              "4                 0  "
            ]
          },
          "metadata": {
            "tags": []
          },
          "execution_count": 1
        }
      ]
    },
    {
      "cell_type": "code",
      "metadata": {
        "id": "1Y0afWUHZqzF",
        "colab_type": "code",
        "colab": {},
        "outputId": "89d783e5-1c5d-4de4-a647-8f2d50efd0f1"
      },
      "source": [
        "#On s'intéresse à la distribution des variables afin de décider si on va scaler nos données ou non, il faudra aussi qu'on compare la précision avec ou sans cette standardisation\n",
        "Assurance.describe()"
      ],
      "execution_count": 0,
      "outputs": [
        {
          "output_type": "execute_result",
          "data": {
            "text/html": [
              "<div>\n",
              "<style scoped>\n",
              "    .dataframe tbody tr th:only-of-type {\n",
              "        vertical-align: middle;\n",
              "    }\n",
              "\n",
              "    .dataframe tbody tr th {\n",
              "        vertical-align: top;\n",
              "    }\n",
              "\n",
              "    .dataframe thead th {\n",
              "        text-align: right;\n",
              "    }\n",
              "</style>\n",
              "<table border=\"1\" class=\"dataframe\">\n",
              "  <thead>\n",
              "    <tr style=\"text-align: right;\">\n",
              "      <th></th>\n",
              "      <th>age</th>\n",
              "      <th>bmi</th>\n",
              "      <th>children</th>\n",
              "      <th>charges</th>\n",
              "      <th>sex_female</th>\n",
              "      <th>sex_male</th>\n",
              "      <th>smoker_no</th>\n",
              "      <th>smoker_yes</th>\n",
              "      <th>region_northeast</th>\n",
              "      <th>region_northwest</th>\n",
              "      <th>region_southeast</th>\n",
              "      <th>region_southwest</th>\n",
              "    </tr>\n",
              "  </thead>\n",
              "  <tbody>\n",
              "    <tr>\n",
              "      <th>count</th>\n",
              "      <td>1338.000000</td>\n",
              "      <td>1338.000000</td>\n",
              "      <td>1338.000000</td>\n",
              "      <td>1338.000000</td>\n",
              "      <td>1338.000000</td>\n",
              "      <td>1338.000000</td>\n",
              "      <td>1338.000000</td>\n",
              "      <td>1338.000000</td>\n",
              "      <td>1338.000000</td>\n",
              "      <td>1338.000000</td>\n",
              "      <td>1338.000000</td>\n",
              "      <td>1338.000000</td>\n",
              "    </tr>\n",
              "    <tr>\n",
              "      <th>mean</th>\n",
              "      <td>39.207025</td>\n",
              "      <td>30.663397</td>\n",
              "      <td>1.094918</td>\n",
              "      <td>13270.422265</td>\n",
              "      <td>0.494768</td>\n",
              "      <td>0.505232</td>\n",
              "      <td>0.795217</td>\n",
              "      <td>0.204783</td>\n",
              "      <td>0.242152</td>\n",
              "      <td>0.242900</td>\n",
              "      <td>0.272048</td>\n",
              "      <td>0.242900</td>\n",
              "    </tr>\n",
              "    <tr>\n",
              "      <th>std</th>\n",
              "      <td>14.049960</td>\n",
              "      <td>6.098187</td>\n",
              "      <td>1.205493</td>\n",
              "      <td>12110.011237</td>\n",
              "      <td>0.500160</td>\n",
              "      <td>0.500160</td>\n",
              "      <td>0.403694</td>\n",
              "      <td>0.403694</td>\n",
              "      <td>0.428546</td>\n",
              "      <td>0.428995</td>\n",
              "      <td>0.445181</td>\n",
              "      <td>0.428995</td>\n",
              "    </tr>\n",
              "    <tr>\n",
              "      <th>min</th>\n",
              "      <td>18.000000</td>\n",
              "      <td>15.960000</td>\n",
              "      <td>0.000000</td>\n",
              "      <td>1121.873900</td>\n",
              "      <td>0.000000</td>\n",
              "      <td>0.000000</td>\n",
              "      <td>0.000000</td>\n",
              "      <td>0.000000</td>\n",
              "      <td>0.000000</td>\n",
              "      <td>0.000000</td>\n",
              "      <td>0.000000</td>\n",
              "      <td>0.000000</td>\n",
              "    </tr>\n",
              "    <tr>\n",
              "      <th>25%</th>\n",
              "      <td>27.000000</td>\n",
              "      <td>26.296250</td>\n",
              "      <td>0.000000</td>\n",
              "      <td>4740.287150</td>\n",
              "      <td>0.000000</td>\n",
              "      <td>0.000000</td>\n",
              "      <td>1.000000</td>\n",
              "      <td>0.000000</td>\n",
              "      <td>0.000000</td>\n",
              "      <td>0.000000</td>\n",
              "      <td>0.000000</td>\n",
              "      <td>0.000000</td>\n",
              "    </tr>\n",
              "    <tr>\n",
              "      <th>50%</th>\n",
              "      <td>39.000000</td>\n",
              "      <td>30.400000</td>\n",
              "      <td>1.000000</td>\n",
              "      <td>9382.033000</td>\n",
              "      <td>0.000000</td>\n",
              "      <td>1.000000</td>\n",
              "      <td>1.000000</td>\n",
              "      <td>0.000000</td>\n",
              "      <td>0.000000</td>\n",
              "      <td>0.000000</td>\n",
              "      <td>0.000000</td>\n",
              "      <td>0.000000</td>\n",
              "    </tr>\n",
              "    <tr>\n",
              "      <th>75%</th>\n",
              "      <td>51.000000</td>\n",
              "      <td>34.693750</td>\n",
              "      <td>2.000000</td>\n",
              "      <td>16639.912515</td>\n",
              "      <td>1.000000</td>\n",
              "      <td>1.000000</td>\n",
              "      <td>1.000000</td>\n",
              "      <td>0.000000</td>\n",
              "      <td>0.000000</td>\n",
              "      <td>0.000000</td>\n",
              "      <td>1.000000</td>\n",
              "      <td>0.000000</td>\n",
              "    </tr>\n",
              "    <tr>\n",
              "      <th>max</th>\n",
              "      <td>64.000000</td>\n",
              "      <td>53.130000</td>\n",
              "      <td>5.000000</td>\n",
              "      <td>63770.428010</td>\n",
              "      <td>1.000000</td>\n",
              "      <td>1.000000</td>\n",
              "      <td>1.000000</td>\n",
              "      <td>1.000000</td>\n",
              "      <td>1.000000</td>\n",
              "      <td>1.000000</td>\n",
              "      <td>1.000000</td>\n",
              "      <td>1.000000</td>\n",
              "    </tr>\n",
              "  </tbody>\n",
              "</table>\n",
              "</div>"
            ],
            "text/plain": [
              "               age          bmi     children       charges   sex_female  \\\n",
              "count  1338.000000  1338.000000  1338.000000   1338.000000  1338.000000   \n",
              "mean     39.207025    30.663397     1.094918  13270.422265     0.494768   \n",
              "std      14.049960     6.098187     1.205493  12110.011237     0.500160   \n",
              "min      18.000000    15.960000     0.000000   1121.873900     0.000000   \n",
              "25%      27.000000    26.296250     0.000000   4740.287150     0.000000   \n",
              "50%      39.000000    30.400000     1.000000   9382.033000     0.000000   \n",
              "75%      51.000000    34.693750     2.000000  16639.912515     1.000000   \n",
              "max      64.000000    53.130000     5.000000  63770.428010     1.000000   \n",
              "\n",
              "          sex_male    smoker_no   smoker_yes  region_northeast  \\\n",
              "count  1338.000000  1338.000000  1338.000000       1338.000000   \n",
              "mean      0.505232     0.795217     0.204783          0.242152   \n",
              "std       0.500160     0.403694     0.403694          0.428546   \n",
              "min       0.000000     0.000000     0.000000          0.000000   \n",
              "25%       0.000000     1.000000     0.000000          0.000000   \n",
              "50%       1.000000     1.000000     0.000000          0.000000   \n",
              "75%       1.000000     1.000000     0.000000          0.000000   \n",
              "max       1.000000     1.000000     1.000000          1.000000   \n",
              "\n",
              "       region_northwest  region_southeast  region_southwest  \n",
              "count       1338.000000       1338.000000       1338.000000  \n",
              "mean           0.242900          0.272048          0.242900  \n",
              "std            0.428995          0.445181          0.428995  \n",
              "min            0.000000          0.000000          0.000000  \n",
              "25%            0.000000          0.000000          0.000000  \n",
              "50%            0.000000          0.000000          0.000000  \n",
              "75%            0.000000          1.000000          0.000000  \n",
              "max            1.000000          1.000000          1.000000  "
            ]
          },
          "metadata": {
            "tags": []
          },
          "execution_count": 152
        }
      ]
    },
    {
      "cell_type": "code",
      "metadata": {
        "id": "juU6pZi-ZqzQ",
        "colab_type": "code",
        "colab": {},
        "outputId": "f48aeb44-9969-4b34-c2d4-8868b09cf40e"
      },
      "source": [
        "#On sépare les variables explicatives de la variable Y\n",
        "var_expl = [o for o in Assurance.columns if o!='charges']\n",
        "X = Assurance[var_expl]\n",
        "Y = Assurance['charges']\n",
        "X.head()"
      ],
      "execution_count": 0,
      "outputs": [
        {
          "output_type": "execute_result",
          "data": {
            "text/html": [
              "<div>\n",
              "<style scoped>\n",
              "    .dataframe tbody tr th:only-of-type {\n",
              "        vertical-align: middle;\n",
              "    }\n",
              "\n",
              "    .dataframe tbody tr th {\n",
              "        vertical-align: top;\n",
              "    }\n",
              "\n",
              "    .dataframe thead th {\n",
              "        text-align: right;\n",
              "    }\n",
              "</style>\n",
              "<table border=\"1\" class=\"dataframe\">\n",
              "  <thead>\n",
              "    <tr style=\"text-align: right;\">\n",
              "      <th></th>\n",
              "      <th>age</th>\n",
              "      <th>bmi</th>\n",
              "      <th>children</th>\n",
              "      <th>sex_female</th>\n",
              "      <th>sex_male</th>\n",
              "      <th>smoker_no</th>\n",
              "      <th>smoker_yes</th>\n",
              "      <th>region_northeast</th>\n",
              "      <th>region_northwest</th>\n",
              "      <th>region_southeast</th>\n",
              "      <th>region_southwest</th>\n",
              "    </tr>\n",
              "  </thead>\n",
              "  <tbody>\n",
              "    <tr>\n",
              "      <th>0</th>\n",
              "      <td>19</td>\n",
              "      <td>27.900</td>\n",
              "      <td>0</td>\n",
              "      <td>1</td>\n",
              "      <td>0</td>\n",
              "      <td>0</td>\n",
              "      <td>1</td>\n",
              "      <td>0</td>\n",
              "      <td>0</td>\n",
              "      <td>0</td>\n",
              "      <td>1</td>\n",
              "    </tr>\n",
              "    <tr>\n",
              "      <th>1</th>\n",
              "      <td>18</td>\n",
              "      <td>33.770</td>\n",
              "      <td>1</td>\n",
              "      <td>0</td>\n",
              "      <td>1</td>\n",
              "      <td>1</td>\n",
              "      <td>0</td>\n",
              "      <td>0</td>\n",
              "      <td>0</td>\n",
              "      <td>1</td>\n",
              "      <td>0</td>\n",
              "    </tr>\n",
              "    <tr>\n",
              "      <th>2</th>\n",
              "      <td>28</td>\n",
              "      <td>33.000</td>\n",
              "      <td>3</td>\n",
              "      <td>0</td>\n",
              "      <td>1</td>\n",
              "      <td>1</td>\n",
              "      <td>0</td>\n",
              "      <td>0</td>\n",
              "      <td>0</td>\n",
              "      <td>1</td>\n",
              "      <td>0</td>\n",
              "    </tr>\n",
              "    <tr>\n",
              "      <th>3</th>\n",
              "      <td>33</td>\n",
              "      <td>22.705</td>\n",
              "      <td>0</td>\n",
              "      <td>0</td>\n",
              "      <td>1</td>\n",
              "      <td>1</td>\n",
              "      <td>0</td>\n",
              "      <td>0</td>\n",
              "      <td>1</td>\n",
              "      <td>0</td>\n",
              "      <td>0</td>\n",
              "    </tr>\n",
              "    <tr>\n",
              "      <th>4</th>\n",
              "      <td>32</td>\n",
              "      <td>28.880</td>\n",
              "      <td>0</td>\n",
              "      <td>0</td>\n",
              "      <td>1</td>\n",
              "      <td>1</td>\n",
              "      <td>0</td>\n",
              "      <td>0</td>\n",
              "      <td>1</td>\n",
              "      <td>0</td>\n",
              "      <td>0</td>\n",
              "    </tr>\n",
              "  </tbody>\n",
              "</table>\n",
              "</div>"
            ],
            "text/plain": [
              "   age     bmi  children  sex_female  sex_male  smoker_no  smoker_yes  \\\n",
              "0   19  27.900         0           1         0          0           1   \n",
              "1   18  33.770         1           0         1          1           0   \n",
              "2   28  33.000         3           0         1          1           0   \n",
              "3   33  22.705         0           0         1          1           0   \n",
              "4   32  28.880         0           0         1          1           0   \n",
              "\n",
              "   region_northeast  region_northwest  region_southeast  region_southwest  \n",
              "0                 0                 0                 0                 1  \n",
              "1                 0                 0                 1                 0  \n",
              "2                 0                 0                 1                 0  \n",
              "3                 0                 1                 0                 0  \n",
              "4                 0                 1                 0                 0  "
            ]
          },
          "metadata": {
            "tags": []
          },
          "execution_count": 2
        }
      ]
    },
    {
      "cell_type": "markdown",
      "metadata": {
        "id": "FF48oAgPZqzb",
        "colab_type": "text"
      },
      "source": [
        "# QUESTION 1"
      ]
    },
    {
      "cell_type": "code",
      "metadata": {
        "id": "u0vaTLkLZqzh",
        "colab_type": "code",
        "colab": {},
        "outputId": "f0513e29-954e-4710-83e5-469564928d0b"
      },
      "source": [
        "#On crée un échantillon test correspondant à 20% des observations\n",
        "\n",
        "from sklearn.model_selection import train_test_split\n",
        "X_train, X_test, Y_train, Y_test = train_test_split(X,Y,test_size=0.20,random_state=2003)\n",
        "X_train.head()\n",
        "\n",
        "#Le X_train contient 1070 observations et le X_test 268"
      ],
      "execution_count": 0,
      "outputs": [
        {
          "output_type": "execute_result",
          "data": {
            "text/html": [
              "<div>\n",
              "<style scoped>\n",
              "    .dataframe tbody tr th:only-of-type {\n",
              "        vertical-align: middle;\n",
              "    }\n",
              "\n",
              "    .dataframe tbody tr th {\n",
              "        vertical-align: top;\n",
              "    }\n",
              "\n",
              "    .dataframe thead th {\n",
              "        text-align: right;\n",
              "    }\n",
              "</style>\n",
              "<table border=\"1\" class=\"dataframe\">\n",
              "  <thead>\n",
              "    <tr style=\"text-align: right;\">\n",
              "      <th></th>\n",
              "      <th>age</th>\n",
              "      <th>bmi</th>\n",
              "      <th>children</th>\n",
              "      <th>sex_female</th>\n",
              "      <th>sex_male</th>\n",
              "      <th>smoker_no</th>\n",
              "      <th>smoker_yes</th>\n",
              "      <th>region_northeast</th>\n",
              "      <th>region_northwest</th>\n",
              "      <th>region_southeast</th>\n",
              "      <th>region_southwest</th>\n",
              "    </tr>\n",
              "  </thead>\n",
              "  <tbody>\n",
              "    <tr>\n",
              "      <th>911</th>\n",
              "      <td>18</td>\n",
              "      <td>31.73</td>\n",
              "      <td>0</td>\n",
              "      <td>0</td>\n",
              "      <td>1</td>\n",
              "      <td>0</td>\n",
              "      <td>1</td>\n",
              "      <td>1</td>\n",
              "      <td>0</td>\n",
              "      <td>0</td>\n",
              "      <td>0</td>\n",
              "    </tr>\n",
              "    <tr>\n",
              "      <th>396</th>\n",
              "      <td>43</td>\n",
              "      <td>34.40</td>\n",
              "      <td>3</td>\n",
              "      <td>1</td>\n",
              "      <td>0</td>\n",
              "      <td>1</td>\n",
              "      <td>0</td>\n",
              "      <td>0</td>\n",
              "      <td>0</td>\n",
              "      <td>0</td>\n",
              "      <td>1</td>\n",
              "    </tr>\n",
              "    <tr>\n",
              "      <th>1131</th>\n",
              "      <td>27</td>\n",
              "      <td>45.90</td>\n",
              "      <td>2</td>\n",
              "      <td>0</td>\n",
              "      <td>1</td>\n",
              "      <td>1</td>\n",
              "      <td>0</td>\n",
              "      <td>0</td>\n",
              "      <td>0</td>\n",
              "      <td>0</td>\n",
              "      <td>1</td>\n",
              "    </tr>\n",
              "    <tr>\n",
              "      <th>1090</th>\n",
              "      <td>47</td>\n",
              "      <td>36.19</td>\n",
              "      <td>0</td>\n",
              "      <td>0</td>\n",
              "      <td>1</td>\n",
              "      <td>0</td>\n",
              "      <td>1</td>\n",
              "      <td>0</td>\n",
              "      <td>0</td>\n",
              "      <td>1</td>\n",
              "      <td>0</td>\n",
              "    </tr>\n",
              "    <tr>\n",
              "      <th>662</th>\n",
              "      <td>32</td>\n",
              "      <td>31.54</td>\n",
              "      <td>1</td>\n",
              "      <td>1</td>\n",
              "      <td>0</td>\n",
              "      <td>1</td>\n",
              "      <td>0</td>\n",
              "      <td>1</td>\n",
              "      <td>0</td>\n",
              "      <td>0</td>\n",
              "      <td>0</td>\n",
              "    </tr>\n",
              "  </tbody>\n",
              "</table>\n",
              "</div>"
            ],
            "text/plain": [
              "      age    bmi  children  sex_female  sex_male  smoker_no  smoker_yes  \\\n",
              "911    18  31.73         0           0         1          0           1   \n",
              "396    43  34.40         3           1         0          1           0   \n",
              "1131   27  45.90         2           0         1          1           0   \n",
              "1090   47  36.19         0           0         1          0           1   \n",
              "662    32  31.54         1           1         0          1           0   \n",
              "\n",
              "      region_northeast  region_northwest  region_southeast  region_southwest  \n",
              "911                  1                 0                 0                 0  \n",
              "396                  0                 0                 0                 1  \n",
              "1131                 0                 0                 0                 1  \n",
              "1090                 0                 0                 1                 0  \n",
              "662                  1                 0                 0                 0  "
            ]
          },
          "metadata": {
            "tags": []
          },
          "execution_count": 3
        }
      ]
    },
    {
      "cell_type": "markdown",
      "metadata": {
        "id": "oXeBIXKXZqzt",
        "colab_type": "text"
      },
      "source": [
        "# QUESTION 2"
      ]
    },
    {
      "cell_type": "code",
      "metadata": {
        "id": "5rBidvS9Zqzv",
        "colab_type": "code",
        "colab": {}
      },
      "source": [
        "from sklearn.preprocessing import StandardScaler\n",
        "scal = StandardScaler()\n",
        "scal.fit(X_train)\n",
        "X_train_scaled = scal.transform(X_train)\n",
        "X_test_scaled = scal.transform(X_test)\n",
        "\n",
        "#On doit scaler car les variables sont mesurées à différentes échelles\n",
        "#Or cela pourrait entraîner un biais dans l'analyse"
      ],
      "execution_count": 0,
      "outputs": []
    },
    {
      "cell_type": "code",
      "metadata": {
        "id": "x_6b2y-RZqz6",
        "colab_type": "code",
        "colab": {},
        "outputId": "ee2e8778-2c2a-4334-a243-d7b4634ac38d"
      },
      "source": [
        "from sklearn.neural_network import MLPRegressor\n",
        "NN1 = MLPRegressor(hidden_layer_sizes=(10,10), activation='relu',solver='lbfgs',max_iter=1000,random_state=2000)\n",
        "\n",
        "#On entraîne notre modèle\n",
        "NN1.fit(X_train_scaled,Y_train)"
      ],
      "execution_count": 0,
      "outputs": [
        {
          "output_type": "stream",
          "text": [
            "/srv/conda/envs/notebook/lib/python3.6/site-packages/sklearn/neural_network/_multilayer_perceptron.py:470: ConvergenceWarning: lbfgs failed to converge (status=1):\n",
            "STOP: TOTAL NO. of ITERATIONS REACHED LIMIT.\n",
            "\n",
            "Increase the number of iterations (max_iter) or scale the data as shown in:\n",
            "    https://scikit-learn.org/stable/modules/preprocessing.html\n",
            "  self.n_iter_ = _check_optimize_result(\"lbfgs\", opt_res, self.max_iter)\n"
          ],
          "name": "stderr"
        },
        {
          "output_type": "execute_result",
          "data": {
            "text/plain": [
              "MLPRegressor(activation='relu', alpha=0.0001, batch_size='auto', beta_1=0.9,\n",
              "             beta_2=0.999, early_stopping=False, epsilon=1e-08,\n",
              "             hidden_layer_sizes=(10, 10), learning_rate='constant',\n",
              "             learning_rate_init=0.001, max_fun=15000, max_iter=1000,\n",
              "             momentum=0.9, n_iter_no_change=10, nesterovs_momentum=True,\n",
              "             power_t=0.5, random_state=2000, shuffle=True, solver='lbfgs',\n",
              "             tol=0.0001, validation_fraction=0.1, verbose=False,\n",
              "             warm_start=False)"
            ]
          },
          "metadata": {
            "tags": []
          },
          "execution_count": 5
        }
      ]
    },
    {
      "cell_type": "markdown",
      "metadata": {
        "id": "u-UsvXHDZq0A",
        "colab_type": "text"
      },
      "source": [
        "# QUESTION 3"
      ]
    },
    {
      "cell_type": "code",
      "metadata": {
        "id": "6MV9xtJCZq0C",
        "colab_type": "code",
        "colab": {},
        "outputId": "67fa1b31-ca29-4e47-e1b8-f40877d1939d"
      },
      "source": [
        "#On calcule l'erreur moyenne absolue\n",
        "from sklearn.metrics import mean_absolute_error, r2_score\n",
        "mean_absolute_error(Y_test,NN1.predict(X_test_scaled))\n"
      ],
      "execution_count": 0,
      "outputs": [
        {
          "output_type": "execute_result",
          "data": {
            "text/plain": [
              "17523.430348552574"
            ]
          },
          "metadata": {
            "tags": []
          },
          "execution_count": 94
        }
      ]
    },
    {
      "cell_type": "code",
      "metadata": {
        "id": "v30ZjVZPZq0H",
        "colab_type": "code",
        "colab": {},
        "outputId": "2645a7d6-ce71-4138-d0da-ab6ae88f8c55"
      },
      "source": [
        "#On calcule le score R2\n",
        "\n",
        "print('R2 :'+str(r2_score(Y_test,NN1.predict(X_test))))\n",
        "#On constate que le résultat est relativement satisfaisant"
      ],
      "execution_count": 0,
      "outputs": [
        {
          "output_type": "stream",
          "text": [
            "R2 :0.8543992608396195\n"
          ],
          "name": "stdout"
        }
      ]
    },
    {
      "cell_type": "markdown",
      "metadata": {
        "id": "_jW8EgrDZq0M",
        "colab_type": "text"
      },
      "source": [
        "# QUESTION 4"
      ]
    },
    {
      "cell_type": "code",
      "metadata": {
        "id": "TuKzDb5oZq0P",
        "colab_type": "code",
        "colab": {},
        "outputId": "759ec83e-9f36-48bb-b0e2-9bd5a20a7bf2"
      },
      "source": [
        "#Poids du neurone 3 de la couche cachée 1 à la couche cachée 2\n",
        "NN1.coefs_[1][2]"
      ],
      "execution_count": 0,
      "outputs": [
        {
          "output_type": "execute_result",
          "data": {
            "text/plain": [
              "array([ 4.23625133, 11.09321338,  6.92338083, -0.69388633, -0.45215117,\n",
              "       -0.72830745, -0.96439574, -0.04904821,  8.98583416, -0.40675898])"
            ]
          },
          "metadata": {
            "tags": []
          },
          "execution_count": 6
        }
      ]
    },
    {
      "cell_type": "code",
      "metadata": {
        "id": "PKgekTnxZq0V",
        "colab_type": "code",
        "colab": {},
        "outputId": "6d21674b-794a-4ed6-9259-277037edf8b4"
      },
      "source": [
        "#Poids du neurone 3 de la couche cachée 1 au neurone 5 de la couche cachée 2\n",
        "NN1.coefs_[1][2][4]"
      ],
      "execution_count": 0,
      "outputs": [
        {
          "output_type": "execute_result",
          "data": {
            "text/plain": [
              "-0.4521511669244792"
            ]
          },
          "metadata": {
            "tags": []
          },
          "execution_count": 7
        }
      ]
    },
    {
      "cell_type": "code",
      "metadata": {
        "id": "mLEe2bR1Zq0a",
        "colab_type": "code",
        "colab": {},
        "outputId": "35d56751-2807-4183-ac0b-45200ab6762d"
      },
      "source": [
        "#Biais de la couche cachée 2\n",
        "NN1.intercepts_[1]"
      ],
      "execution_count": 0,
      "outputs": [
        {
          "output_type": "execute_result",
          "data": {
            "text/plain": [
              "array([ -32.32077759, -183.27846569,  -94.80309823,   -5.20208113,\n",
              "         -1.86528326,   -4.5692951 ,   -4.63216977,   -1.46162043,\n",
              "       -136.3687462 ,   -2.95031438])"
            ]
          },
          "metadata": {
            "tags": []
          },
          "execution_count": 8
        }
      ]
    },
    {
      "cell_type": "code",
      "metadata": {
        "id": "vnHCWd-bZq0f",
        "colab_type": "code",
        "colab": {},
        "outputId": "8557f145-b57e-4814-e345-389494c84c00"
      },
      "source": [
        "#Biais du neurone 3 de la couche cachée 1\n",
        "NN1.intercepts_[0][2]"
      ],
      "execution_count": 0,
      "outputs": [
        {
          "output_type": "execute_result",
          "data": {
            "text/plain": [
              "-24.787584071374948"
            ]
          },
          "metadata": {
            "tags": []
          },
          "execution_count": 9
        }
      ]
    },
    {
      "cell_type": "markdown",
      "metadata": {
        "id": "I-aOekegZq0k",
        "colab_type": "text"
      },
      "source": [
        "# QUESTION 5"
      ]
    },
    {
      "cell_type": "code",
      "metadata": {
        "id": "FbZKhOnzZq0l",
        "colab_type": "code",
        "colab": {},
        "outputId": "b3155422-c76e-4891-8b91-11398981e0c8"
      },
      "source": [
        "#Nombre de input neurons\n",
        "Ni=NN1.coefs_[0].shape[0]\n",
        "Ni"
      ],
      "execution_count": 0,
      "outputs": [
        {
          "output_type": "execute_result",
          "data": {
            "text/plain": [
              "11"
            ]
          },
          "metadata": {
            "tags": []
          },
          "execution_count": 10
        }
      ]
    },
    {
      "cell_type": "code",
      "metadata": {
        "id": "WDzA2e-sZq0r",
        "colab_type": "code",
        "colab": {},
        "outputId": "02ccd357-6dc7-4892-9418-2cb5587252b9"
      },
      "source": [
        "#Nombre de output neurons\n",
        "No=NN1.coefs_[2].shape[1]\n",
        "No"
      ],
      "execution_count": 0,
      "outputs": [
        {
          "output_type": "execute_result",
          "data": {
            "text/plain": [
              "1"
            ]
          },
          "metadata": {
            "tags": []
          },
          "execution_count": 11
        }
      ]
    },
    {
      "cell_type": "code",
      "metadata": {
        "id": "0rGwTx4JZq0y",
        "colab_type": "code",
        "colab": {},
        "outputId": "f0841113-750e-4d79-8b18-34742c902267"
      },
      "source": [
        "#Ns = number of samples in training data\n",
        "Ns = X_train.shape[0]\n",
        "Ns"
      ],
      "execution_count": 0,
      "outputs": [
        {
          "output_type": "execute_result",
          "data": {
            "text/plain": [
              "1070"
            ]
          },
          "metadata": {
            "tags": []
          },
          "execution_count": 12
        }
      ]
    },
    {
      "cell_type": "code",
      "metadata": {
        "id": "zY4FCR_9Zq03",
        "colab_type": "code",
        "colab": {},
        "outputId": "5a257b66-b120-48e9-e9a7-847050eca460"
      },
      "source": [
        "#α = an arbitrary scaling factor\n",
        "α=5 \n",
        "Nh = Ns/(α*(Ni + No))\n",
        "Nh"
      ],
      "execution_count": 0,
      "outputs": [
        {
          "output_type": "execute_result",
          "data": {
            "text/plain": [
              "17.833333333333332"
            ]
          },
          "metadata": {
            "tags": []
          },
          "execution_count": 13
        }
      ]
    },
    {
      "cell_type": "markdown",
      "metadata": {
        "id": "KoFhyRNbZq08",
        "colab_type": "text"
      },
      "source": [
        "# QUESTION 6"
      ]
    },
    {
      "cell_type": "code",
      "metadata": {
        "id": "Z9oIvkKvZq09",
        "colab_type": "code",
        "colab": {}
      },
      "source": [
        "x = range(11,20)\n",
        "y = range(11,20)\n",
        "X,Y = np.meshgrid(x,y)"
      ],
      "execution_count": 0,
      "outputs": []
    },
    {
      "cell_type": "code",
      "metadata": {
        "id": "l9ufYfqOZq1B",
        "colab_type": "code",
        "colab": {}
      },
      "source": [
        "import itertools\n",
        "xy = [x for x in itertools.product(range(11,20),repeat=2)]"
      ],
      "execution_count": 0,
      "outputs": []
    },
    {
      "cell_type": "code",
      "metadata": {
        "id": "f-D4eZ3JZq1G",
        "colab_type": "code",
        "colab": {},
        "outputId": "8f9c6dd4-067d-4443-b20a-5128cee20488"
      },
      "source": [
        "param_grid = {'hidden_layer_sizes':xy}\n",
        "NN_fold = MLPRegressor( activation='relu',solver='lbfgs',max_iter=800,random_state=2000)\n",
        "\n",
        "from sklearn.model_selection import GridSearchCV\n",
        "NN = GridSearchCV(estimator=NN_fold,param_grid=param_grid,scoring='r2',cv=5)\n",
        "NN.fit(X_train_scaled,Y_train)"
      ],
      "execution_count": 0,
      "outputs": [
        {
          "output_type": "execute_result",
          "data": {
            "text/plain": [
              "GridSearchCV(cv=5, error_score='raise-deprecating',\n",
              "             estimator=MLPRegressor(activation='relu', alpha=0.0001,\n",
              "                                    batch_size='auto', beta_1=0.9, beta_2=0.999,\n",
              "                                    early_stopping=False, epsilon=1e-08,\n",
              "                                    hidden_layer_sizes=(100,),\n",
              "                                    learning_rate='constant',\n",
              "                                    learning_rate_init=0.001, max_iter=800,\n",
              "                                    momentum=0.9, n_iter_no_change=10,\n",
              "                                    nesterovs_momentum=True, power_t=0.5,\n",
              "                                    random_stat...\n",
              "             param_grid={'hidden_layer_sizes': [(11, 11), (11, 12), (11, 13),\n",
              "                                                (11, 14), (11, 15), (11, 16),\n",
              "                                                (11, 17), (11, 18), (11, 19),\n",
              "                                                (12, 11), (12, 12), (12, 13),\n",
              "                                                (12, 14), (12, 15), (12, 16),\n",
              "                                                (12, 17), (12, 18), (12, 19),\n",
              "                                                (13, 11), (13, 12), (13, 13),\n",
              "                                                (13, 14), (13, 15), (13, 16),\n",
              "                                                (13, 17), (13, 18), (13, 19),\n",
              "                                                (14, 11), (14, 12), (14, 13), ...]},\n",
              "             pre_dispatch='2*n_jobs', refit=True, return_train_score=False,\n",
              "             scoring='r2', verbose=0)"
            ]
          },
          "metadata": {
            "tags": []
          },
          "execution_count": 130
        }
      ]
    },
    {
      "cell_type": "markdown",
      "metadata": {
        "id": "4UqZbOC5Zq1P",
        "colab_type": "text"
      },
      "source": [
        "# QUESTION 7"
      ]
    },
    {
      "cell_type": "code",
      "metadata": {
        "id": "wIKB_l-BZq1R",
        "colab_type": "code",
        "colab": {},
        "outputId": "aa7d568c-3852-496e-fc7b-d137f1d0e0b2"
      },
      "source": [
        "NN.best_params_"
      ],
      "execution_count": 0,
      "outputs": [
        {
          "output_type": "execute_result",
          "data": {
            "text/plain": [
              "{'hidden_layer_sizes': (14, 18)}"
            ]
          },
          "metadata": {
            "tags": []
          },
          "execution_count": 132
        }
      ]
    },
    {
      "cell_type": "code",
      "metadata": {
        "id": "sBnWI8XHZq1W",
        "colab_type": "code",
        "colab": {},
        "outputId": "7fb3358b-289f-40c0-e8c8-a2ac6d1e6f68"
      },
      "source": [
        "NN_best = MLPRegressor(hidden_layer_sizes=(14,18), activation='relu',solver='lbfgs',max_iter=800,random_state=2000)\n",
        "NN_best.fit(X_train_scaled,Y_train)"
      ],
      "execution_count": 0,
      "outputs": [
        {
          "output_type": "execute_result",
          "data": {
            "text/plain": [
              "MLPRegressor(activation='relu', alpha=0.0001, batch_size='auto', beta_1=0.9,\n",
              "             beta_2=0.999, early_stopping=False, epsilon=1e-08,\n",
              "             hidden_layer_sizes=(14, 18), learning_rate='constant',\n",
              "             learning_rate_init=0.001, max_iter=800, momentum=0.9,\n",
              "             n_iter_no_change=10, nesterovs_momentum=True, power_t=0.5,\n",
              "             random_state=2000, shuffle=True, solver='lbfgs', tol=0.0001,\n",
              "             validation_fraction=0.1, verbose=False, warm_start=False)"
            ]
          },
          "metadata": {
            "tags": []
          },
          "execution_count": 155
        }
      ]
    },
    {
      "cell_type": "markdown",
      "metadata": {
        "id": "WvYYk5DpZq1b",
        "colab_type": "text"
      },
      "source": [
        "# QUESTION 8"
      ]
    },
    {
      "cell_type": "code",
      "metadata": {
        "id": "p-7u6uy6Zq1d",
        "colab_type": "code",
        "colab": {},
        "outputId": "dae1a7c7-b3ff-4b58-b114-41cc2e158cb8"
      },
      "source": [
        "NN_best.coefs_[2].shape"
      ],
      "execution_count": 0,
      "outputs": [
        {
          "output_type": "execute_result",
          "data": {
            "text/plain": [
              "(18, 1)"
            ]
          },
          "metadata": {
            "tags": []
          },
          "execution_count": 148
        }
      ]
    },
    {
      "cell_type": "code",
      "metadata": {
        "id": "nwacS1F1Zq1h",
        "colab_type": "code",
        "colab": {},
        "outputId": "9b8657df-c9ff-453a-b4cf-2a41900d7990"
      },
      "source": [
        "#On calcule l'erreur moyenne absolue\n",
        "mean_absolute_error(Y_test,NN_best.predict(X_test_scaled))\n",
        "\n",
        "#On constate qu'elle est beaucoup moins élevée que celle calculée précédemment"
      ],
      "execution_count": 0,
      "outputs": [
        {
          "output_type": "execute_result",
          "data": {
            "text/plain": [
              "2667.9612217817494"
            ]
          },
          "metadata": {
            "tags": []
          },
          "execution_count": 149
        }
      ]
    },
    {
      "cell_type": "code",
      "metadata": {
        "id": "9OzDct_YZq1n",
        "colab_type": "code",
        "colab": {},
        "outputId": "3f7680cd-403a-47f6-c35e-5bf43ad9f8a5"
      },
      "source": [
        "#On calcule le score R2\n",
        "\n",
        "print('R2 :'+str(r2_score(Y_test,NN_best.predict(X_test_scaled))))\n",
        "#On constate que le résultat est légèrement meilleur que celui du score R2 calculé initialement"
      ],
      "execution_count": 0,
      "outputs": [
        {
          "output_type": "stream",
          "text": [
            "R2 :0.8582116999319803\n"
          ],
          "name": "stdout"
        }
      ]
    }
  ]
}
