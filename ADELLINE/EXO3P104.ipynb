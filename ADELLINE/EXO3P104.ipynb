{
  "nbformat": 4,
  "nbformat_minor": 0,
  "metadata": {
    "kernelspec": {
      "display_name": "Python 3",
      "language": "python",
      "name": "python3"
    },
    "language_info": {
      "codemirror_mode": {
        "name": "ipython",
        "version": 3
      },
      "file_extension": ".py",
      "mimetype": "text/x-python",
      "name": "python",
      "nbconvert_exporter": "python",
      "pygments_lexer": "ipython3",
      "version": "3.6.7"
    },
    "colab": {
      "name": "EXO3P104.ipynb",
      "provenance": [],
      "include_colab_link": true
    }
  },
  "cells": [
    {
      "cell_type": "markdown",
      "metadata": {
        "id": "view-in-github",
        "colab_type": "text"
      },
      "source": [
        "<a href=\"https://colab.research.google.com/github/fabnancyuhp/RENDUPYTHONISFSTAT/blob/master/EXO3P104.ipynb\" target=\"_parent\"><img src=\"https://colab.research.google.com/assets/colab-badge.svg\" alt=\"Open In Colab\"/></a>"
      ]
    },
    {
      "cell_type": "code",
      "metadata": {
        "id": "iXLo3O-YYbCT",
        "colab_type": "code",
        "colab": {},
        "outputId": "888fccdb-f833-49ee-e9e5-e8f21a1e2a2a"
      },
      "source": [
        "import pandas as pd\n",
        "import numpy as np\n",
        "import pickle\n",
        "\n",
        "assurance = pd.read_pickle(\"C:/Users/trieu/OneDrive/Documents/M2 ISF/Python/insurance.pkl\")\n",
        "assurance.head()"
      ],
      "execution_count": 0,
      "outputs": [
        {
          "output_type": "execute_result",
          "data": {
            "text/html": [
              "<div>\n",
              "<style scoped>\n",
              "    .dataframe tbody tr th:only-of-type {\n",
              "        vertical-align: middle;\n",
              "    }\n",
              "\n",
              "    .dataframe tbody tr th {\n",
              "        vertical-align: top;\n",
              "    }\n",
              "\n",
              "    .dataframe thead th {\n",
              "        text-align: right;\n",
              "    }\n",
              "</style>\n",
              "<table border=\"1\" class=\"dataframe\">\n",
              "  <thead>\n",
              "    <tr style=\"text-align: right;\">\n",
              "      <th></th>\n",
              "      <th>age</th>\n",
              "      <th>bmi</th>\n",
              "      <th>children</th>\n",
              "      <th>charges</th>\n",
              "      <th>sex_female</th>\n",
              "      <th>sex_male</th>\n",
              "      <th>smoker_no</th>\n",
              "      <th>smoker_yes</th>\n",
              "      <th>region_northeast</th>\n",
              "      <th>region_northwest</th>\n",
              "      <th>region_southeast</th>\n",
              "      <th>region_southwest</th>\n",
              "    </tr>\n",
              "  </thead>\n",
              "  <tbody>\n",
              "    <tr>\n",
              "      <th>0</th>\n",
              "      <td>19</td>\n",
              "      <td>27.900</td>\n",
              "      <td>0</td>\n",
              "      <td>16884.92400</td>\n",
              "      <td>1</td>\n",
              "      <td>0</td>\n",
              "      <td>0</td>\n",
              "      <td>1</td>\n",
              "      <td>0</td>\n",
              "      <td>0</td>\n",
              "      <td>0</td>\n",
              "      <td>1</td>\n",
              "    </tr>\n",
              "    <tr>\n",
              "      <th>1</th>\n",
              "      <td>18</td>\n",
              "      <td>33.770</td>\n",
              "      <td>1</td>\n",
              "      <td>1725.55230</td>\n",
              "      <td>0</td>\n",
              "      <td>1</td>\n",
              "      <td>1</td>\n",
              "      <td>0</td>\n",
              "      <td>0</td>\n",
              "      <td>0</td>\n",
              "      <td>1</td>\n",
              "      <td>0</td>\n",
              "    </tr>\n",
              "    <tr>\n",
              "      <th>2</th>\n",
              "      <td>28</td>\n",
              "      <td>33.000</td>\n",
              "      <td>3</td>\n",
              "      <td>4449.46200</td>\n",
              "      <td>0</td>\n",
              "      <td>1</td>\n",
              "      <td>1</td>\n",
              "      <td>0</td>\n",
              "      <td>0</td>\n",
              "      <td>0</td>\n",
              "      <td>1</td>\n",
              "      <td>0</td>\n",
              "    </tr>\n",
              "    <tr>\n",
              "      <th>3</th>\n",
              "      <td>33</td>\n",
              "      <td>22.705</td>\n",
              "      <td>0</td>\n",
              "      <td>21984.47061</td>\n",
              "      <td>0</td>\n",
              "      <td>1</td>\n",
              "      <td>1</td>\n",
              "      <td>0</td>\n",
              "      <td>0</td>\n",
              "      <td>1</td>\n",
              "      <td>0</td>\n",
              "      <td>0</td>\n",
              "    </tr>\n",
              "    <tr>\n",
              "      <th>4</th>\n",
              "      <td>32</td>\n",
              "      <td>28.880</td>\n",
              "      <td>0</td>\n",
              "      <td>3866.85520</td>\n",
              "      <td>0</td>\n",
              "      <td>1</td>\n",
              "      <td>1</td>\n",
              "      <td>0</td>\n",
              "      <td>0</td>\n",
              "      <td>1</td>\n",
              "      <td>0</td>\n",
              "      <td>0</td>\n",
              "    </tr>\n",
              "  </tbody>\n",
              "</table>\n",
              "</div>"
            ],
            "text/plain": [
              "   age     bmi  children      charges  sex_female  sex_male  smoker_no  \\\n",
              "0   19  27.900         0  16884.92400           1         0          0   \n",
              "1   18  33.770         1   1725.55230           0         1          1   \n",
              "2   28  33.000         3   4449.46200           0         1          1   \n",
              "3   33  22.705         0  21984.47061           0         1          1   \n",
              "4   32  28.880         0   3866.85520           0         1          1   \n",
              "\n",
              "   smoker_yes  region_northeast  region_northwest  region_southeast  \\\n",
              "0           1                 0                 0                 0   \n",
              "1           0                 0                 0                 1   \n",
              "2           0                 0                 0                 1   \n",
              "3           0                 0                 1                 0   \n",
              "4           0                 0                 1                 0   \n",
              "\n",
              "   region_southwest  \n",
              "0                 1  \n",
              "1                 0  \n",
              "2                 0  \n",
              "3                 0  \n",
              "4                 0  "
            ]
          },
          "metadata": {
            "tags": []
          },
          "execution_count": 1
        }
      ]
    },
    {
      "cell_type": "code",
      "metadata": {
        "id": "FMFg30TgYbCh",
        "colab_type": "code",
        "colab": {},
        "outputId": "7dfc1d71-7a90-4341-83fc-5b0cf86875af"
      },
      "source": [
        "#On s'intéresse à la distribution des variables, à leurs valeurs statistiques afin de mieux se rendre compte de l'effet échelle\n",
        "assurance.describe()"
      ],
      "execution_count": 0,
      "outputs": [
        {
          "output_type": "execute_result",
          "data": {
            "text/html": [
              "<div>\n",
              "<style scoped>\n",
              "    .dataframe tbody tr th:only-of-type {\n",
              "        vertical-align: middle;\n",
              "    }\n",
              "\n",
              "    .dataframe tbody tr th {\n",
              "        vertical-align: top;\n",
              "    }\n",
              "\n",
              "    .dataframe thead th {\n",
              "        text-align: right;\n",
              "    }\n",
              "</style>\n",
              "<table border=\"1\" class=\"dataframe\">\n",
              "  <thead>\n",
              "    <tr style=\"text-align: right;\">\n",
              "      <th></th>\n",
              "      <th>age</th>\n",
              "      <th>bmi</th>\n",
              "      <th>children</th>\n",
              "      <th>charges</th>\n",
              "      <th>sex_female</th>\n",
              "      <th>sex_male</th>\n",
              "      <th>smoker_no</th>\n",
              "      <th>smoker_yes</th>\n",
              "      <th>region_northeast</th>\n",
              "      <th>region_northwest</th>\n",
              "      <th>region_southeast</th>\n",
              "      <th>region_southwest</th>\n",
              "    </tr>\n",
              "  </thead>\n",
              "  <tbody>\n",
              "    <tr>\n",
              "      <th>count</th>\n",
              "      <td>1338.000000</td>\n",
              "      <td>1338.000000</td>\n",
              "      <td>1338.000000</td>\n",
              "      <td>1338.000000</td>\n",
              "      <td>1338.000000</td>\n",
              "      <td>1338.000000</td>\n",
              "      <td>1338.000000</td>\n",
              "      <td>1338.000000</td>\n",
              "      <td>1338.000000</td>\n",
              "      <td>1338.000000</td>\n",
              "      <td>1338.000000</td>\n",
              "      <td>1338.000000</td>\n",
              "    </tr>\n",
              "    <tr>\n",
              "      <th>mean</th>\n",
              "      <td>39.207025</td>\n",
              "      <td>30.663397</td>\n",
              "      <td>1.094918</td>\n",
              "      <td>13270.422265</td>\n",
              "      <td>0.494768</td>\n",
              "      <td>0.505232</td>\n",
              "      <td>0.795217</td>\n",
              "      <td>0.204783</td>\n",
              "      <td>0.242152</td>\n",
              "      <td>0.242900</td>\n",
              "      <td>0.272048</td>\n",
              "      <td>0.242900</td>\n",
              "    </tr>\n",
              "    <tr>\n",
              "      <th>std</th>\n",
              "      <td>14.049960</td>\n",
              "      <td>6.098187</td>\n",
              "      <td>1.205493</td>\n",
              "      <td>12110.011237</td>\n",
              "      <td>0.500160</td>\n",
              "      <td>0.500160</td>\n",
              "      <td>0.403694</td>\n",
              "      <td>0.403694</td>\n",
              "      <td>0.428546</td>\n",
              "      <td>0.428995</td>\n",
              "      <td>0.445181</td>\n",
              "      <td>0.428995</td>\n",
              "    </tr>\n",
              "    <tr>\n",
              "      <th>min</th>\n",
              "      <td>18.000000</td>\n",
              "      <td>15.960000</td>\n",
              "      <td>0.000000</td>\n",
              "      <td>1121.873900</td>\n",
              "      <td>0.000000</td>\n",
              "      <td>0.000000</td>\n",
              "      <td>0.000000</td>\n",
              "      <td>0.000000</td>\n",
              "      <td>0.000000</td>\n",
              "      <td>0.000000</td>\n",
              "      <td>0.000000</td>\n",
              "      <td>0.000000</td>\n",
              "    </tr>\n",
              "    <tr>\n",
              "      <th>25%</th>\n",
              "      <td>27.000000</td>\n",
              "      <td>26.296250</td>\n",
              "      <td>0.000000</td>\n",
              "      <td>4740.287150</td>\n",
              "      <td>0.000000</td>\n",
              "      <td>0.000000</td>\n",
              "      <td>1.000000</td>\n",
              "      <td>0.000000</td>\n",
              "      <td>0.000000</td>\n",
              "      <td>0.000000</td>\n",
              "      <td>0.000000</td>\n",
              "      <td>0.000000</td>\n",
              "    </tr>\n",
              "    <tr>\n",
              "      <th>50%</th>\n",
              "      <td>39.000000</td>\n",
              "      <td>30.400000</td>\n",
              "      <td>1.000000</td>\n",
              "      <td>9382.033000</td>\n",
              "      <td>0.000000</td>\n",
              "      <td>1.000000</td>\n",
              "      <td>1.000000</td>\n",
              "      <td>0.000000</td>\n",
              "      <td>0.000000</td>\n",
              "      <td>0.000000</td>\n",
              "      <td>0.000000</td>\n",
              "      <td>0.000000</td>\n",
              "    </tr>\n",
              "    <tr>\n",
              "      <th>75%</th>\n",
              "      <td>51.000000</td>\n",
              "      <td>34.693750</td>\n",
              "      <td>2.000000</td>\n",
              "      <td>16639.912515</td>\n",
              "      <td>1.000000</td>\n",
              "      <td>1.000000</td>\n",
              "      <td>1.000000</td>\n",
              "      <td>0.000000</td>\n",
              "      <td>0.000000</td>\n",
              "      <td>0.000000</td>\n",
              "      <td>1.000000</td>\n",
              "      <td>0.000000</td>\n",
              "    </tr>\n",
              "    <tr>\n",
              "      <th>max</th>\n",
              "      <td>64.000000</td>\n",
              "      <td>53.130000</td>\n",
              "      <td>5.000000</td>\n",
              "      <td>63770.428010</td>\n",
              "      <td>1.000000</td>\n",
              "      <td>1.000000</td>\n",
              "      <td>1.000000</td>\n",
              "      <td>1.000000</td>\n",
              "      <td>1.000000</td>\n",
              "      <td>1.000000</td>\n",
              "      <td>1.000000</td>\n",
              "      <td>1.000000</td>\n",
              "    </tr>\n",
              "  </tbody>\n",
              "</table>\n",
              "</div>"
            ],
            "text/plain": [
              "               age          bmi     children       charges   sex_female  \\\n",
              "count  1338.000000  1338.000000  1338.000000   1338.000000  1338.000000   \n",
              "mean     39.207025    30.663397     1.094918  13270.422265     0.494768   \n",
              "std      14.049960     6.098187     1.205493  12110.011237     0.500160   \n",
              "min      18.000000    15.960000     0.000000   1121.873900     0.000000   \n",
              "25%      27.000000    26.296250     0.000000   4740.287150     0.000000   \n",
              "50%      39.000000    30.400000     1.000000   9382.033000     0.000000   \n",
              "75%      51.000000    34.693750     2.000000  16639.912515     1.000000   \n",
              "max      64.000000    53.130000     5.000000  63770.428010     1.000000   \n",
              "\n",
              "          sex_male    smoker_no   smoker_yes  region_northeast  \\\n",
              "count  1338.000000  1338.000000  1338.000000       1338.000000   \n",
              "mean      0.505232     0.795217     0.204783          0.242152   \n",
              "std       0.500160     0.403694     0.403694          0.428546   \n",
              "min       0.000000     0.000000     0.000000          0.000000   \n",
              "25%       0.000000     1.000000     0.000000          0.000000   \n",
              "50%       1.000000     1.000000     0.000000          0.000000   \n",
              "75%       1.000000     1.000000     0.000000          0.000000   \n",
              "max       1.000000     1.000000     1.000000          1.000000   \n",
              "\n",
              "       region_northwest  region_southeast  region_southwest  \n",
              "count       1338.000000       1338.000000       1338.000000  \n",
              "mean           0.242900          0.272048          0.242900  \n",
              "std            0.428995          0.445181          0.428995  \n",
              "min            0.000000          0.000000          0.000000  \n",
              "25%            0.000000          0.000000          0.000000  \n",
              "50%            0.000000          0.000000          0.000000  \n",
              "75%            0.000000          1.000000          0.000000  \n",
              "max            1.000000          1.000000          1.000000  "
            ]
          },
          "metadata": {
            "tags": []
          },
          "execution_count": 2
        }
      ]
    },
    {
      "cell_type": "code",
      "metadata": {
        "id": "dQFc4CjaYbCn",
        "colab_type": "code",
        "colab": {},
        "outputId": "ad1299d9-73fd-4185-a326-099e9521844b"
      },
      "source": [
        "#On sépare les variables explicatives de la variable Y\n",
        "var_explicatives = [o for o in assurance.columns if o!='charges']\n",
        "X = assurance[var_explicatives]\n",
        "Y = assurance['charges']\n",
        "X.head()"
      ],
      "execution_count": 0,
      "outputs": [
        {
          "output_type": "execute_result",
          "data": {
            "text/html": [
              "<div>\n",
              "<style scoped>\n",
              "    .dataframe tbody tr th:only-of-type {\n",
              "        vertical-align: middle;\n",
              "    }\n",
              "\n",
              "    .dataframe tbody tr th {\n",
              "        vertical-align: top;\n",
              "    }\n",
              "\n",
              "    .dataframe thead th {\n",
              "        text-align: right;\n",
              "    }\n",
              "</style>\n",
              "<table border=\"1\" class=\"dataframe\">\n",
              "  <thead>\n",
              "    <tr style=\"text-align: right;\">\n",
              "      <th></th>\n",
              "      <th>age</th>\n",
              "      <th>bmi</th>\n",
              "      <th>children</th>\n",
              "      <th>sex_female</th>\n",
              "      <th>sex_male</th>\n",
              "      <th>smoker_no</th>\n",
              "      <th>smoker_yes</th>\n",
              "      <th>region_northeast</th>\n",
              "      <th>region_northwest</th>\n",
              "      <th>region_southeast</th>\n",
              "      <th>region_southwest</th>\n",
              "    </tr>\n",
              "  </thead>\n",
              "  <tbody>\n",
              "    <tr>\n",
              "      <th>0</th>\n",
              "      <td>19</td>\n",
              "      <td>27.900</td>\n",
              "      <td>0</td>\n",
              "      <td>1</td>\n",
              "      <td>0</td>\n",
              "      <td>0</td>\n",
              "      <td>1</td>\n",
              "      <td>0</td>\n",
              "      <td>0</td>\n",
              "      <td>0</td>\n",
              "      <td>1</td>\n",
              "    </tr>\n",
              "    <tr>\n",
              "      <th>1</th>\n",
              "      <td>18</td>\n",
              "      <td>33.770</td>\n",
              "      <td>1</td>\n",
              "      <td>0</td>\n",
              "      <td>1</td>\n",
              "      <td>1</td>\n",
              "      <td>0</td>\n",
              "      <td>0</td>\n",
              "      <td>0</td>\n",
              "      <td>1</td>\n",
              "      <td>0</td>\n",
              "    </tr>\n",
              "    <tr>\n",
              "      <th>2</th>\n",
              "      <td>28</td>\n",
              "      <td>33.000</td>\n",
              "      <td>3</td>\n",
              "      <td>0</td>\n",
              "      <td>1</td>\n",
              "      <td>1</td>\n",
              "      <td>0</td>\n",
              "      <td>0</td>\n",
              "      <td>0</td>\n",
              "      <td>1</td>\n",
              "      <td>0</td>\n",
              "    </tr>\n",
              "    <tr>\n",
              "      <th>3</th>\n",
              "      <td>33</td>\n",
              "      <td>22.705</td>\n",
              "      <td>0</td>\n",
              "      <td>0</td>\n",
              "      <td>1</td>\n",
              "      <td>1</td>\n",
              "      <td>0</td>\n",
              "      <td>0</td>\n",
              "      <td>1</td>\n",
              "      <td>0</td>\n",
              "      <td>0</td>\n",
              "    </tr>\n",
              "    <tr>\n",
              "      <th>4</th>\n",
              "      <td>32</td>\n",
              "      <td>28.880</td>\n",
              "      <td>0</td>\n",
              "      <td>0</td>\n",
              "      <td>1</td>\n",
              "      <td>1</td>\n",
              "      <td>0</td>\n",
              "      <td>0</td>\n",
              "      <td>1</td>\n",
              "      <td>0</td>\n",
              "      <td>0</td>\n",
              "    </tr>\n",
              "  </tbody>\n",
              "</table>\n",
              "</div>"
            ],
            "text/plain": [
              "   age     bmi  children  sex_female  sex_male  smoker_no  smoker_yes  \\\n",
              "0   19  27.900         0           1         0          0           1   \n",
              "1   18  33.770         1           0         1          1           0   \n",
              "2   28  33.000         3           0         1          1           0   \n",
              "3   33  22.705         0           0         1          1           0   \n",
              "4   32  28.880         0           0         1          1           0   \n",
              "\n",
              "   region_northeast  region_northwest  region_southeast  region_southwest  \n",
              "0                 0                 0                 0                 1  \n",
              "1                 0                 0                 1                 0  \n",
              "2                 0                 0                 1                 0  \n",
              "3                 0                 1                 0                 0  \n",
              "4                 0                 1                 0                 0  "
            ]
          },
          "metadata": {
            "tags": []
          },
          "execution_count": 3
        }
      ]
    },
    {
      "cell_type": "markdown",
      "metadata": {
        "id": "cWC8zncFYbCt",
        "colab_type": "text"
      },
      "source": [
        "# QUESTION 1"
      ]
    },
    {
      "cell_type": "code",
      "metadata": {
        "id": "hURbRka5YbCv",
        "colab_type": "code",
        "colab": {}
      },
      "source": [
        "#On crée un échantillon test correspondant à 20%\n",
        "from sklearn.model_selection import train_test_split\n",
        "X_train, X_test, Y_train, Y_test = train_test_split(X,Y,test_size=0.20,random_state=2003)"
      ],
      "execution_count": 0,
      "outputs": []
    },
    {
      "cell_type": "markdown",
      "metadata": {
        "id": "NhqlyC96YbC1",
        "colab_type": "text"
      },
      "source": [
        "# QUESTION 2"
      ]
    },
    {
      "cell_type": "code",
      "metadata": {
        "id": "4c2xgDqbYbC2",
        "colab_type": "code",
        "colab": {}
      },
      "source": [
        "#On scale car on constate des différences d'échelle dans la distribution des variables\n",
        "from sklearn.preprocessing import StandardScaler\n",
        "scal = StandardScaler()\n",
        "scal.fit(X_train)\n",
        "X_train_scal = scal.transform(X_train)\n",
        "X_test_scal = scal.transform(X_test)"
      ],
      "execution_count": 0,
      "outputs": []
    },
    {
      "cell_type": "markdown",
      "metadata": {
        "id": "ZYJ2367qYbC7",
        "colab_type": "text"
      },
      "source": [
        "# QUESTION 3 "
      ]
    },
    {
      "cell_type": "code",
      "metadata": {
        "id": "CCgq3cixYbC_",
        "colab_type": "code",
        "colab": {},
        "outputId": "4a3c6362-59e5-453f-aa31-cd4ed9691594"
      },
      "source": [
        "#On entraîne notre modèle\n",
        "from sklearn.svm import SVR\n",
        "SVMR = SVR(kernel='linear',C=200,gamma=0.08, epsilon=1) \n",
        "SVMR.fit(X_train_scal,Y_train)"
      ],
      "execution_count": 0,
      "outputs": [
        {
          "output_type": "execute_result",
          "data": {
            "text/plain": [
              "SVR(C=200, cache_size=200, coef0=0.0, degree=3, epsilon=1, gamma=0.08,\n",
              "    kernel='linear', max_iter=-1, shrinking=True, tol=0.001, verbose=False)"
            ]
          },
          "metadata": {
            "tags": []
          },
          "execution_count": 10
        }
      ]
    },
    {
      "cell_type": "markdown",
      "metadata": {
        "id": "fZhSd9VvYbDF",
        "colab_type": "text"
      },
      "source": [
        "# QUESTION 4"
      ]
    },
    {
      "cell_type": "code",
      "metadata": {
        "id": "ONDyqFptYbDG",
        "colab_type": "code",
        "colab": {},
        "outputId": "bce161c8-eea2-4cf4-f3a3-e6471f7713c1"
      },
      "source": [
        "from sklearn.metrics import r2_score\n",
        "print(\"R2 score =\"+str(r2_score(Y_test,SVMR.predict(X_test_scal))))\n",
        "\n",
        "#On constate que le R2 score est relativement plus élevé que la moyenne, ce qui est correct"
      ],
      "execution_count": 0,
      "outputs": [
        {
          "output_type": "stream",
          "text": [
            "R2 score =0.746032637386953\n"
          ],
          "name": "stdout"
        }
      ]
    },
    {
      "cell_type": "markdown",
      "metadata": {
        "id": "mNhh9q7nYbDM",
        "colab_type": "text"
      },
      "source": [
        "# QUESTION 5"
      ]
    },
    {
      "cell_type": "code",
      "metadata": {
        "id": "75NsbHiTYbDN",
        "colab_type": "code",
        "colab": {},
        "outputId": "fd14d33e-1553-4d56-8e77-b382b7ea1431"
      },
      "source": [
        "#On entraîne le modèle\n",
        "from sklearn.svm import SVR\n",
        "SVMRPOLY = SVR(kernel='poly', degree=3,C=800,epsilon=1) \n",
        "SVMRPOLY.fit(X_train_scal,Y_train)"
      ],
      "execution_count": 0,
      "outputs": [
        {
          "output_type": "execute_result",
          "data": {
            "text/plain": [
              "SVR(C=800, cache_size=200, coef0=0.0, degree=3, epsilon=1,\n",
              "    gamma='auto_deprecated', kernel='poly', max_iter=-1, shrinking=True,\n",
              "    tol=0.001, verbose=False)"
            ]
          },
          "metadata": {
            "tags": []
          },
          "execution_count": 12
        }
      ]
    },
    {
      "cell_type": "markdown",
      "metadata": {
        "id": "c4HS_u1mYbDT",
        "colab_type": "text"
      },
      "source": [
        "4) On va tracer sur un même graphique:\n",
        "• le score r2 d’un SVR sur l’ensemble d’apprentissage en fonction du degree du polynome\n",
        "• le score r2 du même SVR l’ensemble de test en fonction du degree du polynome\n",
        "Les autres paramêtres sont constants: kernel=’poly’, C=800, epsilon=1."
      ]
    },
    {
      "cell_type": "code",
      "metadata": {
        "id": "ide4YwKlYbDV",
        "colab_type": "code",
        "colab": {},
        "outputId": "df2b6094-81b3-47f4-890c-48914470ffe8"
      },
      "source": [
        "r2_score(Y_test,SVMR.predict(X_test_scal))"
      ],
      "execution_count": 0,
      "outputs": [
        {
          "output_type": "execute_result",
          "data": {
            "text/plain": [
              "0.746032637386953"
            ]
          },
          "metadata": {
            "tags": []
          },
          "execution_count": 16
        }
      ]
    },
    {
      "cell_type": "markdown",
      "metadata": {
        "id": "KNj2TwCPYbDb",
        "colab_type": "text"
      },
      "source": [
        "# QUESTION 6"
      ]
    },
    {
      "cell_type": "code",
      "metadata": {
        "id": "JvxW-XYYYbDc",
        "colab_type": "code",
        "colab": {}
      },
      "source": [
        "#On calcule les 2 R2 sur test et train pour 10 degrés\n",
        "Degrees=[]\n",
        "R2_train=[]\n",
        "R2_test=[]\n",
        "for i in range(10):\n",
        "    SVMRPOLY = SVR(kernel='poly', degree=i+1,C=800,epsilon=1) \n",
        "    SVMRPOLY.fit(X_train_scal,Y_train)\n",
        "    Degrees.append(i+1)\n",
        "    R2_test.append(r2_score(Y_test,SVMRPOLY.predict(X_test_scal)))\n",
        "    R2_train.append(r2_score(Y_train,SVMRPOLY.predict(X_train_scal)))"
      ],
      "execution_count": 0,
      "outputs": []
    },
    {
      "cell_type": "code",
      "metadata": {
        "id": "Wp9J3pqLYbDh",
        "colab_type": "code",
        "colab": {},
        "outputId": "3b496fdb-8758-4fb5-b723-eaefee883d8e"
      },
      "source": [
        "import matplotlib.pyplot as plt\n",
        "plt.figure()\n",
        "plt.plot(Degrees,R2_train,color='orange',label='R2_train=')\n",
        "plt.plot(Degrees,R2_test,color='red',label='R2_test=')\n",
        "plt.title(\"R2 en fct du degré polynomial\")\n",
        "plt.xlabel(\"Degré du polynome\")\n",
        "plt.ylabel(\"R2\")\n",
        "plt.legend(loc=\"upper left\")\n",
        "plt.show()"
      ],
      "execution_count": 0,
      "outputs": [
        {
          "output_type": "display_data",
          "data": {
            "image/png": "[encoded data removed]",
            "text/plain": [
              "<Figure size 432x288 with 1 Axes>"
            ]
          },
          "metadata": {
            "tags": [],
            "needs_background": "light"
          }
        }
      ]
    }
  ]
}
