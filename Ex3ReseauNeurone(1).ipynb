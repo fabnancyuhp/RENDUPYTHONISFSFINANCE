{
  "nbformat": 4,
  "nbformat_minor": 0,
  "metadata": {
    "kernelspec": {
      "display_name": "Python 3",
      "language": "python",
      "name": "python3"
    },
    "language_info": {
      "codemirror_mode": {
        "name": "ipython",
        "version": 3
      },
      "file_extension": ".py",
      "mimetype": "text/x-python",
      "name": "python",
      "nbconvert_exporter": "python",
      "pygments_lexer": "ipython3",
      "version": "3.6.5"
    },
    "colab": {
      "name": "Ex3ReseauNeurone(1).ipynb",
      "provenance": [],
      "include_colab_link": true
    }
  },
  "cells": [
    {
      "cell_type": "markdown",
      "metadata": {
        "id": "view-in-github",
        "colab_type": "text"
      },
      "source": [
        "<a href=\"https://colab.research.google.com/github/fabnancyuhp/RENDUPYTHONISFSTAT/blob/master/Ex3ReseauNeurone(1).ipynb\" target=\"_parent\"><img src=\"https://colab.research.google.com/assets/colab-badge.svg\" alt=\"Open In Colab\"/></a>"
      ]
    },
    {
      "cell_type": "markdown",
      "metadata": {
        "id": "7icmfzmGV-C6",
        "colab_type": "text"
      },
      "source": [
        "Question 1 :"
      ]
    },
    {
      "cell_type": "code",
      "metadata": {
        "scrolled": true,
        "id": "rFwOS_p0V-C_",
        "colab_type": "code",
        "colab": {},
        "outputId": "bff78fbf-ee9a-478d-adbd-971ab373ba55"
      },
      "source": [
        "import pandas as pd\n",
        "import numpy as np\n",
        "rep = \"C:/Users/kraepa19/Downloads/credit.pkl\"\n",
        "DATA_CREDIT = pd.read_pickle(rep)\n",
        "DATA_CREDIT['A16'].loc[(DATA_CREDIT['A16']=='+')]=1\n",
        "DATA_CREDIT['A16'].loc[(DATA_CREDIT['A16']=='-')]=0\n",
        "DATA_CREDIT.head(2)"
      ],
      "execution_count": 0,
      "outputs": [
        {
          "output_type": "stream",
          "text": [
            "C:\\ProgramData\\Anaconda3\\lib\\site-packages\\pandas\\core\\indexing.py:205: SettingWithCopyWarning: \n",
            "A value is trying to be set on a copy of a slice from a DataFrame\n",
            "\n",
            "See the caveats in the documentation: http://pandas.pydata.org/pandas-docs/stable/user_guide/indexing.html#returning-a-view-versus-a-copy\n",
            "  self._setitem_with_indexer(indexer, value)\n"
          ],
          "name": "stderr"
        },
        {
          "output_type": "execute_result",
          "data": {
            "text/html": [
              "<div>\n",
              "<style scoped>\n",
              "    .dataframe tbody tr th:only-of-type {\n",
              "        vertical-align: middle;\n",
              "    }\n",
              "\n",
              "    .dataframe tbody tr th {\n",
              "        vertical-align: top;\n",
              "    }\n",
              "\n",
              "    .dataframe thead th {\n",
              "        text-align: right;\n",
              "    }\n",
              "</style>\n",
              "<table border=\"1\" class=\"dataframe\">\n",
              "  <thead>\n",
              "    <tr style=\"text-align: right;\">\n",
              "      <th></th>\n",
              "      <th>A2</th>\n",
              "      <th>A3</th>\n",
              "      <th>A8</th>\n",
              "      <th>A11</th>\n",
              "      <th>A14</th>\n",
              "      <th>A15</th>\n",
              "      <th>A1_a</th>\n",
              "      <th>A1_b</th>\n",
              "      <th>A4_l</th>\n",
              "      <th>A4_u</th>\n",
              "      <th>...</th>\n",
              "      <th>A9_f</th>\n",
              "      <th>A9_t</th>\n",
              "      <th>A10_f</th>\n",
              "      <th>A10_t</th>\n",
              "      <th>A12_f</th>\n",
              "      <th>A12_t</th>\n",
              "      <th>A13_g</th>\n",
              "      <th>A13_p</th>\n",
              "      <th>A13_s</th>\n",
              "      <th>A16</th>\n",
              "    </tr>\n",
              "  </thead>\n",
              "  <tbody>\n",
              "    <tr>\n",
              "      <td>0</td>\n",
              "      <td>30.83</td>\n",
              "      <td>0.00</td>\n",
              "      <td>1.25</td>\n",
              "      <td>1.0</td>\n",
              "      <td>202.0</td>\n",
              "      <td>0.0</td>\n",
              "      <td>0</td>\n",
              "      <td>1</td>\n",
              "      <td>0</td>\n",
              "      <td>1</td>\n",
              "      <td>...</td>\n",
              "      <td>0</td>\n",
              "      <td>1</td>\n",
              "      <td>0</td>\n",
              "      <td>1</td>\n",
              "      <td>1</td>\n",
              "      <td>0</td>\n",
              "      <td>1</td>\n",
              "      <td>0</td>\n",
              "      <td>0</td>\n",
              "      <td>1</td>\n",
              "    </tr>\n",
              "    <tr>\n",
              "      <td>1</td>\n",
              "      <td>58.67</td>\n",
              "      <td>4.46</td>\n",
              "      <td>3.04</td>\n",
              "      <td>6.0</td>\n",
              "      <td>43.0</td>\n",
              "      <td>560.0</td>\n",
              "      <td>1</td>\n",
              "      <td>0</td>\n",
              "      <td>0</td>\n",
              "      <td>1</td>\n",
              "      <td>...</td>\n",
              "      <td>0</td>\n",
              "      <td>1</td>\n",
              "      <td>0</td>\n",
              "      <td>1</td>\n",
              "      <td>1</td>\n",
              "      <td>0</td>\n",
              "      <td>1</td>\n",
              "      <td>0</td>\n",
              "      <td>0</td>\n",
              "      <td>1</td>\n",
              "    </tr>\n",
              "  </tbody>\n",
              "</table>\n",
              "<p>2 rows × 47 columns</p>\n",
              "</div>"
            ],
            "text/plain": [
              "      A2    A3    A8  A11    A14    A15  A1_a  A1_b  A4_l  A4_u  ...  A9_f  \\\n",
              "0  30.83  0.00  1.25  1.0  202.0    0.0     0     1     0     1  ...     0   \n",
              "1  58.67  4.46  3.04  6.0   43.0  560.0     1     0     0     1  ...     0   \n",
              "\n",
              "   A9_t  A10_f  A10_t  A12_f  A12_t  A13_g  A13_p  A13_s  A16  \n",
              "0     1      0      1      1      0      1      0      0    1  \n",
              "1     1      0      1      1      0      1      0      0    1  \n",
              "\n",
              "[2 rows x 47 columns]"
            ]
          },
          "metadata": {
            "tags": []
          },
          "execution_count": 41
        }
      ]
    },
    {
      "cell_type": "code",
      "metadata": {
        "id": "aWb1RmVHV-DM",
        "colab_type": "code",
        "colab": {}
      },
      "source": [
        "\n",
        "from sklearn.model_selection import train_test_split\n",
        "var_feature = [o for o in DATA_CREDIT.columns if o!='A16']\n",
        "X = DATA_CREDIT[var_feature]\n",
        "Y = DATA_CREDIT['A16']\n",
        "X_train, X_test, Y_train, Y_test = train_test_split(X,Y,test_size=0.25,\\\n",
        "random_state=2018)"
      ],
      "execution_count": 0,
      "outputs": []
    },
    {
      "cell_type": "markdown",
      "metadata": {
        "id": "OYsHHzzEV-DT",
        "colab_type": "text"
      },
      "source": [
        "Question 2 :"
      ]
    },
    {
      "cell_type": "code",
      "metadata": {
        "id": "B_iv0BQ9V-DV",
        "colab_type": "code",
        "colab": {},
        "outputId": "e2490dcb-e584-4ec6-bd42-3c6e301659bc"
      },
      "source": [
        "from sklearn.preprocessing import StandardScaler\n",
        "scale = StandardScaler()\n",
        "scale.fit(X_train)\n",
        "X_train_scal = scale.transform(X_train)\n",
        "X_test_scal = scale.transform(X_test)\n",
        "\n",
        "from sklearn.neural_network import MLPClassifier\n",
        "NN1 = MLPClassifier(hidden_layer_sizes=(10,8),activation='logistic',solver='lbfgs',random_state = 2018, max_iter=500)\n",
        "NN1.fit(X_train_scal,Y_train)"
      ],
      "execution_count": 0,
      "outputs": [
        {
          "output_type": "execute_result",
          "data": {
            "text/plain": [
              "MLPClassifier(activation='logistic', alpha=0.0001, batch_size='auto',\n",
              "              beta_1=0.9, beta_2=0.999, early_stopping=False, epsilon=1e-08,\n",
              "              hidden_layer_sizes=(10, 8), learning_rate='constant',\n",
              "              learning_rate_init=0.001, max_iter=500, momentum=0.9,\n",
              "              n_iter_no_change=10, nesterovs_momentum=True, power_t=0.5,\n",
              "              random_state=2018, shuffle=True, solver='lbfgs', tol=0.0001,\n",
              "              validation_fraction=0.1, verbose=False, warm_start=False)"
            ]
          },
          "metadata": {
            "tags": []
          },
          "execution_count": 43
        }
      ]
    },
    {
      "cell_type": "markdown",
      "metadata": {
        "id": "LSfdSFreV-Db",
        "colab_type": "text"
      },
      "source": [
        "Question 3 :"
      ]
    },
    {
      "cell_type": "code",
      "metadata": {
        "id": "1g9GiWA3V-Dc",
        "colab_type": "code",
        "colab": {},
        "outputId": "a39f9cdc-c13f-48c9-f59f-055b19dd11df"
      },
      "source": [
        "Y_pred = NN1.predict(X_test_scal)\n",
        "\n",
        "from sklearn.metrics import accuracy_score\n",
        "accuracy = accuracy_score(Y_test,Y_pred)\n",
        "accuracy"
      ],
      "execution_count": 0,
      "outputs": [
        {
          "output_type": "execute_result",
          "data": {
            "text/plain": [
              "0.8536585365853658"
            ]
          },
          "metadata": {
            "tags": []
          },
          "execution_count": 44
        }
      ]
    },
    {
      "cell_type": "markdown",
      "metadata": {
        "id": "V2a0Bcw3V-Di",
        "colab_type": "text"
      },
      "source": [
        "Question 4 :"
      ]
    },
    {
      "cell_type": "code",
      "metadata": {
        "id": "iWWFDhHhV-Dj",
        "colab_type": "code",
        "colab": {},
        "outputId": "e0025caf-c043-40d1-9adb-5363a762bf46"
      },
      "source": [
        "Y_test_score_proba=NN1.predict_proba(X_test_scal)[:,1]\n",
        "\n",
        "import numpy as np\n",
        "from sklearn.metrics import roc_auc_score\n",
        "roc_auc_score(Y_test, Y_test_score_proba)"
      ],
      "execution_count": 0,
      "outputs": [
        {
          "output_type": "execute_result",
          "data": {
            "text/plain": [
              "0.8050455291834601"
            ]
          },
          "metadata": {
            "tags": []
          },
          "execution_count": 45
        }
      ]
    },
    {
      "cell_type": "markdown",
      "metadata": {
        "id": "nyNTohwsV-Dt",
        "colab_type": "text"
      },
      "source": [
        "Question 5 :"
      ]
    },
    {
      "cell_type": "code",
      "metadata": {
        "id": "uIr-iJHCV-Dv",
        "colab_type": "code",
        "colab": {},
        "outputId": "2339e132-5635-44e7-9962-8edbf20333a8"
      },
      "source": [
        "NN2 = MLPClassifier(hidden_layer_sizes=(10,5,8),activation='logistic',solver='lbfgs',random_state = 2018)\n",
        "NN2.fit(X_train_scal,Y_train)"
      ],
      "execution_count": 0,
      "outputs": [
        {
          "output_type": "execute_result",
          "data": {
            "text/plain": [
              "MLPClassifier(activation='logistic', alpha=0.0001, batch_size='auto',\n",
              "              beta_1=0.9, beta_2=0.999, early_stopping=False, epsilon=1e-08,\n",
              "              hidden_layer_sizes=(10, 5, 8), learning_rate='constant',\n",
              "              learning_rate_init=0.001, max_iter=200, momentum=0.9,\n",
              "              n_iter_no_change=10, nesterovs_momentum=True, power_t=0.5,\n",
              "              random_state=2018, shuffle=True, solver='lbfgs', tol=0.0001,\n",
              "              validation_fraction=0.1, verbose=False, warm_start=False)"
            ]
          },
          "metadata": {
            "tags": []
          },
          "execution_count": 46
        }
      ]
    },
    {
      "cell_type": "markdown",
      "metadata": {
        "id": "LOastu64V-D1",
        "colab_type": "text"
      },
      "source": [
        "Question 6 :"
      ]
    },
    {
      "cell_type": "code",
      "metadata": {
        "scrolled": true,
        "id": "QSrqOqR5V-D2",
        "colab_type": "code",
        "colab": {},
        "outputId": "d8353a44-9ebe-4353-f84e-b36df2240708"
      },
      "source": [
        "Y_pred = NN2.predict(X_test_scal)\n",
        "\n",
        "from sklearn.metrics import accuracy_score\n",
        "accuracy = accuracy_score(Y_test,Y_pred)\n",
        "accuracy"
      ],
      "execution_count": 0,
      "outputs": [
        {
          "output_type": "execute_result",
          "data": {
            "text/plain": [
              "0.8475609756097561"
            ]
          },
          "metadata": {
            "tags": []
          },
          "execution_count": 47
        }
      ]
    },
    {
      "cell_type": "markdown",
      "metadata": {
        "id": "IhayAAnwV-D7",
        "colab_type": "text"
      },
      "source": [
        "Question 7 :"
      ]
    },
    {
      "cell_type": "code",
      "metadata": {
        "id": "pV5NeamVV-D9",
        "colab_type": "code",
        "colab": {},
        "outputId": "0c5b0c40-870e-4b55-df85-cfb1f8ef1611"
      },
      "source": [
        "Y_test_score_proba=NN2.predict_proba(X_test_scal)[:,1]\n",
        "\n",
        "import numpy as np\n",
        "from sklearn.metrics import roc_auc_score\n",
        "roc_auc_score(Y_test, Y_test_score_proba)"
      ],
      "execution_count": 0,
      "outputs": [
        {
          "output_type": "execute_result",
          "data": {
            "text/plain": [
              "0.7928048962531721"
            ]
          },
          "metadata": {
            "tags": []
          },
          "execution_count": 48
        }
      ]
    },
    {
      "cell_type": "markdown",
      "metadata": {
        "id": "oONu9_yOV-ED",
        "colab_type": "text"
      },
      "source": [
        "Question 8 :"
      ]
    },
    {
      "cell_type": "markdown",
      "metadata": {
        "id": "ZOmnX88IV-EF",
        "colab_type": "text"
      },
      "source": [
        "Le paramètre solver correspond à la fonction d'optimisation utilisée par de réseau de neurones"
      ]
    },
    {
      "cell_type": "markdown",
      "metadata": {
        "id": "SMiLs0JoV-EG",
        "colab_type": "text"
      },
      "source": [
        "Question 9 :"
      ]
    },
    {
      "cell_type": "code",
      "metadata": {
        "id": "tPzytMdOV-EI",
        "colab_type": "code",
        "colab": {},
        "outputId": "c70cc5fe-e065-4a68-a656-264196dd1d7c"
      },
      "source": [
        "from sklearn.metrics import roc_curve, auc\n",
        "fpr1, tpr1, threshold1 = roc_curve(Y_test,NN1.predict_proba(X_test)[:,1])\n",
        "fpr2, tpr2, threshold2 = roc_curve(Y_test,NN2.predict_proba(X_test)[:,1])\n",
        "import matplotlib.pyplot as plt\n",
        "plt.plot(fpr1,tpr1,label=\"NN1 AUC:\"+str(auc(fpr1,tpr1)))\n",
        "plt.plot(fpr2,tpr2,label=\"NN2 AUC:\"+str(auc(fpr2,tpr2)))\n",
        "plt.plot([0,1],[0,1],linestyle='--')\n",
        "plt.title('courbes ROC')\n",
        "plt.legend(loc=4)\n",
        "plt.show()"
      ],
      "execution_count": 0,
      "outputs": [
        {
          "output_type": "display_data",
          "data": {
            "image/png": "[encoded data removed]",
            "text/plain": [
              "<Figure size 432x288 with 1 Axes>"
            ]
          },
          "metadata": {
            "tags": [],
            "needs_background": "light"
          }
        }
      ]
    },
    {
      "cell_type": "code",
      "metadata": {
        "id": "NritQ4V_V-EM",
        "colab_type": "code",
        "colab": {}
      },
      "source": [
        ""
      ],
      "execution_count": 0,
      "outputs": []
    }
  ]
}